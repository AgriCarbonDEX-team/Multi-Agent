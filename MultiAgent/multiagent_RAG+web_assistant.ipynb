{
  "cells": [
    {
      "cell_type": "markdown",
      "metadata": {
        "id": "n8bL68uYga-z"
      },
      "source": []
    },
    {
      "cell_type": "code",
      "execution_count": 66,
      "metadata": {
        "id": "uXwGQS2rga-2",
        "colab": {
          "base_uri": "https://localhost:8080/"
        },
        "outputId": "d2eacf55-5b68-4ad5-cfbe-2636544d8b3d"
      },
      "outputs": [
        {
          "output_type": "stream",
          "name": "stdout",
          "text": [
            "Requirement already satisfied: langchain in /usr/local/lib/python3.11/dist-packages (0.3.25)\n",
            "Requirement already satisfied: unstructured in /usr/local/lib/python3.11/dist-packages (0.17.2)\n",
            "Requirement already satisfied: python-docx in /usr/local/lib/python3.11/dist-packages (1.2.0)\n",
            "Requirement already satisfied: langchain-core<1.0.0,>=0.3.58 in /usr/local/lib/python3.11/dist-packages (from langchain) (0.3.65)\n",
            "Requirement already satisfied: langchain-text-splitters<1.0.0,>=0.3.8 in /usr/local/lib/python3.11/dist-packages (from langchain) (0.3.8)\n",
            "Requirement already satisfied: langsmith<0.4,>=0.1.17 in /usr/local/lib/python3.11/dist-packages (from langchain) (0.3.45)\n",
            "Requirement already satisfied: pydantic<3.0.0,>=2.7.4 in /usr/local/lib/python3.11/dist-packages (from langchain) (2.11.7)\n",
            "Requirement already satisfied: SQLAlchemy<3,>=1.4 in /usr/local/lib/python3.11/dist-packages (from langchain) (2.0.41)\n",
            "Requirement already satisfied: requests<3,>=2 in /usr/local/lib/python3.11/dist-packages (from langchain) (2.32.3)\n",
            "Requirement already satisfied: PyYAML>=5.3 in /usr/local/lib/python3.11/dist-packages (from langchain) (6.0.2)\n",
            "Requirement already satisfied: chardet in /usr/local/lib/python3.11/dist-packages (from unstructured) (5.2.0)\n",
            "Requirement already satisfied: filetype in /usr/local/lib/python3.11/dist-packages (from unstructured) (1.2.0)\n",
            "Requirement already satisfied: python-magic in /usr/local/lib/python3.11/dist-packages (from unstructured) (0.4.27)\n",
            "Requirement already satisfied: lxml in /usr/local/lib/python3.11/dist-packages (from unstructured) (5.4.0)\n",
            "Requirement already satisfied: nltk in /usr/local/lib/python3.11/dist-packages (from unstructured) (3.9.1)\n",
            "Requirement already satisfied: beautifulsoup4 in /usr/local/lib/python3.11/dist-packages (from unstructured) (4.13.4)\n",
            "Requirement already satisfied: emoji in /usr/local/lib/python3.11/dist-packages (from unstructured) (2.14.1)\n",
            "Requirement already satisfied: dataclasses-json in /usr/local/lib/python3.11/dist-packages (from unstructured) (0.6.7)\n",
            "Requirement already satisfied: python-iso639 in /usr/local/lib/python3.11/dist-packages (from unstructured) (2025.2.18)\n",
            "Requirement already satisfied: langdetect in /usr/local/lib/python3.11/dist-packages (from unstructured) (1.0.9)\n",
            "Requirement already satisfied: numpy in /usr/local/lib/python3.11/dist-packages (from unstructured) (2.0.2)\n",
            "Requirement already satisfied: rapidfuzz in /usr/local/lib/python3.11/dist-packages (from unstructured) (3.13.0)\n",
            "Requirement already satisfied: backoff in /usr/local/lib/python3.11/dist-packages (from unstructured) (2.2.1)\n",
            "Requirement already satisfied: typing-extensions in /usr/local/lib/python3.11/dist-packages (from unstructured) (4.14.0)\n",
            "Requirement already satisfied: unstructured-client in /usr/local/lib/python3.11/dist-packages (from unstructured) (0.36.0)\n",
            "Requirement already satisfied: wrapt in /usr/local/lib/python3.11/dist-packages (from unstructured) (1.17.2)\n",
            "Requirement already satisfied: tqdm in /usr/local/lib/python3.11/dist-packages (from unstructured) (4.67.1)\n",
            "Requirement already satisfied: psutil in /usr/local/lib/python3.11/dist-packages (from unstructured) (5.9.5)\n",
            "Requirement already satisfied: python-oxmsg in /usr/local/lib/python3.11/dist-packages (from unstructured) (0.0.2)\n",
            "Requirement already satisfied: html5lib in /usr/local/lib/python3.11/dist-packages (from unstructured) (1.1)\n",
            "Requirement already satisfied: tenacity!=8.4.0,<10.0.0,>=8.1.0 in /usr/local/lib/python3.11/dist-packages (from langchain-core<1.0.0,>=0.3.58->langchain) (9.1.2)\n",
            "Requirement already satisfied: jsonpatch<2.0,>=1.33 in /usr/local/lib/python3.11/dist-packages (from langchain-core<1.0.0,>=0.3.58->langchain) (1.33)\n",
            "Requirement already satisfied: packaging<25,>=23.2 in /usr/local/lib/python3.11/dist-packages (from langchain-core<1.0.0,>=0.3.58->langchain) (24.2)\n",
            "Requirement already satisfied: httpx<1,>=0.23.0 in /usr/local/lib/python3.11/dist-packages (from langsmith<0.4,>=0.1.17->langchain) (0.28.1)\n",
            "Requirement already satisfied: orjson<4.0.0,>=3.9.14 in /usr/local/lib/python3.11/dist-packages (from langsmith<0.4,>=0.1.17->langchain) (3.10.18)\n",
            "Requirement already satisfied: requests-toolbelt<2.0.0,>=1.0.0 in /usr/local/lib/python3.11/dist-packages (from langsmith<0.4,>=0.1.17->langchain) (1.0.0)\n",
            "Requirement already satisfied: zstandard<0.24.0,>=0.23.0 in /usr/local/lib/python3.11/dist-packages (from langsmith<0.4,>=0.1.17->langchain) (0.23.0)\n",
            "Requirement already satisfied: annotated-types>=0.6.0 in /usr/local/lib/python3.11/dist-packages (from pydantic<3.0.0,>=2.7.4->langchain) (0.7.0)\n",
            "Requirement already satisfied: pydantic-core==2.33.2 in /usr/local/lib/python3.11/dist-packages (from pydantic<3.0.0,>=2.7.4->langchain) (2.33.2)\n",
            "Requirement already satisfied: typing-inspection>=0.4.0 in /usr/local/lib/python3.11/dist-packages (from pydantic<3.0.0,>=2.7.4->langchain) (0.4.1)\n",
            "Requirement already satisfied: charset-normalizer<4,>=2 in /usr/local/lib/python3.11/dist-packages (from requests<3,>=2->langchain) (3.4.2)\n",
            "Requirement already satisfied: idna<4,>=2.5 in /usr/local/lib/python3.11/dist-packages (from requests<3,>=2->langchain) (3.10)\n",
            "Requirement already satisfied: urllib3<3,>=1.21.1 in /usr/local/lib/python3.11/dist-packages (from requests<3,>=2->langchain) (2.4.0)\n",
            "Requirement already satisfied: certifi>=2017.4.17 in /usr/local/lib/python3.11/dist-packages (from requests<3,>=2->langchain) (2025.6.15)\n",
            "Requirement already satisfied: greenlet>=1 in /usr/local/lib/python3.11/dist-packages (from SQLAlchemy<3,>=1.4->langchain) (3.2.3)\n",
            "Requirement already satisfied: soupsieve>1.2 in /usr/local/lib/python3.11/dist-packages (from beautifulsoup4->unstructured) (2.7)\n",
            "Requirement already satisfied: marshmallow<4.0.0,>=3.18.0 in /usr/local/lib/python3.11/dist-packages (from dataclasses-json->unstructured) (3.26.1)\n",
            "Requirement already satisfied: typing-inspect<1,>=0.4.0 in /usr/local/lib/python3.11/dist-packages (from dataclasses-json->unstructured) (0.9.0)\n",
            "Requirement already satisfied: six>=1.9 in /usr/local/lib/python3.11/dist-packages (from html5lib->unstructured) (1.17.0)\n",
            "Requirement already satisfied: webencodings in /usr/local/lib/python3.11/dist-packages (from html5lib->unstructured) (0.5.1)\n",
            "Requirement already satisfied: click in /usr/local/lib/python3.11/dist-packages (from nltk->unstructured) (8.2.1)\n",
            "Requirement already satisfied: joblib in /usr/local/lib/python3.11/dist-packages (from nltk->unstructured) (1.5.1)\n",
            "Requirement already satisfied: regex>=2021.8.3 in /usr/local/lib/python3.11/dist-packages (from nltk->unstructured) (2024.11.6)\n",
            "Requirement already satisfied: olefile in /usr/local/lib/python3.11/dist-packages (from python-oxmsg->unstructured) (0.47)\n",
            "Requirement already satisfied: aiofiles>=24.1.0 in /usr/local/lib/python3.11/dist-packages (from unstructured-client->unstructured) (24.1.0)\n",
            "Requirement already satisfied: cryptography>=3.1 in /usr/local/lib/python3.11/dist-packages (from unstructured-client->unstructured) (43.0.3)\n",
            "Requirement already satisfied: nest-asyncio>=1.6.0 in /usr/local/lib/python3.11/dist-packages (from unstructured-client->unstructured) (1.6.0)\n",
            "Requirement already satisfied: pypdf>=4.0 in /usr/local/lib/python3.11/dist-packages (from unstructured-client->unstructured) (5.6.0)\n",
            "Requirement already satisfied: cffi>=1.12 in /usr/local/lib/python3.11/dist-packages (from cryptography>=3.1->unstructured-client->unstructured) (1.17.1)\n",
            "Requirement already satisfied: anyio in /usr/local/lib/python3.11/dist-packages (from httpx<1,>=0.23.0->langsmith<0.4,>=0.1.17->langchain) (4.9.0)\n",
            "Requirement already satisfied: httpcore==1.* in /usr/local/lib/python3.11/dist-packages (from httpx<1,>=0.23.0->langsmith<0.4,>=0.1.17->langchain) (1.0.9)\n",
            "Requirement already satisfied: h11>=0.16 in /usr/local/lib/python3.11/dist-packages (from httpcore==1.*->httpx<1,>=0.23.0->langsmith<0.4,>=0.1.17->langchain) (0.16.0)\n",
            "Requirement already satisfied: jsonpointer>=1.9 in /usr/local/lib/python3.11/dist-packages (from jsonpatch<2.0,>=1.33->langchain-core<1.0.0,>=0.3.58->langchain) (3.0.0)\n",
            "Requirement already satisfied: mypy-extensions>=0.3.0 in /usr/local/lib/python3.11/dist-packages (from typing-inspect<1,>=0.4.0->dataclasses-json->unstructured) (1.1.0)\n",
            "Requirement already satisfied: pycparser in /usr/local/lib/python3.11/dist-packages (from cffi>=1.12->cryptography>=3.1->unstructured-client->unstructured) (2.22)\n",
            "Requirement already satisfied: sniffio>=1.1 in /usr/local/lib/python3.11/dist-packages (from anyio->httpx<1,>=0.23.0->langsmith<0.4,>=0.1.17->langchain) (1.3.1)\n"
          ]
        }
      ],
      "source": [
        "!pip install markdownify duckduckgo-search smolagents --upgrade -q\n",
        "!pip install -qU langchain-community faiss-cpu\n",
        "!pip install langchain unstructured python-docx\n",
        "!pip install markdownify duckduckgo-search spaces gradio-tools langchain langchain-community langchain-huggingface faiss-cpu --upgrade -q\n",
        "\n"
      ]
    },
    {
      "cell_type": "markdown",
      "metadata": {
        "id": "85dyITqtga-3"
      },
      "source": [
        "Let's login in order to call the HF Inference API:"
      ]
    },
    {
      "cell_type": "markdown",
      "source": [
        "# 2. Let's create our multi-agent RAG system\n",
        "\n",
        "In this section, we will create each of the agents present in our RAG system.\n",
        "\n",
        "We will have 3 agents managed by a central one (refer to the image for details):\n",
        "\n",
        "* **🕵💬 Web search agent**: It will include the [`DuckDuckGoSearchTool`](https://github.com/huggingface/transformers/blob/main/src/transformers/agents/search.py) tool and the [`VisitWebpageTool`](https://github.com/huggingface/transformers/blob/main/src/transformers/agents/search.py). As you can see, each agent may contain a list of tools.\n",
        "* **🕵💬 Retriever agent**: It will include two tools for retrieving information from two different knowledge bases."
      ],
      "metadata": {
        "id": "o4JVz4VoKg2o"
      }
    },
    {
      "cell_type": "code",
      "execution_count": 67,
      "metadata": {
        "id": "D8Gl5aJMga-6"
      },
      "outputs": [],
      "source": [
        "import re\n",
        "import requests\n",
        "from markdownify import markdownify as md\n",
        "from requests.exceptions import RequestException\n",
        "from smolagents import tool\n",
        "\n",
        "\n",
        "@tool\n",
        "def visit_webpage(url: str) -> str:\n",
        "    \"\"\"Visits a webpage at the given URL and returns its content as a markdown string.\n",
        "\n",
        "    Args:\n",
        "        url: The URL of the webpage to visit.\n",
        "\n",
        "    Returns:\n",
        "        The content of the webpage converted to Markdown, or an error message if the request fails.\n",
        "    \"\"\"\n",
        "    try:\n",
        "        # Send a GET request to the URL\n",
        "        response = requests.get(url)\n",
        "        response.raise_for_status()  # Raise an exception for bad status codes\n",
        "\n",
        "        # Convert the HTML content to Markdown\n",
        "        markdown_content = md(response.text).strip()\n",
        "\n",
        "        # Remove multiple line breaks\n",
        "        markdown_content = re.sub(r\"\\n{3,}\", \"\\n\\n\", markdown_content)\n",
        "\n",
        "        return markdown_content\n",
        "\n",
        "    except RequestException as e:\n",
        "        return f\"Error fetching the webpage: {str(e)}\"\n",
        "    except Exception as e:\n",
        "        return f\"An unexpected error occurred: {str(e)}\""
      ]
    },
    {
      "cell_type": "markdown",
      "metadata": {
        "id": "Z25sR4oPga-6"
      },
      "source": [
        "Ok, now let's initialize and test our tool!"
      ]
    },
    {
      "cell_type": "code",
      "execution_count": null,
      "metadata": {
        "id": "5Yo5ijVwga-7",
        "outputId": "d3ce86d8-a984-4f81-da50-a1465fc4ddb4",
        "colab": {
          "base_uri": "https://localhost:8080/"
        }
      },
      "outputs": [
        {
          "output_type": "stream",
          "name": "stdout",
          "text": [
            "Trang chủ | NetZero.VN - Net Zero Viet Nam\n",
            "\n",
            " \n",
            "\n",
            "By using this site, you agree to the [Privacy Policy](#) and [Terms of Use](#).\n",
            "\n",
            "[Accept](#)\n",
            "\n",
            "[![NetZero.VN - Net Zero Viet Nam](https://netzero.vn/wp-content/uploads/2023/10/netzero_vn.png)![NetZero.VN - Net Zero Viet Nam](https://netzero.vn/wp-content/uploads/2023/10/netzero_vn.png)![NetZero.VN - Net Zero Viet Nam](https://netzero.vn/wp-content/uploads/2023/10/netzero_vn-trans.png)\n",
            "\n",
            "NetZero.VN - Net Zero Viet Nam\n",
            "==============================\n",
            "\n",
            "Vi\n"
          ]
        }
      ],
      "source": [
        "print(visit_webpage(\"https://netzero.vn/\")[:500])"
      ]
    },
    {
      "cell_type": "markdown",
      "metadata": {
        "id": "r-FSXdq7ga-8"
      },
      "source": [
        "## Build our multi-agent system 🤖🤝🤖\n"
      ]
    },
    {
      "cell_type": "code",
      "execution_count": 105,
      "metadata": {
        "id": "VLTT8_SDga-8"
      },
      "outputs": [],
      "source": [
        "from smolagents import (\n",
        "    ToolCallingAgent,\n",
        "    InferenceClientModel,\n",
        "    DuckDuckGoSearchTool,\n",
        "    MultiStepAgent\n",
        ")\n",
        "\n",
        "# Khởi tạo model\n",
        "model = InferenceClientModel(\"Qwen/Qwen2.5-7B-Instruct\")\n",
        "\n",
        "search_agent = ToolCallingAgent(\n",
        "    tools=[DuckDuckGoSearchTool(), visit_webpage],  # This is good!\n",
        "    model=model,\n",
        "    name=\"search_agent\",\n",
        "    description=\"Runs web searches for you. Give it your query as an argument.\"\n",
        ")\n"
      ]
    },
    {
      "cell_type": "code",
      "execution_count": null,
      "metadata": {
        "id": "3nWN8OMtga-9",
        "outputId": "bd1ef9cc-c179-4c5b-c098-ea0d7b1fe5af",
        "colab": {
          "base_uri": "https://localhost:8080/",
          "height": 1000
        }
      },
      "outputs": [
        {
          "output_type": "display_data",
          "data": {
            "text/plain": [
              "\u001b[38;2;212;183;2m╭─\u001b[0m\u001b[38;2;212;183;2m───────────────────────────────────────────\u001b[0m\u001b[38;2;212;183;2m \u001b[0m\u001b[1;38;2;212;183;2mNew run - search_agent\u001b[0m\u001b[38;2;212;183;2m \u001b[0m\u001b[38;2;212;183;2m────────────────────────────────────────────\u001b[0m\u001b[38;2;212;183;2m─╮\u001b[0m\n",
              "\u001b[38;2;212;183;2m│\u001b[0m                                                                                                                 \u001b[38;2;212;183;2m│\u001b[0m\n",
              "\u001b[38;2;212;183;2m│\u001b[0m \u001b[1mYou're a helpful agent named 'search_agent'.\u001b[0m                                                                    \u001b[38;2;212;183;2m│\u001b[0m\n",
              "\u001b[38;2;212;183;2m│\u001b[0m \u001b[1mYou have been submitted this task by your manager.\u001b[0m                                                              \u001b[38;2;212;183;2m│\u001b[0m\n",
              "\u001b[38;2;212;183;2m│\u001b[0m \u001b[1m---\u001b[0m                                                                                                             \u001b[38;2;212;183;2m│\u001b[0m\n",
              "\u001b[38;2;212;183;2m│\u001b[0m \u001b[1mTask:\u001b[0m                                                                                                           \u001b[38;2;212;183;2m│\u001b[0m\n",
              "\u001b[38;2;212;183;2m│\u001b[0m \u001b[1mnet zero là gì vậy?\u001b[0m                                                                                             \u001b[38;2;212;183;2m│\u001b[0m\n",
              "\u001b[38;2;212;183;2m│\u001b[0m \u001b[1m---\u001b[0m                                                                                                             \u001b[38;2;212;183;2m│\u001b[0m\n",
              "\u001b[38;2;212;183;2m│\u001b[0m \u001b[1mYou're helping your manager solve a wider task: so make sure to not provide a one-line answer, but give as much\u001b[0m \u001b[38;2;212;183;2m│\u001b[0m\n",
              "\u001b[38;2;212;183;2m│\u001b[0m \u001b[1minformation as possible to give them a clear understanding of the answer.\u001b[0m                                       \u001b[38;2;212;183;2m│\u001b[0m\n",
              "\u001b[38;2;212;183;2m│\u001b[0m                                                                                                                 \u001b[38;2;212;183;2m│\u001b[0m\n",
              "\u001b[38;2;212;183;2m│\u001b[0m \u001b[1mYour final_answer WILL HAVE to contain these parts:\u001b[0m                                                             \u001b[38;2;212;183;2m│\u001b[0m\n",
              "\u001b[38;2;212;183;2m│\u001b[0m \u001b[1m### 1. Task outcome (short version):\u001b[0m                                                                            \u001b[38;2;212;183;2m│\u001b[0m\n",
              "\u001b[38;2;212;183;2m│\u001b[0m \u001b[1m### 2. Task outcome (extremely detailed version):\u001b[0m                                                               \u001b[38;2;212;183;2m│\u001b[0m\n",
              "\u001b[38;2;212;183;2m│\u001b[0m \u001b[1m### 3. Additional context (if relevant):\u001b[0m                                                                        \u001b[38;2;212;183;2m│\u001b[0m\n",
              "\u001b[38;2;212;183;2m│\u001b[0m                                                                                                                 \u001b[38;2;212;183;2m│\u001b[0m\n",
              "\u001b[38;2;212;183;2m│\u001b[0m \u001b[1mPut all these in your final_answer tool, everything that you do not pass as an argument to final_answer will be\u001b[0m \u001b[38;2;212;183;2m│\u001b[0m\n",
              "\u001b[38;2;212;183;2m│\u001b[0m \u001b[1mlost.\u001b[0m                                                                                                           \u001b[38;2;212;183;2m│\u001b[0m\n",
              "\u001b[38;2;212;183;2m│\u001b[0m \u001b[1mAnd even if your task resolution is not successful, please return as much context as possible, so that your \u001b[0m    \u001b[38;2;212;183;2m│\u001b[0m\n",
              "\u001b[38;2;212;183;2m│\u001b[0m \u001b[1mmanager can act upon this feedback.\u001b[0m                                                                             \u001b[38;2;212;183;2m│\u001b[0m\n",
              "\u001b[38;2;212;183;2m│\u001b[0m                                                                                                                 \u001b[38;2;212;183;2m│\u001b[0m\n",
              "\u001b[38;2;212;183;2m╰─\u001b[0m\u001b[38;2;212;183;2m InferenceClientModel - Qwen/Qwen2.5-7B-Instruct \u001b[0m\u001b[38;2;212;183;2m──────────────────────────────────────────────────────────────\u001b[0m\u001b[38;2;212;183;2m─╯\u001b[0m\n"
            ],
            "text/html": [
              "<pre style=\"white-space:pre;overflow-x:auto;line-height:normal;font-family:Menlo,'DejaVu Sans Mono',consolas,'Courier New',monospace\"><span style=\"color: #d4b702; text-decoration-color: #d4b702\">╭──────────────────────────────────────────── </span><span style=\"color: #d4b702; text-decoration-color: #d4b702; font-weight: bold\">New run - search_agent</span><span style=\"color: #d4b702; text-decoration-color: #d4b702\"> ─────────────────────────────────────────────╮</span>\n",
              "<span style=\"color: #d4b702; text-decoration-color: #d4b702\">│</span>                                                                                                                 <span style=\"color: #d4b702; text-decoration-color: #d4b702\">│</span>\n",
              "<span style=\"color: #d4b702; text-decoration-color: #d4b702\">│</span> <span style=\"font-weight: bold\">You're a helpful agent named 'search_agent'.</span>                                                                    <span style=\"color: #d4b702; text-decoration-color: #d4b702\">│</span>\n",
              "<span style=\"color: #d4b702; text-decoration-color: #d4b702\">│</span> <span style=\"font-weight: bold\">You have been submitted this task by your manager.</span>                                                              <span style=\"color: #d4b702; text-decoration-color: #d4b702\">│</span>\n",
              "<span style=\"color: #d4b702; text-decoration-color: #d4b702\">│</span> <span style=\"font-weight: bold\">---</span>                                                                                                             <span style=\"color: #d4b702; text-decoration-color: #d4b702\">│</span>\n",
              "<span style=\"color: #d4b702; text-decoration-color: #d4b702\">│</span> <span style=\"font-weight: bold\">Task:</span>                                                                                                           <span style=\"color: #d4b702; text-decoration-color: #d4b702\">│</span>\n",
              "<span style=\"color: #d4b702; text-decoration-color: #d4b702\">│</span> <span style=\"font-weight: bold\">net zero là gì vậy?</span>                                                                                             <span style=\"color: #d4b702; text-decoration-color: #d4b702\">│</span>\n",
              "<span style=\"color: #d4b702; text-decoration-color: #d4b702\">│</span> <span style=\"font-weight: bold\">---</span>                                                                                                             <span style=\"color: #d4b702; text-decoration-color: #d4b702\">│</span>\n",
              "<span style=\"color: #d4b702; text-decoration-color: #d4b702\">│</span> <span style=\"font-weight: bold\">You're helping your manager solve a wider task: so make sure to not provide a one-line answer, but give as much</span> <span style=\"color: #d4b702; text-decoration-color: #d4b702\">│</span>\n",
              "<span style=\"color: #d4b702; text-decoration-color: #d4b702\">│</span> <span style=\"font-weight: bold\">information as possible to give them a clear understanding of the answer.</span>                                       <span style=\"color: #d4b702; text-decoration-color: #d4b702\">│</span>\n",
              "<span style=\"color: #d4b702; text-decoration-color: #d4b702\">│</span>                                                                                                                 <span style=\"color: #d4b702; text-decoration-color: #d4b702\">│</span>\n",
              "<span style=\"color: #d4b702; text-decoration-color: #d4b702\">│</span> <span style=\"font-weight: bold\">Your final_answer WILL HAVE to contain these parts:</span>                                                             <span style=\"color: #d4b702; text-decoration-color: #d4b702\">│</span>\n",
              "<span style=\"color: #d4b702; text-decoration-color: #d4b702\">│</span> <span style=\"font-weight: bold\">### 1. Task outcome (short version):</span>                                                                            <span style=\"color: #d4b702; text-decoration-color: #d4b702\">│</span>\n",
              "<span style=\"color: #d4b702; text-decoration-color: #d4b702\">│</span> <span style=\"font-weight: bold\">### 2. Task outcome (extremely detailed version):</span>                                                               <span style=\"color: #d4b702; text-decoration-color: #d4b702\">│</span>\n",
              "<span style=\"color: #d4b702; text-decoration-color: #d4b702\">│</span> <span style=\"font-weight: bold\">### 3. Additional context (if relevant):</span>                                                                        <span style=\"color: #d4b702; text-decoration-color: #d4b702\">│</span>\n",
              "<span style=\"color: #d4b702; text-decoration-color: #d4b702\">│</span>                                                                                                                 <span style=\"color: #d4b702; text-decoration-color: #d4b702\">│</span>\n",
              "<span style=\"color: #d4b702; text-decoration-color: #d4b702\">│</span> <span style=\"font-weight: bold\">Put all these in your final_answer tool, everything that you do not pass as an argument to final_answer will be</span> <span style=\"color: #d4b702; text-decoration-color: #d4b702\">│</span>\n",
              "<span style=\"color: #d4b702; text-decoration-color: #d4b702\">│</span> <span style=\"font-weight: bold\">lost.</span>                                                                                                           <span style=\"color: #d4b702; text-decoration-color: #d4b702\">│</span>\n",
              "<span style=\"color: #d4b702; text-decoration-color: #d4b702\">│</span> <span style=\"font-weight: bold\">And even if your task resolution is not successful, please return as much context as possible, so that your </span>    <span style=\"color: #d4b702; text-decoration-color: #d4b702\">│</span>\n",
              "<span style=\"color: #d4b702; text-decoration-color: #d4b702\">│</span> <span style=\"font-weight: bold\">manager can act upon this feedback.</span>                                                                             <span style=\"color: #d4b702; text-decoration-color: #d4b702\">│</span>\n",
              "<span style=\"color: #d4b702; text-decoration-color: #d4b702\">│</span>                                                                                                                 <span style=\"color: #d4b702; text-decoration-color: #d4b702\">│</span>\n",
              "<span style=\"color: #d4b702; text-decoration-color: #d4b702\">╰─ InferenceClientModel - Qwen/Qwen2.5-7B-Instruct ───────────────────────────────────────────────────────────────╯</span>\n",
              "</pre>\n"
            ]
          },
          "metadata": {}
        },
        {
          "output_type": "display_data",
          "data": {
            "text/plain": [
              "\u001b[38;2;212;183;2m━━━━━━━━━━━━━━━━━━━━━━━━━━━━━━━━━━━━━━━━━━━━━━━━━━━━━ \u001b[0m\u001b[1mStep \u001b[0m\u001b[1;36m1\u001b[0m\u001b[38;2;212;183;2m ━━━━━━━━━━━━━━━━━━━━━━━━━━━━━━━━━━━━━━━━━━━━━━━━━━━━━━\u001b[0m\n"
            ],
            "text/html": [
              "<pre style=\"white-space:pre;overflow-x:auto;line-height:normal;font-family:Menlo,'DejaVu Sans Mono',consolas,'Courier New',monospace\"><span style=\"color: #d4b702; text-decoration-color: #d4b702\">━━━━━━━━━━━━━━━━━━━━━━━━━━━━━━━━━━━━━━━━━━━━━━━━━━━━━ </span><span style=\"font-weight: bold\">Step </span><span style=\"color: #008080; text-decoration-color: #008080; font-weight: bold\">1</span><span style=\"color: #d4b702; text-decoration-color: #d4b702\"> ━━━━━━━━━━━━━━━━━━━━━━━━━━━━━━━━━━━━━━━━━━━━━━━━━━━━━━</span>\n",
              "</pre>\n"
            ]
          },
          "metadata": {}
        },
        {
          "output_type": "stream",
          "name": "stderr",
          "text": [
            "/usr/local/lib/python3.11/dist-packages/huggingface_hub/utils/_auth.py:94: UserWarning: \n",
            "The secret `HF_TOKEN` does not exist in your Colab secrets.\n",
            "To authenticate with the Hugging Face Hub, create a token in your settings tab (https://huggingface.co/settings/tokens), set it as secret in your Google Colab and restart your session.\n",
            "You will be able to reuse this secret in all of your notebooks.\n",
            "Please note that authentication is recommended but still optional to access public models or datasets.\n",
            "  warnings.warn(\n"
          ]
        },
        {
          "output_type": "display_data",
          "data": {
            "text/plain": [
              "╭─────────────────────────────────────────────────────────────────────────────────────────────────────────────────╮\n",
              "│ Calling tool: 'web_search' with arguments: {'query': 'net zero là gì'}                                          │\n",
              "╰─────────────────────────────────────────────────────────────────────────────────────────────────────────────────╯\n"
            ],
            "text/html": [
              "<pre style=\"white-space:pre;overflow-x:auto;line-height:normal;font-family:Menlo,'DejaVu Sans Mono',consolas,'Courier New',monospace\">╭─────────────────────────────────────────────────────────────────────────────────────────────────────────────────╮\n",
              "│ Calling tool: 'web_search' with arguments: {'query': 'net zero là gì'}                                          │\n",
              "╰─────────────────────────────────────────────────────────────────────────────────────────────────────────────────╯\n",
              "</pre>\n"
            ]
          },
          "metadata": {}
        },
        {
          "output_type": "display_data",
          "data": {
            "text/plain": [
              "Observations: ## Search Results\n",
              "\n",
              "|Net Zero là gì? Tầm quan trọng và cách để đạt được\u001b[1m]\u001b[0m\u001b[1m(\u001b[0m\u001b[4;94mhttps://vnexpress.net/net-zero-la-gi-4794647.html\u001b[0m\u001b[4;94m)\u001b[0m\n",
              "Net Zero là gì? Net Zero \u001b[1m(\u001b[0mphát thải ròng bằng \u001b[1;36m0\u001b[0m\u001b[1m)\u001b[0m là trạng thái mà tổng lượng khí thải nhà kính trong hoạt động sản \n",
              "xuất, kinh doanh là \u001b[1;36m0\u001b[0m. Net Zero là trạng thái mà tổng lượng khí thải nhà kính bao gồm Carbon Dioxide \u001b[1m(\u001b[0mCO2\u001b[1m)\u001b[0m, Methane\n",
              "\u001b[1m(\u001b[0mCH4\u001b[1m)\u001b[0m, Nitrous oxide \u001b[1m(\u001b[0mN2O\u001b[1m)\u001b[0m, Hydrofluorocarbons \u001b[1m(\u001b[0mHFCs\u001b[1m)\u001b[0m bằng \u001b[1;36m0\u001b[0m.\n",
              "\n",
              "|Net Zero là gì? Sự cam kết phát thải ròng bằng \u001b[1;36m0\u001b[0m năm \n",
              "\u001b[1;36m2050\u001b[0m\u001b[1m]\u001b[0m\u001b[1m(\u001b[0m\u001b[4;94mhttps://www.pace.edu.vn/tin-kho-tri-thuc/net-zero-la-gi\u001b[0m\u001b[4;94m)\u001b[0m\n",
              "Net Zero là một mục tiêu môi trường nhằm giảm lượng phát thải khí nhà kính do con người xuống mức cân bằng với khả \n",
              "năng hấp thụ của Trái Đất đến năm \u001b[1;36m2050\u001b[0m. Bài viết này giải thích tầm quan trọng, cơ hội kinh tế và cách đạt được Net\n",
              "Zero của Việt Nam và thế giới.\n",
              "\n",
              "|NET ZERO LÀ GÌ\u001b[33m...\u001b[0mVÀ LÀM THẾ NÀO ĐỂ ĐẠT ĐƯỢC? | Bureau Veritas Việt \n",
              "Nam\u001b[1m]\u001b[0m\u001b[1m(\u001b[0m\u001b[4;94mhttps://www.bureauveritas.vn/insight/net-zero-la-gi-lam-the-nao-de-dat-duoc\u001b[0m\u001b[4;94m)\u001b[0m\n",
              "Net Zero là một mục tiêu tham vọng hơn so với Trung hòa Carbon, đạt được bằng cách cắt giảm lượng khí thải Carbon \n",
              "từ các nhà cung cấp đầu tiên đến người dùng cuối. Bài viết này giới thiệu các thuật ngữ liên quan, các khác biệt và\n",
              "các khó khăn trong việc áp dụng Net Zero.\n",
              "\n",
              "|Net zero là gì và các nước thực hiện ra sao? - BBC\u001b[1m]\u001b[0m\u001b[1m(\u001b[0m\u001b[4;94mhttps://www.bbc.com/vietnamese/world-58969160\u001b[0m\u001b[4;94m)\u001b[0m\n",
              "Đạt mục tiêu này là điều không dễ: để đạt net zero, toàn bộ khí thải từ nhà ở của chúng ta, cách chúng ta đi lại và\n",
              "những gì ta ăn đều bị ảnh \u001b[33m...\u001b[0m\n",
              "\n",
              "|Net zero là gì? Tầm quan trọng của phát thải ròng bằng \u001b[1;36m0\u001b[0m\u001b[1m]\u001b[0m\u001b[1m(\u001b[0m\u001b[4;94mhttps://fpt-is.com/goc-nhin-so/net-zero-la-gi/\u001b[0m\u001b[4;94m)\u001b[0m\n",
              "Net zero là kết quả của trạng thái cân bằng lượng khí thải nhà kính thải ra khí quyển, mục tiêu của biến đổi khí \n",
              "hậu. Bài viết này giải thích tiêu chí net zero, phân biệt net zero và carbon neutral, và các thách thức của việc \n",
              "đạt được net zero.\n",
              "\n",
              "|Net zero là gì? Phát thải ròng về \u001b[1;36m0\u001b[0m & Tất cả những điều cần \n",
              "biết\u001b[1m]\u001b[0m\u001b[1m(\u001b[0m\u001b[4;94mhttps://khangducconst.com/knowledge-base/net-zero-la-gi-tat-ca-nhung-dieu-can-biet/\u001b[0m\u001b[4;94m)\u001b[0m\n",
              "Net Zero là trạng thái không phát thải carbon dioxide hoặc không thêm vào tổng lượng khí nhà kính thải ra khí \n",
              "quyển. Bài viết này giải thích nghĩa, ưu nhược điểm, cách đạt được mục tiêu Net Zero và các khác biệt giữa Net Zero\n",
              "và năng lượng tái tạo.\n",
              "\n",
              "|Mục tiêu Net Zero là gì? - som.edu.vn\u001b[1m]\u001b[0m\u001b[1m(\u001b[0m\u001b[4;94mhttps://som.edu.vn/muc-tieu-net-zero-la-gi/\u001b[0m\u001b[4;94m)\u001b[0m\n",
              "\u001b[1;36m1\u001b[0m. Mục tiêu Net Zero là gì? Mục tiêu Net Zero \u001b[1m(\u001b[0mhay còn gọi là phát thải ròng bằng \u001b[1;36m0\u001b[0m\u001b[1m)\u001b[0m là cam kết của các tổ chức, \n",
              "doanh nghiệp và quốc gia nhằm giảm lượng khí nhà kính \u001b[1m(\u001b[0mGHG\u001b[1m)\u001b[0m phát thải xuống mức thấp nhất có thể, đồng thời bù đắp \n",
              "phần phát thải còn lại bằng các biện pháp hấp thụ carbon, chẳng hạn như trồng \u001b[33m...\u001b[0m\n",
              "\n",
              "|Net Zero Là Gì? Làm Thế Nào Để Đạt Được Net Zero?\u001b[1m]\u001b[0m\u001b[1m(\u001b[0m\u001b[4;94mhttps://renouvo.net/vi/chat-thai-carbon/net-zero-la-gi/\u001b[0m\u001b[4;94m)\u001b[0m\n",
              "Net Zero là gì? Theo IPCC, để duy trì mức tăng nhiệt độ toàn cầu ở mức \u001b[1;36m1.5\u001b[0m°C, lượng carbon còn lại \u001b[1m(\u001b[0mmức phát thải \n",
              "còn lại của nhân loại\u001b[1m)\u001b[0m chỉ ở mức \u001b[1;36m500\u001b[0m tỷ tấn.\n",
              "\n",
              "|Net Zero là gì? Vai trò và cách đạt mục tiêu Net Zero\u001b[1m]\u001b[0m\u001b[1m(\u001b[0m\u001b[4;94mhttps://alterno.net/vi/net-zero/\u001b[0m\u001b[4;94m)\u001b[0m\n",
              "Net Zero là gì? Net Zero hay còn là \u001b[32m\"phát thải ròng bằng 0\"\u001b[0m là mục tiêu môi trường nhằm giảm lượng khí nhà kính \n",
              "thải ra như CH4, CO2, N2O. Những khí này từ hoạt động sản xuất của con người tạo ra cân bằng với khả năng hấp thụ \n",
              "hoặc loại bỏ khí thải của Trái Đất \u001b[33m...\u001b[0m\n",
              "\n",
              "|Net Zero là gì? Vì sao Chính phủ Việt Nam cam kết thực hiện Net \n",
              "Zero?\u001b[1m]\u001b[0m\u001b[1m(\u001b[0m\u001b[4;94mhttps://longtech.vn/net-zero-la-gi-vi-sao-chinh-phu-viet-nam-cam-ket-thuc-hien-net-zero/\u001b[0m\u001b[4;94m)\u001b[0m\n",
              "\u001b[1;36m1\u001b[0m. Giới thiệu về Net Zero. Net Zero là gì? Net Zero là thuật ngữ mô tả trạng thái mà lượng khí nhà kính \u001b[1m(\u001b[0mGHG\u001b[1m)\u001b[0m được \n",
              "thải vào khí quyển bằng lượng khí GHG được loại bỏ. Nói cách khác, Net Zero có nghĩa là không có sự gia tăng tổng \n",
              "lượng khí nhà kính trong khí quyển.\n"
            ],
            "text/html": [
              "<pre style=\"white-space:pre;overflow-x:auto;line-height:normal;font-family:Menlo,'DejaVu Sans Mono',consolas,'Courier New',monospace\">Observations: ## Search Results\n",
              "\n",
              "|Net Zero là gì? Tầm quan trọng và cách để đạt được<span style=\"font-weight: bold\">](</span><span style=\"color: #0000ff; text-decoration-color: #0000ff; text-decoration: underline\">https://vnexpress.net/net-zero-la-gi-4794647.html)</span>\n",
              "Net Zero là gì? Net Zero <span style=\"font-weight: bold\">(</span>phát thải ròng bằng <span style=\"color: #008080; text-decoration-color: #008080; font-weight: bold\">0</span><span style=\"font-weight: bold\">)</span> là trạng thái mà tổng lượng khí thải nhà kính trong hoạt động sản \n",
              "xuất, kinh doanh là <span style=\"color: #008080; text-decoration-color: #008080; font-weight: bold\">0</span>. Net Zero là trạng thái mà tổng lượng khí thải nhà kính bao gồm Carbon Dioxide <span style=\"font-weight: bold\">(</span>CO2<span style=\"font-weight: bold\">)</span>, Methane\n",
              "<span style=\"font-weight: bold\">(</span>CH4<span style=\"font-weight: bold\">)</span>, Nitrous oxide <span style=\"font-weight: bold\">(</span>N2O<span style=\"font-weight: bold\">)</span>, Hydrofluorocarbons <span style=\"font-weight: bold\">(</span>HFCs<span style=\"font-weight: bold\">)</span> bằng <span style=\"color: #008080; text-decoration-color: #008080; font-weight: bold\">0</span>.\n",
              "\n",
              "|Net Zero là gì? Sự cam kết phát thải ròng bằng <span style=\"color: #008080; text-decoration-color: #008080; font-weight: bold\">0</span> năm \n",
              "<span style=\"color: #008080; text-decoration-color: #008080; font-weight: bold\">2050</span><span style=\"font-weight: bold\">](</span><span style=\"color: #0000ff; text-decoration-color: #0000ff; text-decoration: underline\">https://www.pace.edu.vn/tin-kho-tri-thuc/net-zero-la-gi)</span>\n",
              "Net Zero là một mục tiêu môi trường nhằm giảm lượng phát thải khí nhà kính do con người xuống mức cân bằng với khả \n",
              "năng hấp thụ của Trái Đất đến năm <span style=\"color: #008080; text-decoration-color: #008080; font-weight: bold\">2050</span>. Bài viết này giải thích tầm quan trọng, cơ hội kinh tế và cách đạt được Net\n",
              "Zero của Việt Nam và thế giới.\n",
              "\n",
              "|NET ZERO LÀ GÌ<span style=\"color: #808000; text-decoration-color: #808000\">...</span>VÀ LÀM THẾ NÀO ĐỂ ĐẠT ĐƯỢC? | Bureau Veritas Việt \n",
              "Nam<span style=\"font-weight: bold\">](</span><span style=\"color: #0000ff; text-decoration-color: #0000ff; text-decoration: underline\">https://www.bureauveritas.vn/insight/net-zero-la-gi-lam-the-nao-de-dat-duoc)</span>\n",
              "Net Zero là một mục tiêu tham vọng hơn so với Trung hòa Carbon, đạt được bằng cách cắt giảm lượng khí thải Carbon \n",
              "từ các nhà cung cấp đầu tiên đến người dùng cuối. Bài viết này giới thiệu các thuật ngữ liên quan, các khác biệt và\n",
              "các khó khăn trong việc áp dụng Net Zero.\n",
              "\n",
              "|Net zero là gì và các nước thực hiện ra sao? - BBC<span style=\"font-weight: bold\">](</span><span style=\"color: #0000ff; text-decoration-color: #0000ff; text-decoration: underline\">https://www.bbc.com/vietnamese/world-58969160)</span>\n",
              "Đạt mục tiêu này là điều không dễ: để đạt net zero, toàn bộ khí thải từ nhà ở của chúng ta, cách chúng ta đi lại và\n",
              "những gì ta ăn đều bị ảnh <span style=\"color: #808000; text-decoration-color: #808000\">...</span>\n",
              "\n",
              "|Net zero là gì? Tầm quan trọng của phát thải ròng bằng <span style=\"color: #008080; text-decoration-color: #008080; font-weight: bold\">0</span><span style=\"font-weight: bold\">](</span><span style=\"color: #0000ff; text-decoration-color: #0000ff; text-decoration: underline\">https://fpt-is.com/goc-nhin-so/net-zero-la-gi/)</span>\n",
              "Net zero là kết quả của trạng thái cân bằng lượng khí thải nhà kính thải ra khí quyển, mục tiêu của biến đổi khí \n",
              "hậu. Bài viết này giải thích tiêu chí net zero, phân biệt net zero và carbon neutral, và các thách thức của việc \n",
              "đạt được net zero.\n",
              "\n",
              "|Net zero là gì? Phát thải ròng về <span style=\"color: #008080; text-decoration-color: #008080; font-weight: bold\">0</span> &amp; Tất cả những điều cần \n",
              "biết<span style=\"font-weight: bold\">](</span><span style=\"color: #0000ff; text-decoration-color: #0000ff; text-decoration: underline\">https://khangducconst.com/knowledge-base/net-zero-la-gi-tat-ca-nhung-dieu-can-biet/)</span>\n",
              "Net Zero là trạng thái không phát thải carbon dioxide hoặc không thêm vào tổng lượng khí nhà kính thải ra khí \n",
              "quyển. Bài viết này giải thích nghĩa, ưu nhược điểm, cách đạt được mục tiêu Net Zero và các khác biệt giữa Net Zero\n",
              "và năng lượng tái tạo.\n",
              "\n",
              "|Mục tiêu Net Zero là gì? - som.edu.vn<span style=\"font-weight: bold\">](</span><span style=\"color: #0000ff; text-decoration-color: #0000ff; text-decoration: underline\">https://som.edu.vn/muc-tieu-net-zero-la-gi/)</span>\n",
              "<span style=\"color: #008080; text-decoration-color: #008080; font-weight: bold\">1</span>. Mục tiêu Net Zero là gì? Mục tiêu Net Zero <span style=\"font-weight: bold\">(</span>hay còn gọi là phát thải ròng bằng <span style=\"color: #008080; text-decoration-color: #008080; font-weight: bold\">0</span><span style=\"font-weight: bold\">)</span> là cam kết của các tổ chức, \n",
              "doanh nghiệp và quốc gia nhằm giảm lượng khí nhà kính <span style=\"font-weight: bold\">(</span>GHG<span style=\"font-weight: bold\">)</span> phát thải xuống mức thấp nhất có thể, đồng thời bù đắp \n",
              "phần phát thải còn lại bằng các biện pháp hấp thụ carbon, chẳng hạn như trồng <span style=\"color: #808000; text-decoration-color: #808000\">...</span>\n",
              "\n",
              "|Net Zero Là Gì? Làm Thế Nào Để Đạt Được Net Zero?<span style=\"font-weight: bold\">](</span><span style=\"color: #0000ff; text-decoration-color: #0000ff; text-decoration: underline\">https://renouvo.net/vi/chat-thai-carbon/net-zero-la-gi/)</span>\n",
              "Net Zero là gì? Theo IPCC, để duy trì mức tăng nhiệt độ toàn cầu ở mức <span style=\"color: #008080; text-decoration-color: #008080; font-weight: bold\">1.5</span>°C, lượng carbon còn lại <span style=\"font-weight: bold\">(</span>mức phát thải \n",
              "còn lại của nhân loại<span style=\"font-weight: bold\">)</span> chỉ ở mức <span style=\"color: #008080; text-decoration-color: #008080; font-weight: bold\">500</span> tỷ tấn.\n",
              "\n",
              "|Net Zero là gì? Vai trò và cách đạt mục tiêu Net Zero<span style=\"font-weight: bold\">](</span><span style=\"color: #0000ff; text-decoration-color: #0000ff; text-decoration: underline\">https://alterno.net/vi/net-zero/)</span>\n",
              "Net Zero là gì? Net Zero hay còn là <span style=\"color: #008000; text-decoration-color: #008000\">\"phát thải ròng bằng 0\"</span> là mục tiêu môi trường nhằm giảm lượng khí nhà kính \n",
              "thải ra như CH4, CO2, N2O. Những khí này từ hoạt động sản xuất của con người tạo ra cân bằng với khả năng hấp thụ \n",
              "hoặc loại bỏ khí thải của Trái Đất <span style=\"color: #808000; text-decoration-color: #808000\">...</span>\n",
              "\n",
              "|Net Zero là gì? Vì sao Chính phủ Việt Nam cam kết thực hiện Net \n",
              "Zero?<span style=\"font-weight: bold\">](</span><span style=\"color: #0000ff; text-decoration-color: #0000ff; text-decoration: underline\">https://longtech.vn/net-zero-la-gi-vi-sao-chinh-phu-viet-nam-cam-ket-thuc-hien-net-zero/)</span>\n",
              "<span style=\"color: #008080; text-decoration-color: #008080; font-weight: bold\">1</span>. Giới thiệu về Net Zero. Net Zero là gì? Net Zero là thuật ngữ mô tả trạng thái mà lượng khí nhà kính <span style=\"font-weight: bold\">(</span>GHG<span style=\"font-weight: bold\">)</span> được \n",
              "thải vào khí quyển bằng lượng khí GHG được loại bỏ. Nói cách khác, Net Zero có nghĩa là không có sự gia tăng tổng \n",
              "lượng khí nhà kính trong khí quyển.\n",
              "</pre>\n"
            ]
          },
          "metadata": {}
        },
        {
          "output_type": "display_data",
          "data": {
            "text/plain": [
              "\u001b[2m[Step 1: Duration 7.49 seconds| Input tokens: 1,084 | Output tokens: 26]\u001b[0m\n"
            ],
            "text/html": [
              "<pre style=\"white-space:pre;overflow-x:auto;line-height:normal;font-family:Menlo,'DejaVu Sans Mono',consolas,'Courier New',monospace\"><span style=\"color: #7f7f7f; text-decoration-color: #7f7f7f\">[Step 1: Duration 7.49 seconds| Input tokens: 1,084 | Output tokens: 26]</span>\n",
              "</pre>\n"
            ]
          },
          "metadata": {}
        },
        {
          "output_type": "display_data",
          "data": {
            "text/plain": [
              "\u001b[38;2;212;183;2m━━━━━━━━━━━━━━━━━━━━━━━━━━━━━━━━━━━━━━━━━━━━━━━━━━━━━ \u001b[0m\u001b[1mStep \u001b[0m\u001b[1;36m2\u001b[0m\u001b[38;2;212;183;2m ━━━━━━━━━━━━━━━━━━━━━━━━━━━━━━━━━━━━━━━━━━━━━━━━━━━━━━\u001b[0m\n"
            ],
            "text/html": [
              "<pre style=\"white-space:pre;overflow-x:auto;line-height:normal;font-family:Menlo,'DejaVu Sans Mono',consolas,'Courier New',monospace\"><span style=\"color: #d4b702; text-decoration-color: #d4b702\">━━━━━━━━━━━━━━━━━━━━━━━━━━━━━━━━━━━━━━━━━━━━━━━━━━━━━ </span><span style=\"font-weight: bold\">Step </span><span style=\"color: #008080; text-decoration-color: #008080; font-weight: bold\">2</span><span style=\"color: #d4b702; text-decoration-color: #d4b702\"> ━━━━━━━━━━━━━━━━━━━━━━━━━━━━━━━━━━━━━━━━━━━━━━━━━━━━━━</span>\n",
              "</pre>\n"
            ]
          },
          "metadata": {}
        },
        {
          "output_type": "display_data",
          "data": {
            "text/plain": [
              "\u001b[1;31mError while parsing tool call from model output: The JSON blob you used is invalid due to the following error: \u001b[0m\n",
              "\u001b[1;31mExpecting \u001b[0m\u001b[32m','\u001b[0m\u001b[1;31m delimiter: line \u001b[0m\u001b[1;36m4\u001b[0m\u001b[1;31m column \u001b[0m\u001b[1;36m17\u001b[0m\u001b[1;31m \u001b[0m\u001b[1;31m(\u001b[0m\u001b[1;31mchar \u001b[0m\u001b[1;36m61\u001b[0m\u001b[1;31m)\u001b[0m\u001b[1;31m.\u001b[0m\n",
              "\u001b[1;31mJSON blob was: Action:\u001b[0m\n",
              "\u001b[1;31m{\u001b[0m\n",
              "\u001b[1;31m  \u001b[0m\u001b[32m\"name\"\u001b[0m\u001b[1;31m: \u001b[0m\u001b[32m\"final_answer\"\u001b[0m\u001b[1;31m,\u001b[0m\n",
              "\u001b[1;31m  \u001b[0m\u001b[32m\"arguments\"\u001b[0m\u001b[1;31m: \u001b[0m\u001b[1;31m{\u001b[0m\n",
              "\u001b[1;31m    \u001b[0m\u001b[32m\"answer\"\u001b[0m\u001b[1;31m: \u001b[0m\u001b[32m\"\"\u001b[0m\u001b[1;31m\"\u001b[0m\n",
              "\u001b[1;31m### \u001b[0m\u001b[1;36m1\u001b[0m\u001b[1;31m. Task outcome \u001b[0m\u001b[1;31m(\u001b[0m\u001b[1;31mshort version\u001b[0m\u001b[1;31m)\u001b[0m\u001b[1;31m:\u001b[0m\n",
              "\u001b[1;31mNet Zero là trạng thái mà tổng lượng khí thải nhà kính từ các hoạt động sản xuất và kinh doanh bằng \u001b[0m\u001b[1;36m0\u001b[0m\u001b[1;31m.\u001b[0m\n",
              "\n",
              "\u001b[1;31m### \u001b[0m\u001b[1;36m2\u001b[0m\u001b[1;31m. Task outcome \u001b[0m\u001b[1;31m(\u001b[0m\u001b[1;31mextremely detailed version\u001b[0m\u001b[1;31m)\u001b[0m\u001b[1;31m:\u001b[0m\n",
              "\u001b[1;31mNet Zero \u001b[0m\u001b[1;31m(\u001b[0m\u001b[1;31mphát thải ròng bằng \u001b[0m\u001b[1;36m0\u001b[0m\u001b[1;31m)\u001b[0m\u001b[1;31m là một mục tiêu môi trường nhằm giảm lượng khí thải nhà kính \u001b[0m\u001b[1;31m(\u001b[0m\u001b[1;31mbao gồm CO2, CH4, \u001b[0m\n",
              "\u001b[1;31mN2O, HFCs\u001b[0m\u001b[1;31m)\u001b[0m\u001b[1;31m xuống mức cân bằng với khả năng hấp thụ của Trái Đất. Đây là trạng thái mà tổng lượng khí thải nhà kính \u001b[0m\n",
              "\u001b[1;31mtừ các hoạt động sản xuất và kinh doanh bằng \u001b[0m\u001b[1;36m0\u001b[0m\u001b[1;31m. Net Zero không chỉ liên quan đến việc giảm lượng khí thải mà còn \u001b[0m\n",
              "\u001b[1;31mbao gồm các biện pháp hấp thụ carbon để bù đắp phần phát thải còn lại.\u001b[0m\n",
              "\n",
              "\u001b[1;31mNet Zero là một mục tiêu tham vọng hơn so với Trung hòa Carbon, đòi hỏi cắt giảm lượng khí thải Carbon từ các nhà \u001b[0m\n",
              "\u001b[1;31mcung cấp đầu tiên đến người dùng cuối. Để đạt được mục tiêu Net Zero, các tổ chức, doanh nghiệp và quốc gia cần \u001b[0m\n",
              "\u001b[1;31mgiảm lượng khí thải xuống mức thấp nhất có thể và bù đắp phần phát thải còn lại bằng các biện pháp hấp thụ carbon, \u001b[0m\n",
              "\u001b[1;31mnhư trồng cây và sử dụng công nghệ hấp thụ carbon.\u001b[0m\n",
              "\n",
              "\u001b[1;31m### \u001b[0m\u001b[1;36m3\u001b[0m\u001b[1;31m. Additional context \u001b[0m\u001b[1;31m(\u001b[0m\u001b[1;31mif relevant\u001b[0m\u001b[1;31m)\u001b[0m\u001b[1;31m:\u001b[0m\n",
              "\u001b[1;31mĐạt mục tiêu Net Zero là điều không dễ dàng. Để đạt net zero, toàn bộ khí thải từ nhà ở, phương tiện di chuyển và \u001b[0m\n",
              "\u001b[1;31mchế độ ăn uống đều cần được quản lý và giảm thiểu. Các nước trên thế giới đã đặt mục tiêu Net Zero và đang triển \u001b[0m\n",
              "\u001b[1;31mkhai các chiến lược cụ thể để đạt được mục tiêu này. Việc đạt được Net Zero không chỉ mang ý nghĩa về mặt môi \u001b[0m\n",
              "\u001b[1;31mtrường mà còn tạo ra cơ hội kinh tế và thúc đẩy sự đổi mới công nghệ.\u001b[0m\n",
              "\u001b[32m\"\"\u001b[0m\u001b[1;31m\"\u001b[0m\n",
              "\u001b[1;31m  \u001b[0m\u001b[1;31m}\u001b[0m\n",
              "\u001b[1;31m}\u001b[0m\u001b[1;31m, decoding failed on that specific part of the blob:\u001b[0m\n",
              "\u001b[32m'\"answer\":'\u001b[0m\u001b[1;31m.\u001b[0m\n"
            ],
            "text/html": [
              "<pre style=\"white-space:pre;overflow-x:auto;line-height:normal;font-family:Menlo,'DejaVu Sans Mono',consolas,'Courier New',monospace\"><span style=\"color: #800000; text-decoration-color: #800000; font-weight: bold\">Error while parsing tool call from model output: The JSON blob you used is invalid due to the following error: </span>\n",
              "<span style=\"color: #800000; text-decoration-color: #800000; font-weight: bold\">Expecting </span><span style=\"color: #008000; text-decoration-color: #008000\">','</span><span style=\"color: #800000; text-decoration-color: #800000; font-weight: bold\"> delimiter: line </span><span style=\"color: #008080; text-decoration-color: #008080; font-weight: bold\">4</span><span style=\"color: #800000; text-decoration-color: #800000; font-weight: bold\"> column </span><span style=\"color: #008080; text-decoration-color: #008080; font-weight: bold\">17</span><span style=\"color: #800000; text-decoration-color: #800000; font-weight: bold\"> (char </span><span style=\"color: #008080; text-decoration-color: #008080; font-weight: bold\">61</span><span style=\"color: #800000; text-decoration-color: #800000; font-weight: bold\">).</span>\n",
              "<span style=\"color: #800000; text-decoration-color: #800000; font-weight: bold\">JSON blob was: Action:</span>\n",
              "<span style=\"color: #800000; text-decoration-color: #800000; font-weight: bold\">{</span>\n",
              "<span style=\"color: #800000; text-decoration-color: #800000; font-weight: bold\">  </span><span style=\"color: #008000; text-decoration-color: #008000\">\"name\"</span><span style=\"color: #800000; text-decoration-color: #800000; font-weight: bold\">: </span><span style=\"color: #008000; text-decoration-color: #008000\">\"final_answer\"</span><span style=\"color: #800000; text-decoration-color: #800000; font-weight: bold\">,</span>\n",
              "<span style=\"color: #800000; text-decoration-color: #800000; font-weight: bold\">  </span><span style=\"color: #008000; text-decoration-color: #008000\">\"arguments\"</span><span style=\"color: #800000; text-decoration-color: #800000; font-weight: bold\">: {</span>\n",
              "<span style=\"color: #800000; text-decoration-color: #800000; font-weight: bold\">    </span><span style=\"color: #008000; text-decoration-color: #008000\">\"answer\"</span><span style=\"color: #800000; text-decoration-color: #800000; font-weight: bold\">: </span><span style=\"color: #008000; text-decoration-color: #008000\">\"\"</span><span style=\"color: #800000; text-decoration-color: #800000; font-weight: bold\">\"</span>\n",
              "<span style=\"color: #800000; text-decoration-color: #800000; font-weight: bold\">### </span><span style=\"color: #008080; text-decoration-color: #008080; font-weight: bold\">1</span><span style=\"color: #800000; text-decoration-color: #800000; font-weight: bold\">. Task outcome (short version):</span>\n",
              "<span style=\"color: #800000; text-decoration-color: #800000; font-weight: bold\">Net Zero là trạng thái mà tổng lượng khí thải nhà kính từ các hoạt động sản xuất và kinh doanh bằng </span><span style=\"color: #008080; text-decoration-color: #008080; font-weight: bold\">0</span><span style=\"color: #800000; text-decoration-color: #800000; font-weight: bold\">.</span>\n",
              "\n",
              "<span style=\"color: #800000; text-decoration-color: #800000; font-weight: bold\">### </span><span style=\"color: #008080; text-decoration-color: #008080; font-weight: bold\">2</span><span style=\"color: #800000; text-decoration-color: #800000; font-weight: bold\">. Task outcome (extremely detailed version):</span>\n",
              "<span style=\"color: #800000; text-decoration-color: #800000; font-weight: bold\">Net Zero (phát thải ròng bằng </span><span style=\"color: #008080; text-decoration-color: #008080; font-weight: bold\">0</span><span style=\"color: #800000; text-decoration-color: #800000; font-weight: bold\">) là một mục tiêu môi trường nhằm giảm lượng khí thải nhà kính (bao gồm CO2, CH4, </span>\n",
              "<span style=\"color: #800000; text-decoration-color: #800000; font-weight: bold\">N2O, HFCs) xuống mức cân bằng với khả năng hấp thụ của Trái Đất. Đây là trạng thái mà tổng lượng khí thải nhà kính </span>\n",
              "<span style=\"color: #800000; text-decoration-color: #800000; font-weight: bold\">từ các hoạt động sản xuất và kinh doanh bằng </span><span style=\"color: #008080; text-decoration-color: #008080; font-weight: bold\">0</span><span style=\"color: #800000; text-decoration-color: #800000; font-weight: bold\">. Net Zero không chỉ liên quan đến việc giảm lượng khí thải mà còn </span>\n",
              "<span style=\"color: #800000; text-decoration-color: #800000; font-weight: bold\">bao gồm các biện pháp hấp thụ carbon để bù đắp phần phát thải còn lại.</span>\n",
              "\n",
              "<span style=\"color: #800000; text-decoration-color: #800000; font-weight: bold\">Net Zero là một mục tiêu tham vọng hơn so với Trung hòa Carbon, đòi hỏi cắt giảm lượng khí thải Carbon từ các nhà </span>\n",
              "<span style=\"color: #800000; text-decoration-color: #800000; font-weight: bold\">cung cấp đầu tiên đến người dùng cuối. Để đạt được mục tiêu Net Zero, các tổ chức, doanh nghiệp và quốc gia cần </span>\n",
              "<span style=\"color: #800000; text-decoration-color: #800000; font-weight: bold\">giảm lượng khí thải xuống mức thấp nhất có thể và bù đắp phần phát thải còn lại bằng các biện pháp hấp thụ carbon, </span>\n",
              "<span style=\"color: #800000; text-decoration-color: #800000; font-weight: bold\">như trồng cây và sử dụng công nghệ hấp thụ carbon.</span>\n",
              "\n",
              "<span style=\"color: #800000; text-decoration-color: #800000; font-weight: bold\">### </span><span style=\"color: #008080; text-decoration-color: #008080; font-weight: bold\">3</span><span style=\"color: #800000; text-decoration-color: #800000; font-weight: bold\">. Additional context (if relevant):</span>\n",
              "<span style=\"color: #800000; text-decoration-color: #800000; font-weight: bold\">Đạt mục tiêu Net Zero là điều không dễ dàng. Để đạt net zero, toàn bộ khí thải từ nhà ở, phương tiện di chuyển và </span>\n",
              "<span style=\"color: #800000; text-decoration-color: #800000; font-weight: bold\">chế độ ăn uống đều cần được quản lý và giảm thiểu. Các nước trên thế giới đã đặt mục tiêu Net Zero và đang triển </span>\n",
              "<span style=\"color: #800000; text-decoration-color: #800000; font-weight: bold\">khai các chiến lược cụ thể để đạt được mục tiêu này. Việc đạt được Net Zero không chỉ mang ý nghĩa về mặt môi </span>\n",
              "<span style=\"color: #800000; text-decoration-color: #800000; font-weight: bold\">trường mà còn tạo ra cơ hội kinh tế và thúc đẩy sự đổi mới công nghệ.</span>\n",
              "<span style=\"color: #008000; text-decoration-color: #008000\">\"\"</span><span style=\"color: #800000; text-decoration-color: #800000; font-weight: bold\">\"</span>\n",
              "<span style=\"color: #800000; text-decoration-color: #800000; font-weight: bold\">  }</span>\n",
              "<span style=\"color: #800000; text-decoration-color: #800000; font-weight: bold\">}, decoding failed on that specific part of the blob:</span>\n",
              "<span style=\"color: #008000; text-decoration-color: #008000\">'\"answer\":'</span><span style=\"color: #800000; text-decoration-color: #800000; font-weight: bold\">.</span>\n",
              "</pre>\n"
            ]
          },
          "metadata": {}
        },
        {
          "output_type": "display_data",
          "data": {
            "text/plain": [
              "\u001b[2m[Step 2: Duration 16.92 seconds| Input tokens: 3,858 | Output tokens: 706]\u001b[0m\n"
            ],
            "text/html": [
              "<pre style=\"white-space:pre;overflow-x:auto;line-height:normal;font-family:Menlo,'DejaVu Sans Mono',consolas,'Courier New',monospace\"><span style=\"color: #7f7f7f; text-decoration-color: #7f7f7f\">[Step 2: Duration 16.92 seconds| Input tokens: 3,858 | Output tokens: 706]</span>\n",
              "</pre>\n"
            ]
          },
          "metadata": {}
        },
        {
          "output_type": "display_data",
          "data": {
            "text/plain": [
              "\u001b[38;2;212;183;2m━━━━━━━━━━━━━━━━━━━━━━━━━━━━━━━━━━━━━━━━━━━━━━━━━━━━━ \u001b[0m\u001b[1mStep \u001b[0m\u001b[1;36m3\u001b[0m\u001b[38;2;212;183;2m ━━━━━━━━━━━━━━━━━━━━━━━━━━━━━━━━━━━━━━━━━━━━━━━━━━━━━━\u001b[0m\n"
            ],
            "text/html": [
              "<pre style=\"white-space:pre;overflow-x:auto;line-height:normal;font-family:Menlo,'DejaVu Sans Mono',consolas,'Courier New',monospace\"><span style=\"color: #d4b702; text-decoration-color: #d4b702\">━━━━━━━━━━━━━━━━━━━━━━━━━━━━━━━━━━━━━━━━━━━━━━━━━━━━━ </span><span style=\"font-weight: bold\">Step </span><span style=\"color: #008080; text-decoration-color: #008080; font-weight: bold\">3</span><span style=\"color: #d4b702; text-decoration-color: #d4b702\"> ━━━━━━━━━━━━━━━━━━━━━━━━━━━━━━━━━━━━━━━━━━━━━━━━━━━━━━</span>\n",
              "</pre>\n"
            ]
          },
          "metadata": {}
        },
        {
          "output_type": "display_data",
          "data": {
            "text/plain": [
              "╭─────────────────────────────────────────────────────────────────────────────────────────────────────────────────╮\n",
              "│ Calling tool: 'final_answer' with arguments: {'answer': 'Net Zero là trạng thái mà tổng lượng khí thải nhà kính │\n",
              "│ từ các hoạt động sản xuất và kinh doanh bằng 0. Net Zero (phát thải ròng bằng 0) là một mục tiêu môi trường     │\n",
              "│ nhằm giảm lượng khí thải nhà kính (bao gồm CO2, CH4, N2O, HFCs) xuống mức cân bằng với khả năng hấp thụ của     │\n",
              "│ Trái Đất. Đây là trạng thái mà tổng lượng khí thải nhà kính từ các hoạt động sản xuất và kinh doanh bằng 0. Net │\n",
              "│ Zero không chỉ liên quan đến việc giảm lượng khí thải mà còn bao gồm các biện pháp hấp thụ carbon để bù đắp     │\n",
              "│ phần phát thải còn lại. Net Zero là một mục tiêu tham vọng hơn so với Trung hòa Carbon, đòi hỏi cắt giảm lượng  │\n",
              "│ khí thải Carbon từ các nhà cung cấp đầu tiên đến người dùng cuối. Để đạt được mục tiêu Net Zero, các tổ chức,   │\n",
              "│ doanh nghiệp và quốc gia cần giảm lượng khí thải xuống mức thấp nhất có thể và bù đắp phần phát thải còn lại    │\n",
              "│ bằng các biện pháp hấp thụ carbon, như trồng cây và sử dụng công nghệ hấp thụ carbon. Đạt mục tiêu Net Zero là  │\n",
              "│ điều không dễ dàng. Để đạt net zero, toàn bộ khí thải từ nhà ở, phương tiện di chuyển và chế độ ăn uống đều cần │\n",
              "│ được quản lý và giảm thiểu. Các nước trên thế giới đã đặt mục tiêu Net Zero và đang triển khai các chiến lược   │\n",
              "│ cụ thể để đạt được mục tiêu này. Việc đạt được Net Zero không chỉ mang ý nghĩa về mặt môi trường mà còn tạo ra  │\n",
              "│ cơ hội kinh tế và thúc đẩy sự đổi mới công nghệ.'}                                                              │\n",
              "╰─────────────────────────────────────────────────────────────────────────────────────────────────────────────────╯\n"
            ],
            "text/html": [
              "<pre style=\"white-space:pre;overflow-x:auto;line-height:normal;font-family:Menlo,'DejaVu Sans Mono',consolas,'Courier New',monospace\">╭─────────────────────────────────────────────────────────────────────────────────────────────────────────────────╮\n",
              "│ Calling tool: 'final_answer' with arguments: {'answer': 'Net Zero là trạng thái mà tổng lượng khí thải nhà kính │\n",
              "│ từ các hoạt động sản xuất và kinh doanh bằng 0. Net Zero (phát thải ròng bằng 0) là một mục tiêu môi trường     │\n",
              "│ nhằm giảm lượng khí thải nhà kính (bao gồm CO2, CH4, N2O, HFCs) xuống mức cân bằng với khả năng hấp thụ của     │\n",
              "│ Trái Đất. Đây là trạng thái mà tổng lượng khí thải nhà kính từ các hoạt động sản xuất và kinh doanh bằng 0. Net │\n",
              "│ Zero không chỉ liên quan đến việc giảm lượng khí thải mà còn bao gồm các biện pháp hấp thụ carbon để bù đắp     │\n",
              "│ phần phát thải còn lại. Net Zero là một mục tiêu tham vọng hơn so với Trung hòa Carbon, đòi hỏi cắt giảm lượng  │\n",
              "│ khí thải Carbon từ các nhà cung cấp đầu tiên đến người dùng cuối. Để đạt được mục tiêu Net Zero, các tổ chức,   │\n",
              "│ doanh nghiệp và quốc gia cần giảm lượng khí thải xuống mức thấp nhất có thể và bù đắp phần phát thải còn lại    │\n",
              "│ bằng các biện pháp hấp thụ carbon, như trồng cây và sử dụng công nghệ hấp thụ carbon. Đạt mục tiêu Net Zero là  │\n",
              "│ điều không dễ dàng. Để đạt net zero, toàn bộ khí thải từ nhà ở, phương tiện di chuyển và chế độ ăn uống đều cần │\n",
              "│ được quản lý và giảm thiểu. Các nước trên thế giới đã đặt mục tiêu Net Zero và đang triển khai các chiến lược   │\n",
              "│ cụ thể để đạt được mục tiêu này. Việc đạt được Net Zero không chỉ mang ý nghĩa về mặt môi trường mà còn tạo ra  │\n",
              "│ cơ hội kinh tế và thúc đẩy sự đổi mới công nghệ.'}                                                              │\n",
              "╰─────────────────────────────────────────────────────────────────────────────────────────────────────────────────╯\n",
              "</pre>\n"
            ]
          },
          "metadata": {}
        },
        {
          "output_type": "display_data",
          "data": {
            "text/plain": [
              "\u001b[1;38;2;212;183;2mFinal answer: Net Zero là trạng thái mà tổng lượng khí thải nhà kính từ các hoạt động sản xuất và kinh doanh bằng \u001b[0m\n",
              "\u001b[1;38;2;212;183;2m0. Net Zero (phát thải ròng bằng 0) là một mục tiêu môi trường nhằm giảm lượng khí thải nhà kính (bao gồm CO2, CH4,\u001b[0m\n",
              "\u001b[1;38;2;212;183;2mN2O, HFCs) xuống mức cân bằng với khả năng hấp thụ của Trái Đất. Đây là trạng thái mà tổng lượng khí thải nhà kính \u001b[0m\n",
              "\u001b[1;38;2;212;183;2mtừ các hoạt động sản xuất và kinh doanh bằng 0. Net Zero không chỉ liên quan đến việc giảm lượng khí thải mà còn \u001b[0m\n",
              "\u001b[1;38;2;212;183;2mbao gồm các biện pháp hấp thụ carbon để bù đắp phần phát thải còn lại. Net Zero là một mục tiêu tham vọng hơn so \u001b[0m\n",
              "\u001b[1;38;2;212;183;2mvới Trung hòa Carbon, đòi hỏi cắt giảm lượng khí thải Carbon từ các nhà cung cấp đầu tiên đến người dùng cuối. Để \u001b[0m\n",
              "\u001b[1;38;2;212;183;2mđạt được mục tiêu Net Zero, các tổ chức, doanh nghiệp và quốc gia cần giảm lượng khí thải xuống mức thấp nhất có \u001b[0m\n",
              "\u001b[1;38;2;212;183;2mthể và bù đắp phần phát thải còn lại bằng các biện pháp hấp thụ carbon, như trồng cây và sử dụng công nghệ hấp thụ \u001b[0m\n",
              "\u001b[1;38;2;212;183;2mcarbon. Đạt mục tiêu Net Zero là điều không dễ dàng. Để đạt net zero, toàn bộ khí thải từ nhà ở, phương tiện di \u001b[0m\n",
              "\u001b[1;38;2;212;183;2mchuyển và chế độ ăn uống đều cần được quản lý và giảm thiểu. Các nước trên thế giới đã đặt mục tiêu Net Zero và \u001b[0m\n",
              "\u001b[1;38;2;212;183;2mđang triển khai các chiến lược cụ thể để đạt được mục tiêu này. Việc đạt được Net Zero không chỉ mang ý nghĩa về \u001b[0m\n",
              "\u001b[1;38;2;212;183;2mmặt môi trường mà còn tạo ra cơ hội kinh tế và thúc đẩy sự đổi mới công nghệ.\u001b[0m\n"
            ],
            "text/html": [
              "<pre style=\"white-space:pre;overflow-x:auto;line-height:normal;font-family:Menlo,'DejaVu Sans Mono',consolas,'Courier New',monospace\"><span style=\"color: #d4b702; text-decoration-color: #d4b702; font-weight: bold\">Final answer: Net Zero là trạng thái mà tổng lượng khí thải nhà kính từ các hoạt động sản xuất và kinh doanh bằng </span>\n",
              "<span style=\"color: #d4b702; text-decoration-color: #d4b702; font-weight: bold\">0. Net Zero (phát thải ròng bằng 0) là một mục tiêu môi trường nhằm giảm lượng khí thải nhà kính (bao gồm CO2, CH4,</span>\n",
              "<span style=\"color: #d4b702; text-decoration-color: #d4b702; font-weight: bold\">N2O, HFCs) xuống mức cân bằng với khả năng hấp thụ của Trái Đất. Đây là trạng thái mà tổng lượng khí thải nhà kính </span>\n",
              "<span style=\"color: #d4b702; text-decoration-color: #d4b702; font-weight: bold\">từ các hoạt động sản xuất và kinh doanh bằng 0. Net Zero không chỉ liên quan đến việc giảm lượng khí thải mà còn </span>\n",
              "<span style=\"color: #d4b702; text-decoration-color: #d4b702; font-weight: bold\">bao gồm các biện pháp hấp thụ carbon để bù đắp phần phát thải còn lại. Net Zero là một mục tiêu tham vọng hơn so </span>\n",
              "<span style=\"color: #d4b702; text-decoration-color: #d4b702; font-weight: bold\">với Trung hòa Carbon, đòi hỏi cắt giảm lượng khí thải Carbon từ các nhà cung cấp đầu tiên đến người dùng cuối. Để </span>\n",
              "<span style=\"color: #d4b702; text-decoration-color: #d4b702; font-weight: bold\">đạt được mục tiêu Net Zero, các tổ chức, doanh nghiệp và quốc gia cần giảm lượng khí thải xuống mức thấp nhất có </span>\n",
              "<span style=\"color: #d4b702; text-decoration-color: #d4b702; font-weight: bold\">thể và bù đắp phần phát thải còn lại bằng các biện pháp hấp thụ carbon, như trồng cây và sử dụng công nghệ hấp thụ </span>\n",
              "<span style=\"color: #d4b702; text-decoration-color: #d4b702; font-weight: bold\">carbon. Đạt mục tiêu Net Zero là điều không dễ dàng. Để đạt net zero, toàn bộ khí thải từ nhà ở, phương tiện di </span>\n",
              "<span style=\"color: #d4b702; text-decoration-color: #d4b702; font-weight: bold\">chuyển và chế độ ăn uống đều cần được quản lý và giảm thiểu. Các nước trên thế giới đã đặt mục tiêu Net Zero và </span>\n",
              "<span style=\"color: #d4b702; text-decoration-color: #d4b702; font-weight: bold\">đang triển khai các chiến lược cụ thể để đạt được mục tiêu này. Việc đạt được Net Zero không chỉ mang ý nghĩa về </span>\n",
              "<span style=\"color: #d4b702; text-decoration-color: #d4b702; font-weight: bold\">mặt môi trường mà còn tạo ra cơ hội kinh tế và thúc đẩy sự đổi mới công nghệ.</span>\n",
              "</pre>\n"
            ]
          },
          "metadata": {}
        },
        {
          "output_type": "display_data",
          "data": {
            "text/plain": [
              "\u001b[2m[Step 3: Duration 15.59 seconds| Input tokens: 8,081 | Output tokens: 1,353]\u001b[0m\n"
            ],
            "text/html": [
              "<pre style=\"white-space:pre;overflow-x:auto;line-height:normal;font-family:Menlo,'DejaVu Sans Mono',consolas,'Courier New',monospace\"><span style=\"color: #7f7f7f; text-decoration-color: #7f7f7f\">[Step 3: Duration 15.59 seconds| Input tokens: 8,081 | Output tokens: 1,353]</span>\n",
              "</pre>\n"
            ]
          },
          "metadata": {}
        },
        {
          "output_type": "stream",
          "name": "stdout",
          "text": [
            "Here is the final answer from your managed agent 'search_agent':\n",
            "Net Zero là trạng thái mà tổng lượng khí thải nhà kính từ các hoạt động sản xuất và kinh doanh bằng 0. Net Zero (phát thải ròng bằng 0) là một mục tiêu môi trường nhằm giảm lượng khí thải nhà kính (bao gồm CO2, CH4, N2O, HFCs) xuống mức cân bằng với khả năng hấp thụ của Trái Đất. Đây là trạng thái mà tổng lượng khí thải nhà kính từ các hoạt động sản xuất và kinh doanh bằng 0. Net Zero không chỉ liên quan đến việc giảm lượng khí thải mà còn bao gồm các biện pháp hấp thụ carbon để bù đắp phần phát thải còn lại. Net Zero là một mục tiêu tham vọng hơn so với Trung hòa Carbon, đòi hỏi cắt giảm lượng khí thải Carbon từ các nhà cung cấp đầu tiên đến người dùng cuối. Để đạt được mục tiêu Net Zero, các tổ chức, doanh nghiệp và quốc gia cần giảm lượng khí thải xuống mức thấp nhất có thể và bù đắp phần phát thải còn lại bằng các biện pháp hấp thụ carbon, như trồng cây và sử dụng công nghệ hấp thụ carbon. Đạt mục tiêu Net Zero là điều không dễ dàng. Để đạt net zero, toàn bộ khí thải từ nhà ở, phương tiện di chuyển và chế độ ăn uống đều cần được quản lý và giảm thiểu. Các nước trên thế giới đã đặt mục tiêu Net Zero và đang triển khai các chiến lược cụ thể để đạt được mục tiêu này. Việc đạt được Net Zero không chỉ mang ý nghĩa về mặt môi trường mà còn tạo ra cơ hội kinh tế và thúc đẩy sự đổi mới công nghệ.\n"
          ]
        }
      ],
      "source": [
        "result = search_agent(task=\"net zero là gì vậy?\")\n",
        "print(result)"
      ]
    },
    {
      "cell_type": "markdown",
      "source": [
        "### 2.2 Retriever agent 🤖🔍\n",
        "\n",
        "The second agent in our multi-agent system is the **Retriever agent**. This agent is responsible for gathering relevant information from different sources. To achieve this, it will utilize two tools that retrieve data from two separate knowledge bases.\n",
        "\n",
        "We will reuse two data sources that were previously used in other RAG recipes, which will allow the retriever to efficiently gather information for further processing.\n",
        "\n",
        "By leveraging these tools, the Retriever agent can access diverse datasets, ensuring a comprehensive collection of relevant information before passing it on to the next step in the system.\n",
        "\n",
        "Let's explore how to set up the retriever and integrate it into our multi-agent system!\n"
      ],
      "metadata": {
        "id": "trj_tuQGNRwW"
      }
    },
    {
      "cell_type": "code",
      "source": [
        "# prompt: mount drive\n",
        "\n",
        "from google.colab import drive\n",
        "drive.mount('/content/drive')"
      ],
      "metadata": {
        "colab": {
          "base_uri": "https://localhost:8080/"
        },
        "id": "D1pXey53RfwV",
        "outputId": "dadbb3d7-1276-4cf3-f00e-0bb6222df288"
      },
      "execution_count": 70,
      "outputs": [
        {
          "output_type": "stream",
          "name": "stdout",
          "text": [
            "Drive already mounted at /content/drive; to attempt to forcibly remount, call drive.mount(\"/content/drive\", force_remount=True).\n"
          ]
        }
      ]
    },
    {
      "cell_type": "code",
      "source": [
        "from langchain.document_loaders import UnstructuredWordDocumentLoader\n",
        "\n",
        "loader = UnstructuredWordDocumentLoader(\"/content/drive/MyDrive/AgriCarbonDEX.docx\")\n",
        "documents = loader.load()\n",
        "\n",
        "print(documents[0].page_content)  # In nội dung đầu tiên"
      ],
      "metadata": {
        "colab": {
          "base_uri": "https://localhost:8080/"
        },
        "id": "cxjduEzxReVv",
        "outputId": "4aa2eeca-e645-4dc4-95fb-9757168a66aa"
      },
      "execution_count": 71,
      "outputs": [
        {
          "output_type": "stream",
          "name": "stdout",
          "text": [
            "AgriCarbonDEX\n",
            "\n",
            "Bối cảnh\n",
            "\n",
            "Biến đổi khí hậu và phát thải nhà kính đang là thách thức toàn cầu, đòi hỏi mỗi quốc gia, doanh nghiệp và cá nhân cùng hành động. Tín chỉ carbon và dữ liệu ESG (môi trường – xã hội – quản trị) ngày càng trở thành tài sản có giá trị cao, được giao dịch như một phần của chiến lược giảm phát thải và tài chính bền vững.\n",
            "\n",
            "Tuy nhiên, thị trường tín chỉ carbon hiện nay đối mặt với các vấn đề lớn:\n",
            "\n",
            "Khó xác minh nguồn gốc và tính minh bạch của dữ liệu môi trường.\n",
            "\n",
            "Nguy cơ “greenwashing” khi doanh nghiệp tuyên bố xanh nhưng không có bằng chứng kiểm chứng.\n",
            "\n",
            "Dữ liệu bị phân mảnh, khó theo dõi xuyên suốt chuỗi giá trị.\n",
            "\n",
            "Giải thích các khái niệm\n",
            "\n",
            "DT (Digital Twin): là bản sao kỹ thuật số của một đối tượng, hệ thống hoặc quá trình trong thế giới thực. DT mô phỏng hành vi, trạng thái và hiệu suất của đối tượng thật theo thời gian thực.\n",
            "\n",
            "Dữ liệu DT: là dữ liệu được thu thập từ cảm biến hoặc nguồn thực tế, phản ánh trạng thái hiện tại hoặc lịch sử của đối tượng.\n",
            "\n",
            "Tín chỉ carbon: Là một chứng chỉ đại diện cho quyền phát thải 1 tấn khí CO₂ (hoặc tương đương). Các doanh nghiệp gây ô nhiễm có thể mua tín chỉ từ các bên thực hiện các dự án giảm phát thải, như trồng rừng, năng lượng tái tạo, vv.\n",
            "\n",
            "DID (Decentralized Identifier): Là định danh phi tập trung, cho phép các đối tượng (người, tổ chức, thiết bị, vv.) tự xác định danh tính của mình không cần trung gian.\n",
            "\n",
            "Greenwashing: Là hành vi tung hô sai sự thật hoặc phóng đại những nỗ lực bảo vệ môi trường của một công ty hoặc tổ chức, nhằm đánh bóng hình ảnh.\n",
            "\n",
            "ESG (Environmental, Social, Governance): Là khung đánh giá mức độ bền vững của doanh nghiệp dựa trên môi trường, xã hội và quản trị. ESG ngày càng quan trọng trong đầu tư và đánh giá tác động dài hạn của tổ chức.\n",
            "\n",
            "RAG (Retrieval-Augmented Generation): Là kỹ thuật AI kết hợp truy xuất dữ liệu từ nguồn ngoài với khả năng tạo văn bản của mô hình ngôn ngữ. Nhờ đó, câu trả lời được tạo ra chính xác và có căn cứ hơn, đặc biệt hữu ích khi cần trích dẫn thông tin từ tài liệu cụ thể.\n",
            "\n",
            "Mục tiêu\n",
            "\n",
            "Dự án AgriCarbonDEX được xây dựng nhằm:\n",
            "\n",
            "Tạo ra một nền tảng phi tập trung (DEX) cho phép giao dịch tín chỉ carbon, dữ liệu môi trường, và tài sản ESG một cách minh bạch và đáng tin cậy.\n",
            "\n",
            "Ứng dụng Digital Twin (DT) để mô phỏng hành vi môi trường của từng thực thể (trang trại, nhà máy, vùng sinh thái), đảm bảo rằng tín chỉ được tạo ra dựa trên dữ liệu thật.\n",
            "\n",
            "Tích hợp AI Agent (LLM) để hỗ trợ tư vấn về ESG, phân tích hành vi môi trường, và hỗ trợ minh bạch hóa quy trình phát hành và đánh giá tín chỉ.\n",
            "\n",
            "Xác minh nguồn gốc phát thải / hấp thụ và nguồn gốc của tín chỉ carbon.\n",
            "\n",
            "Phạm vi ứng dụng\n",
            "\n",
            "Nông nghiệp tái sinh, trang trại trồng rừng, nhà máy xanh: tạo và giao dịch tín chỉ carbon thật sự.\n",
            "\n",
            "Tổ chức tài chính, nhà đầu tư ESG: đánh giá minh bạch tài sản môi trường.\n",
            "\n",
            "Chính quyền địa phương và trung ương: giám sát phát thải, hỗ trợ ra quyết định chính sách.\n",
            "\n",
            "Người dân: truy xuất dữ liệu môi trường gần họ, khuyến khích tiêu dùng xanh.\n",
            "\n",
            "Giá trị kỳ vọng\n",
            "\n",
            "Đảm bảo tín chỉ carbon phát hành từ dữ liệu thật, có thể kiểm tra.\n",
            "\n",
            "Tạo ra thị trường giao dịch minh bạch, phi tập trung, khuyến khích doanh nghiệp phát triển bền vững.\n",
            "\n",
            "Đưa dữ liệu ESG vào tài chính hóa, phục vụ các quỹ đầu tư xanh và nhà hoạch định chính sách.\n",
            "\n",
            "Nâng cao vai trò của công nghệ Việt Nam trong xây dựng hạ tầng tài chính môi trường.\n",
            "\n",
            "Kiến trúc hệ thống\n",
            "\n",
            "Trong hình trên, các thành phần trong hệ thống có thể chia thành 5 Lớp:\n",
            "\n",
            "End devices: Các cảm biến thu thập từ các trang trại trồng rừng hoặc các xí nghiệp.\n",
            "\n",
            "Edge: DT đặt ở cạnh nguồn dữ liệu với độ trễ thấp và phản hồi ngay lập tức với dữ liệu thô sơ.\n",
            "\n",
            "Fog: Các DT đặt ở gần trung tâm hơn, có tài nguyên tính toán mạnh nên có khả năng phân tích phức tạp.\n",
            "\n",
            "Control center: Trung tâm giám sát, xác minh và báo cáo (MVR) cùng với chatbox LLM agent và mô đun ML/DL phát hiện số liệu DT bất thường.\n",
            "\n",
            "Cloud: Hệ thống blockchain Ethereum với các hợp đồng thông minh.\n",
            "\n",
            "Vai trò của các thành phần:\n",
            "\n",
            "DT: Mô hình hóa động mỗi thực thể phát thải – cập nhật trạng thái thời gian thực, đo lường bằng dữ liệu cảm biến, vệ tinh, hoặc đầu vào mô phỏng.\n",
            "\n",
            "Ethereum Blockchain: Ghi nhận quá trình tạo, xác minh và giao dịch tín chỉ carbon. Tạo NFT dữ liệu môi trường (air quality, emission log…). Gắn DID (danh tính số) với tổ chức phát hành.\n",
            "\n",
            "LLM Agent: Trợ lý AI hỗ trợ tư vấn ESG, diễn giải dữ liệu twin, giải thích quy định carbon, cảnh báo hành vi bất thường (risk of greenwashing).\n",
            "\n",
            "DEX layer: Sàn giao dịch token carbon (ERC-20) hoặc dữ liệu môi trường NFT (ERC-721) giữa các bên có nhu cầu.\n",
            "\n",
            "\tCác loại token trong mạng:\n",
            "\n",
            "Credit NFT: Được cấp cho các bên có ảnh hưởng tốt, tích cực đến môi trường như các trang trại trồng rừng, doanh nghiệp tái chế, dự án năng lượng tái tạo. Credit NFT đại diện cho một lượng carbon đã được loại bỏ hoặc tránh phát thải, và có thể chuyển nhượng hoặc bán cho các bên khác để phục vụ mục đích bù đắp khí thải carbon.\n",
            "\n",
            "Carbon Soundbound Token: Cấp cho các bên có ảnh hưởng xấu, tiêu cực đến môi trường như các xí nghiệp, nhà máy sản xuất, công ty khai thác tài nguyên. Token này phản ánh lượng khí thải carbon mà tổ chức phát ra và không thể chuyển nhượng hoặc mua bán, nhằm gắn liền trách nhiệm môi trường vào danh tính kỹ thuật số của tổ chức.\n",
            "\n",
            "Carbon Token: Là tài sản kỹ thuật số được sử dụng để mua Credit NFT, thường được phát hành và sử dụng bởi các bên gây phát thải như nhà máy, doanh nghiệp sản xuất, công ty vận tải hoặc các tổ chức muốn bù đắp lượng khí thải carbon của mình.\n",
            "\n",
            "6.1) LLM Agent\n",
            "\n",
            "Hệ thống hiện tại được xây dựng dựa trên kiến trúc Multi-agent, tức là một tập hợp gồm nhiều tác nhân thông minh có khả năng tương tác, phối hợp hoặc hoạt động độc lập nhằm giải quyết các tác vụ phức tạp trong môi trường năng động.\n",
            "\n",
            "Cụ thể, hệ thống hiện tại bao gồm một Manager Agent đóng vai trò điều phối và hai tác nhân chức năng chính:\n",
            "\n",
            "RAG Agent: Được sử dụng khi người dùng có các câu hỏi liên quan đến hệ thống AgriCarbonDex, chẳng hạn như: “Tại sao AgriCarbonDex được đề xuất?” hoặc “AgriCarbonDex được ứng dụng trong lĩnh vực nào?” Tác nhân này sử dụng kỹ thuật kết hợp giữa truy xuất và tạo sinh (Retrieval-Augmented Generation) để cung cấp câu trả lời chính xác và có căn cứ.\n",
            "\n",
            "Search Agent: Được kích hoạt khi người dùng đặt ra các câu hỏi vượt ngoài phạm vi hệ thống, ví dụ như: “ESG là gì?” hoặc “ERC20 hoạt động như thế nào?” Tác nhân này tìm kiếm và tổng hợp thông tin từ các nguồn bên ngoài nhằm hỗ trợ người dùng hiểu các khái niệm nền tảng.\n",
            "\n",
            "Định Hướng Phát Triển (Future Work)\n",
            "\n",
            "Trong giai đoạn tiếp theo, chúng tôi định hướng mở rộng hệ thống theo hướng đa nhiệm, linh hoạt và thông minh hơn, nhằm nâng cao khả năng hỗ trợ tư vấn ESG, phân tích dữ liệu carbon và cung cấp giá trị thực tiễn cho người dùng doanh nghiệp. Cụ thể, các hạng mục phát triển bao gồm:\n",
            "\n",
            "a) Mở rộng hệ thống với các Tác nhân Chuyên biệt (Specialized Agents)\n",
            "\n",
            "Regulation Agent: Chịu trách nhiệm giải thích các chính sách, quy định ESG và Carbon đang áp dụng, đồng thời cập nhật liên tục từ các nguồn dữ liệu uy tín như IPCC, UNFCCC hoặc hệ thống pháp luật của từng quốc gia. Tác nhân này hỗ trợ người dùng hiểu rõ nghĩa vụ pháp lý liên quan đến phát thải và tín chỉ carbon.\n",
            "\n",
            "ESG Risk Agent: Thực hiện phân tích nội dung để phát hiện và cảnh báo các rủi ro liên quan đến hành vi \"greenwashing\" (ngụy tạo ESG) hoặc sai lệch trong báo cáo ESG.\n",
            "\n",
            "Twin Interpretation Agent: Chuyên đảm nhiệm việc giải thích các dữ liệu được sinh ra từ mô hình Digital Twin, giúp người dùng không chuyên dễ dàng tiếp cận và hiểu rõ các chỉ số đo lường phát thải, xu hướng biến động carbon theo thời gian thực.\n",
            "\n",
            "b) Tăng cường năng lực phối hợp tác nhân (Agent Collaboration)\n",
            "\n",
            "Hiện tại, các tác nhân hoạt động chủ yếu theo chỉ dẫn của Manager Agent. Trong tương lai, chúng tôi dự kiến phát triển cơ chế phối hợp linh hoạt giữa các agent, cho phép các tác nhân tự động giao tiếp và phân chia nhiệm vụ thông qua một giao thức điều phối chung.\n",
            "\n",
            "Ví dụ: Khi người dùng đặt câu hỏi như “Tác động của carbon footprint trong chuỗi cung ứng nông nghiệp là gì?”, hệ thống sẽ tự động:\n",
            "\n",
            "RAG Agent: Cung cấp thông tin nền liên quan đến AgriCarbonDex và khái niệm carbon footprint.\n",
            "\n",
            "Search Agent: Thu thập và trích xuất số liệu, dữ liệu thực tế từ các nguồn bên ngoài.\n",
            "\n",
            "Twin Interpretation Agent: Trình bày dữ liệu dưới dạng trực quan, dễ hiểu.\n",
            "\n",
            "ESG Risk Agent: Phân tích các rủi ro ESG liên quan đến chuỗi cung ứng cụ thể.\n",
            "\n",
            "Manager Agent: Tổng hợp đầu ra từ các tác nhân trên và trình bày cho người dùng một câu trả lời toàn diện, mạch lạc.\n",
            "\n",
            "Quản lý, định danh các DT và dữ liệu\n",
            "\n",
            "Các DT trong hệ thống của chúng tôi liên tục tạo ra dữ liệu theo thời gian thực. Để đảm bảo tính hiệu quả và tiết kiệm chi phí, thay vì lưu trữ dữ liệu gốc trực tiếp lên blockchain, chúng tôi sử dụng IPFS để lưu trữ phân tán, sau đó lấy Content Identifier (CID) làm đại diện duy nhất cho từng phiên bản dữ liệu DT.\n",
            "\n",
            "Tuy nhiên, do mỗi CID chỉ đại diện cho một bản snapshot cụ thể của dữ liệu, chúng tôi sử dụng Decentralized Identifiers (DID) để định danh lâu dài cho từng DT. DID giúp truy xuất lịch sử và xác minh nguồn gốc dữ liệu một cách minh bạch và đáng tin cậy.\n",
            "\n",
            "Khi thực hiện mint NFT tín chỉ carbon, chúng tôi nhóm một lô các CID liên quan và liên kết chúng với DID của DT tương ứng. Điều này cho phép chứng minh nguồn gốc dữ liệu và danh tính của bên phát thải hoặc hấp thụ carbon, đồng thời giảm đáng kể chi phí gas nhờ không cần ghi dữ liệu lớn trực tiếp lên blockchain hay liên lục mint từng NFT riêng lẻ.\n",
            "\n",
            "Ngữ cảnh giả mạo và hướng giải quyết\n",
            "\n",
            "Kẻ tấn công sinh DID và gửi thông tin DT về MVR: Chỉ chấp nhận những DID đã được đăng kí trước.\n",
            "\n",
            "Kẻ tấn công giả mạo một DT hợp lệ bằng cách giả mạo DID: Xác minh chữ kí ứng với khóa công khai trong DID document.\n",
            "\n",
            "DT đã xác minh gửi thông tin giả: Dùng ML/DL để phát hiện số liệu bất thường và MVR có trách nhiệm giám sát, quản lý cảm biến.\n",
            "\n",
            "Giao thức xác thực giữa DT và MVR\n",
            "\n",
            "Tổng quan\n",
            "\n",
            "Trong hệ thống này, vì các dữ liệu DT cần được công khai để xác thực nên không cần đảm bảo tính bí mật mà thay vào đó, chúng ta cần xác thực các thành phần tham gia và đảm bảo tính toàn vẹn của dữ liệu. Trong đó, đối với việc gửi dữ liệu từ cảm biến lên DT, chúng ta có thể sử dụng PSK (Preshared Secret Key) để xác thực và kiểm tra tính toàn vẹn thông qua HMAC vì DT nằm gần nguồn dữ liệu. Tuy nhiên, đối với việc gửi dữ liệu từ DT lên MVR, chúng ta không nên dùng PSK để xác thực và đảm bảo tính toàn vẹn vì khoảng cách xa khiến cho việc triển khai PSK trở nên khó khăn hơn khi muốn mở rộng hệ thống và cập nhật  khóa. Do đó, chúng ta sẽ sử dụng hệ mã hóa khóa công khai và chữ kí số. Vì dữ liệu được gửi từ DT lên MVR theo thời gian thực nên chúng ta cần xác thực DT và đồng thuận khóa phiên SSK (Session Key) trước rồi dùng SSK đó để đảm bảo tính toàn vẹn của dữ liệu. Việc xác thực DT, MVR và các bên liên quan, chúng tôi không dùng chứng chỉ X.509 với TLS mà tận dụng DID đã trình bày, cụ thể là Ethr DID. Ethr DID cho phép chủ tài khoản thêm hoặc xóa các khóa công khai thông qua hợp đồng Ethr DID Registry, giúp linh động hơn khi triển khai.\n",
            "\n",
            "Giao thức xác thực và đồng thuận khóa phiên\n",
            "\n",
            "Pha thiết lập (Setup) và đăng kí:\n",
            "\n",
            "MVR và các DT sẽ tạo DID, đồng thời sinh cặp khóa RSA và thêm khóa công khai vào DID document. Vì kiến trúc mạng có dạng hình sao (các DT gửi dữ liệu về MVR để xác minh), MVR tiến hành đăng kí cho các DT bằng cách lưu lại các thông tin DID, địa chỉ IP, vv.\n",
            "\n",
            "Trong trường hợp muốn mở rộng hệ thống, cho phép xác thực và đồng thuận khóa phiên đối với 2 thành phần bất kỳ (Kiến trúc mạng ngang hàng thay vì hình sao), chúng ta sẽ cần đến một bên trung gian là Trust Authority (TA) để mapping danh tính của tổ chức (DT, MVR, vv.) sang DID, đóng vai trò như Certificate Authority trong TLS và chứng chỉ X.509. Việc này có thể thực hiện thông qua môt hợp đồng thông minh chỉ cho phép TA mới có quyền thêm, xóa hoặc sửa.\n",
            "\n",
            "Xác thực và đồng thuận khóa phiên SSK:\n",
            "\n",
            "Quá trình xác thực và đồng thuận khóa phiên SSK của DT và MVR provider được mô tả như hình bên dưới:\n",
            "\n",
            "Xác thực và đảm bảo tính toàn vẹn của dữ liệu gửi đi thông qua SSK\n",
            "\n",
            "Sau khi thành lập được khóa phiên SSK, chúng tôi dùng nó để xác thực DT và đảm bảo tính toàn vẹn của dữ liệu gửi lên MVR. Lý do cần sử dụng SSK thay cho chữ kí số là vì tốc độ xác minh chữ kí số thông qua mật mã bất đối xứng lâu hơn nhiều so với việc kiểm tra HMAC, trong khi dữ liệu DT gửi lên MVR theo thời gian thực nên cần phải tối ưu. Ngoài ra, để đơn giản và thuận tiện cho việc triển khai, chúng tôi sử dụng JWT (JSON Web Token) với thuật toán HS256 để gửi lên các thông tin như CID của dữ liệu DT, ID của cảm biến hay thời gian hiện tại, vv.\n"
          ]
        }
      ]
    },
    {
      "cell_type": "code",
      "source": [
        "\n",
        "from tqdm import tqdm\n",
        "from transformers import AutoTokenizer\n",
        "from langchain.docstore.document import Document\n",
        "from langchain.text_splitter import RecursiveCharacterTextSplitter\n",
        "from langchain.vectorstores import FAISS\n",
        "from langchain_huggingface import HuggingFaceEmbeddings\n",
        "from langchain_community.vectorstores.utils import DistanceStrategy\n",
        "\n",
        "source_docs = documents\n",
        "\n",
        "\n",
        "text_splitter = RecursiveCharacterTextSplitter.from_huggingface_tokenizer(\n",
        "    AutoTokenizer.from_pretrained(\"thenlper/gte-small\"),\n",
        "    chunk_size=500,\n",
        "    chunk_overlap=20,\n",
        "    add_start_index=True,\n",
        "    strip_whitespace=True,\n",
        "    separators=[\"\\n\\n\", \"\\n\", \".\", \" \", \"\"],\n",
        ")\n",
        "\n",
        "# Split docs and keep only unique ones\n",
        "print(\"Splitting documents...\")\n",
        "docs_processed = []\n",
        "unique_texts = {}\n",
        "for doc in tqdm(source_docs):\n",
        "    new_docs = text_splitter.split_documents([doc])\n",
        "    for new_doc in new_docs:\n",
        "        if new_doc.page_content not in unique_texts:\n",
        "            unique_texts[new_doc.page_content] = True\n",
        "            docs_processed.append(new_doc)\n",
        "\n",
        "print(\"Embedding documents...\")\n",
        "embedding_model = HuggingFaceEmbeddings(model_name=\"thenlper/gte-small\")\n",
        "huggingface_doc_vector_db = FAISS.from_documents(\n",
        "    documents=docs_processed,\n",
        "    embedding=embedding_model,\n",
        "    distance_strategy=DistanceStrategy.COSINE,\n",
        ")"
      ],
      "metadata": {
        "colab": {
          "base_uri": "https://localhost:8080/"
        },
        "id": "sU-i1nOHKrlJ",
        "outputId": "1346c22f-7798-4ec7-82d6-92a16944e97d"
      },
      "execution_count": 72,
      "outputs": [
        {
          "output_type": "stream",
          "name": "stdout",
          "text": [
            "Splitting documents...\n"
          ]
        },
        {
          "output_type": "stream",
          "name": "stderr",
          "text": [
            "100%|██████████| 1/1 [00:00<00:00,  8.40it/s]"
          ]
        },
        {
          "output_type": "stream",
          "name": "stdout",
          "text": [
            "Embedding documents...\n"
          ]
        },
        {
          "output_type": "stream",
          "name": "stderr",
          "text": [
            "\n"
          ]
        }
      ]
    },
    {
      "cell_type": "code",
      "source": [
        "from smolagents import Tool\n",
        "from langchain_core.vectorstores import VectorStore\n",
        "\n",
        "class RetrieverTool(Tool):\n",
        "    name = \"retriever\"\n",
        "    description=\"Truy xuất thông tin từ cơ sở dữ liệu nội bộ\"\n",
        "    inputs = {\n",
        "        \"query\": {\n",
        "            \"type\": \"string\",\n",
        "            \"description\": \"The query to perform. This should be semantically close to your target documents. Use the affirmative form rather than a question.\",\n",
        "        }\n",
        "    }\n",
        "    output_type = \"string\"\n",
        "\n",
        "    def __init__(self, vectordb: VectorStore, **kwargs):\n",
        "        super().__init__(**kwargs)\n",
        "        self.vectordb = vectordb\n",
        "\n",
        "    def forward(self, query: str) -> str:\n",
        "        assert isinstance(query, str), \"Your search query must be a string\"\n",
        "\n",
        "        docs = self.vectordb.similarity_search(\n",
        "            query,\n",
        "            k=3,\n",
        "        )\n",
        "\n",
        "        return \"\\nRetrieved documents:\\n\" + \"\".join(\n",
        "            [\n",
        "                f\"===== Document {str(i)} =====\\n\" + doc.page_content\n",
        "                for i, doc in enumerate(docs)\n",
        "            ]\n",
        "        )"
      ],
      "metadata": {
        "id": "LFLy1SuMZUeC"
      },
      "execution_count": 73,
      "outputs": []
    },
    {
      "cell_type": "code",
      "source": [
        "in_system_tool = RetrieverTool(huggingface_doc_vector_db)"
      ],
      "metadata": {
        "id": "Ee7QP5khZq_p"
      },
      "execution_count": 74,
      "outputs": []
    },
    {
      "cell_type": "code",
      "source": [
        "retriever_agent = ToolCallingAgent(\n",
        "    tools=[in_system_tool],  # This is good!\n",
        "    model=model,\n",
        "    name=\"retriever_agent\",\n",
        "    description=\"Agent chuyên tìm kiếm thông tin từ cơ sở tri thức nội bộ về carbon, tín chỉ carbon, dữ liệu tài liệu công ty và các báo cáo PDF.\",\n",
        ")"
      ],
      "metadata": {
        "id": "GxqxggSGaIjN"
      },
      "execution_count": 106,
      "outputs": []
    },
    {
      "cell_type": "code",
      "source": [
        "retriever_agent.run(\"AgriCarbonDEX hoạt động như nào ?\")"
      ],
      "metadata": {
        "colab": {
          "base_uri": "https://localhost:8080/",
          "height": 397
        },
        "id": "32W4H3W016kp",
        "outputId": "8c6f39d3-a5f3-4ee8-e336-35d347422d64"
      },
      "execution_count": null,
      "outputs": [
        {
          "output_type": "display_data",
          "data": {
            "text/plain": [
              "\u001b[38;2;212;183;2m╭─\u001b[0m\u001b[38;2;212;183;2m──────────────────────────────────────────\u001b[0m\u001b[38;2;212;183;2m \u001b[0m\u001b[1;38;2;212;183;2mNew run - retriever_agent\u001b[0m\u001b[38;2;212;183;2m \u001b[0m\u001b[38;2;212;183;2m──────────────────────────────────────────\u001b[0m\u001b[38;2;212;183;2m─╮\u001b[0m\n",
              "\u001b[38;2;212;183;2m│\u001b[0m                                                                                                                 \u001b[38;2;212;183;2m│\u001b[0m\n",
              "\u001b[38;2;212;183;2m│\u001b[0m \u001b[1mAgriCarbonDEX hoạt động như nào ?\u001b[0m                                                                               \u001b[38;2;212;183;2m│\u001b[0m\n",
              "\u001b[38;2;212;183;2m│\u001b[0m                                                                                                                 \u001b[38;2;212;183;2m│\u001b[0m\n",
              "\u001b[38;2;212;183;2m╰─\u001b[0m\u001b[38;2;212;183;2m InferenceClientModel - Qwen/Qwen2.5-7B-Instruct \u001b[0m\u001b[38;2;212;183;2m──────────────────────────────────────────────────────────────\u001b[0m\u001b[38;2;212;183;2m─╯\u001b[0m\n"
            ],
            "text/html": [
              "<pre style=\"white-space:pre;overflow-x:auto;line-height:normal;font-family:Menlo,'DejaVu Sans Mono',consolas,'Courier New',monospace\"><span style=\"color: #d4b702; text-decoration-color: #d4b702\">╭─────────────────────────────────────────── </span><span style=\"color: #d4b702; text-decoration-color: #d4b702; font-weight: bold\">New run - retriever_agent</span><span style=\"color: #d4b702; text-decoration-color: #d4b702\"> ───────────────────────────────────────────╮</span>\n",
              "<span style=\"color: #d4b702; text-decoration-color: #d4b702\">│</span>                                                                                                                 <span style=\"color: #d4b702; text-decoration-color: #d4b702\">│</span>\n",
              "<span style=\"color: #d4b702; text-decoration-color: #d4b702\">│</span> <span style=\"font-weight: bold\">AgriCarbonDEX hoạt động như nào ?</span>                                                                               <span style=\"color: #d4b702; text-decoration-color: #d4b702\">│</span>\n",
              "<span style=\"color: #d4b702; text-decoration-color: #d4b702\">│</span>                                                                                                                 <span style=\"color: #d4b702; text-decoration-color: #d4b702\">│</span>\n",
              "<span style=\"color: #d4b702; text-decoration-color: #d4b702\">╰─ InferenceClientModel - Qwen/Qwen2.5-7B-Instruct ───────────────────────────────────────────────────────────────╯</span>\n",
              "</pre>\n"
            ]
          },
          "metadata": {}
        },
        {
          "output_type": "display_data",
          "data": {
            "text/plain": [
              "\u001b[38;2;212;183;2m━━━━━━━━━━━━━━━━━━━━━━━━━━━━━━━━━━━━━━━━━━━━━━━━━━━━━ \u001b[0m\u001b[1mStep \u001b[0m\u001b[1;36m1\u001b[0m\u001b[38;2;212;183;2m ━━━━━━━━━━━━━━━━━━━━━━━━━━━━━━━━━━━━━━━━━━━━━━━━━━━━━━\u001b[0m\n"
            ],
            "text/html": [
              "<pre style=\"white-space:pre;overflow-x:auto;line-height:normal;font-family:Menlo,'DejaVu Sans Mono',consolas,'Courier New',monospace\"><span style=\"color: #d4b702; text-decoration-color: #d4b702\">━━━━━━━━━━━━━━━━━━━━━━━━━━━━━━━━━━━━━━━━━━━━━━━━━━━━━ </span><span style=\"font-weight: bold\">Step </span><span style=\"color: #008080; text-decoration-color: #008080; font-weight: bold\">1</span><span style=\"color: #d4b702; text-decoration-color: #d4b702\"> ━━━━━━━━━━━━━━━━━━━━━━━━━━━━━━━━━━━━━━━━━━━━━━━━━━━━━━</span>\n",
              "</pre>\n"
            ]
          },
          "metadata": {}
        },
        {
          "output_type": "display_data",
          "data": {
            "text/plain": [
              "\u001b[2m[Step 1: Duration 3.08 seconds]\u001b[0m\n"
            ],
            "text/html": [
              "<pre style=\"white-space:pre;overflow-x:auto;line-height:normal;font-family:Menlo,'DejaVu Sans Mono',consolas,'Courier New',monospace\"><span style=\"color: #7f7f7f; text-decoration-color: #7f7f7f\">[Step 1: Duration 3.08 seconds]</span>\n",
              "</pre>\n"
            ]
          },
          "metadata": {}
        },
        {
          "output_type": "error",
          "ename": "KeyboardInterrupt",
          "evalue": "",
          "traceback": [
            "\u001b[0;31m---------------------------------------------------------------------------\u001b[0m",
            "\u001b[0;31mKeyboardInterrupt\u001b[0m                         Traceback (most recent call last)",
            "\u001b[0;32m/tmp/ipython-input-52-1406384913.py\u001b[0m in \u001b[0;36m<cell line: 0>\u001b[0;34m()\u001b[0m\n\u001b[0;32m----> 1\u001b[0;31m \u001b[0mretriever_agent\u001b[0m\u001b[0;34m.\u001b[0m\u001b[0mrun\u001b[0m\u001b[0;34m(\u001b[0m\u001b[0;34m\"AgriCarbonDEX hoạt động như nào ?\"\u001b[0m\u001b[0;34m)\u001b[0m\u001b[0;34m\u001b[0m\u001b[0;34m\u001b[0m\u001b[0m\n\u001b[0m",
            "\u001b[0;32m/usr/local/lib/python3.11/dist-packages/smolagents/agents.py\u001b[0m in \u001b[0;36mrun\u001b[0;34m(self, task, stream, reset, images, additional_args, max_steps)\u001b[0m\n\u001b[1;32m    409\u001b[0m         \u001b[0;31m# Outputs are returned only at the end. We only look at the last step.\u001b[0m\u001b[0;34m\u001b[0m\u001b[0;34m\u001b[0m\u001b[0m\n\u001b[1;32m    410\u001b[0m \u001b[0;34m\u001b[0m\u001b[0m\n\u001b[0;32m--> 411\u001b[0;31m         \u001b[0msteps\u001b[0m \u001b[0;34m=\u001b[0m \u001b[0mlist\u001b[0m\u001b[0;34m(\u001b[0m\u001b[0mself\u001b[0m\u001b[0;34m.\u001b[0m\u001b[0m_run_stream\u001b[0m\u001b[0;34m(\u001b[0m\u001b[0mtask\u001b[0m\u001b[0;34m=\u001b[0m\u001b[0mself\u001b[0m\u001b[0;34m.\u001b[0m\u001b[0mtask\u001b[0m\u001b[0;34m,\u001b[0m \u001b[0mmax_steps\u001b[0m\u001b[0;34m=\u001b[0m\u001b[0mmax_steps\u001b[0m\u001b[0;34m,\u001b[0m \u001b[0mimages\u001b[0m\u001b[0;34m=\u001b[0m\u001b[0mimages\u001b[0m\u001b[0;34m)\u001b[0m\u001b[0;34m)\u001b[0m\u001b[0;34m\u001b[0m\u001b[0;34m\u001b[0m\u001b[0m\n\u001b[0m\u001b[1;32m    412\u001b[0m         \u001b[0;32massert\u001b[0m \u001b[0misinstance\u001b[0m\u001b[0;34m(\u001b[0m\u001b[0msteps\u001b[0m\u001b[0;34m[\u001b[0m\u001b[0;34m-\u001b[0m\u001b[0;36m1\u001b[0m\u001b[0;34m]\u001b[0m\u001b[0;34m,\u001b[0m \u001b[0mFinalAnswerStep\u001b[0m\u001b[0;34m)\u001b[0m\u001b[0;34m\u001b[0m\u001b[0;34m\u001b[0m\u001b[0m\n\u001b[1;32m    413\u001b[0m         \u001b[0moutput\u001b[0m \u001b[0;34m=\u001b[0m \u001b[0msteps\u001b[0m\u001b[0;34m[\u001b[0m\u001b[0;34m-\u001b[0m\u001b[0;36m1\u001b[0m\u001b[0;34m]\u001b[0m\u001b[0;34m.\u001b[0m\u001b[0moutput\u001b[0m\u001b[0;34m\u001b[0m\u001b[0;34m\u001b[0m\u001b[0m\n",
            "\u001b[0;32m/usr/local/lib/python3.11/dist-packages/smolagents/agents.py\u001b[0m in \u001b[0;36m_run_stream\u001b[0;34m(self, task, max_steps, images)\u001b[0m\n\u001b[1;32m    483\u001b[0m             )\n\u001b[1;32m    484\u001b[0m             \u001b[0;32mtry\u001b[0m\u001b[0;34m:\u001b[0m\u001b[0;34m\u001b[0m\u001b[0;34m\u001b[0m\u001b[0m\n\u001b[0;32m--> 485\u001b[0;31m                 \u001b[0;32mfor\u001b[0m \u001b[0mel\u001b[0m \u001b[0;32min\u001b[0m \u001b[0mself\u001b[0m\u001b[0;34m.\u001b[0m\u001b[0m_execute_step\u001b[0m\u001b[0;34m(\u001b[0m\u001b[0maction_step\u001b[0m\u001b[0;34m)\u001b[0m\u001b[0;34m:\u001b[0m\u001b[0;34m\u001b[0m\u001b[0;34m\u001b[0m\u001b[0m\n\u001b[0m\u001b[1;32m    486\u001b[0m                     \u001b[0;32myield\u001b[0m \u001b[0mel\u001b[0m\u001b[0;34m\u001b[0m\u001b[0;34m\u001b[0m\u001b[0m\n\u001b[1;32m    487\u001b[0m                 \u001b[0mfinal_answer\u001b[0m \u001b[0;34m=\u001b[0m \u001b[0mel\u001b[0m\u001b[0;34m\u001b[0m\u001b[0;34m\u001b[0m\u001b[0m\n",
            "\u001b[0;32m/usr/local/lib/python3.11/dist-packages/smolagents/agents.py\u001b[0m in \u001b[0;36m_execute_step\u001b[0;34m(self, memory_step)\u001b[0m\n\u001b[1;32m    505\u001b[0m     \u001b[0;32mdef\u001b[0m \u001b[0m_execute_step\u001b[0m\u001b[0;34m(\u001b[0m\u001b[0mself\u001b[0m\u001b[0;34m,\u001b[0m \u001b[0mmemory_step\u001b[0m\u001b[0;34m:\u001b[0m \u001b[0mActionStep\u001b[0m\u001b[0;34m)\u001b[0m \u001b[0;34m->\u001b[0m \u001b[0mGenerator\u001b[0m\u001b[0;34m[\u001b[0m\u001b[0mChatMessageStreamDelta\u001b[0m \u001b[0;34m|\u001b[0m \u001b[0mFinalOutput\u001b[0m\u001b[0;34m]\u001b[0m\u001b[0;34m:\u001b[0m\u001b[0;34m\u001b[0m\u001b[0;34m\u001b[0m\u001b[0m\n\u001b[1;32m    506\u001b[0m         \u001b[0mself\u001b[0m\u001b[0;34m.\u001b[0m\u001b[0mlogger\u001b[0m\u001b[0;34m.\u001b[0m\u001b[0mlog_rule\u001b[0m\u001b[0;34m(\u001b[0m\u001b[0;34mf\"Step {self.step_number}\"\u001b[0m\u001b[0;34m,\u001b[0m \u001b[0mlevel\u001b[0m\u001b[0;34m=\u001b[0m\u001b[0mLogLevel\u001b[0m\u001b[0;34m.\u001b[0m\u001b[0mINFO\u001b[0m\u001b[0;34m)\u001b[0m\u001b[0;34m\u001b[0m\u001b[0;34m\u001b[0m\u001b[0m\n\u001b[0;32m--> 507\u001b[0;31m         \u001b[0;32mfor\u001b[0m \u001b[0mel\u001b[0m \u001b[0;32min\u001b[0m \u001b[0mself\u001b[0m\u001b[0;34m.\u001b[0m\u001b[0m_step_stream\u001b[0m\u001b[0;34m(\u001b[0m\u001b[0mmemory_step\u001b[0m\u001b[0;34m)\u001b[0m\u001b[0;34m:\u001b[0m\u001b[0;34m\u001b[0m\u001b[0;34m\u001b[0m\u001b[0m\n\u001b[0m\u001b[1;32m    508\u001b[0m             \u001b[0mfinal_answer\u001b[0m \u001b[0;34m=\u001b[0m \u001b[0mel\u001b[0m\u001b[0;34m\u001b[0m\u001b[0;34m\u001b[0m\u001b[0m\n\u001b[1;32m    509\u001b[0m             \u001b[0;32mif\u001b[0m \u001b[0misinstance\u001b[0m\u001b[0;34m(\u001b[0m\u001b[0mel\u001b[0m\u001b[0;34m,\u001b[0m \u001b[0mChatMessageStreamDelta\u001b[0m\u001b[0;34m)\u001b[0m\u001b[0;34m:\u001b[0m\u001b[0;34m\u001b[0m\u001b[0;34m\u001b[0m\u001b[0m\n",
            "\u001b[0;32m/usr/local/lib/python3.11/dist-packages/smolagents/agents.py\u001b[0m in \u001b[0;36m_step_stream\u001b[0;34m(self, memory_step)\u001b[0m\n\u001b[1;32m   1247\u001b[0m                 )\n\u001b[1;32m   1248\u001b[0m             \u001b[0;32melse\u001b[0m\u001b[0;34m:\u001b[0m\u001b[0;34m\u001b[0m\u001b[0;34m\u001b[0m\u001b[0m\n\u001b[0;32m-> 1249\u001b[0;31m                 chat_message: ChatMessage = self.model.generate(\n\u001b[0m\u001b[1;32m   1250\u001b[0m                     \u001b[0minput_messages\u001b[0m\u001b[0;34m,\u001b[0m\u001b[0;34m\u001b[0m\u001b[0;34m\u001b[0m\u001b[0m\n\u001b[1;32m   1251\u001b[0m                     \u001b[0mstop_sequences\u001b[0m\u001b[0;34m=\u001b[0m\u001b[0;34m[\u001b[0m\u001b[0;34m\"Observation:\"\u001b[0m\u001b[0;34m,\u001b[0m \u001b[0;34m\"Calling tools:\"\u001b[0m\u001b[0;34m]\u001b[0m\u001b[0;34m,\u001b[0m\u001b[0;34m\u001b[0m\u001b[0;34m\u001b[0m\u001b[0m\n",
            "\u001b[0;32m/usr/local/lib/python3.11/dist-packages/smolagents/models.py\u001b[0m in \u001b[0;36mgenerate\u001b[0;34m(self, messages, stop_sequences, response_format, tools_to_call_from, **kwargs)\u001b[0m\n\u001b[1;32m   1317\u001b[0m             \u001b[0;34m**\u001b[0m\u001b[0mkwargs\u001b[0m\u001b[0;34m,\u001b[0m\u001b[0;34m\u001b[0m\u001b[0;34m\u001b[0m\u001b[0m\n\u001b[1;32m   1318\u001b[0m         )\n\u001b[0;32m-> 1319\u001b[0;31m         \u001b[0mresponse\u001b[0m \u001b[0;34m=\u001b[0m \u001b[0mself\u001b[0m\u001b[0;34m.\u001b[0m\u001b[0mclient\u001b[0m\u001b[0;34m.\u001b[0m\u001b[0mchat_completion\u001b[0m\u001b[0;34m(\u001b[0m\u001b[0;34m**\u001b[0m\u001b[0mcompletion_kwargs\u001b[0m\u001b[0;34m)\u001b[0m\u001b[0;34m\u001b[0m\u001b[0;34m\u001b[0m\u001b[0m\n\u001b[0m\u001b[1;32m   1320\u001b[0m \u001b[0;34m\u001b[0m\u001b[0m\n\u001b[1;32m   1321\u001b[0m         \u001b[0mself\u001b[0m\u001b[0;34m.\u001b[0m\u001b[0m_last_input_token_count\u001b[0m \u001b[0;34m=\u001b[0m \u001b[0mresponse\u001b[0m\u001b[0;34m.\u001b[0m\u001b[0musage\u001b[0m\u001b[0;34m.\u001b[0m\u001b[0mprompt_tokens\u001b[0m\u001b[0;34m\u001b[0m\u001b[0;34m\u001b[0m\u001b[0m\n",
            "\u001b[0;32m/usr/local/lib/python3.11/dist-packages/huggingface_hub/inference/_client.py\u001b[0m in \u001b[0;36mchat_completion\u001b[0;34m(self, messages, model, stream, frequency_penalty, logit_bias, logprobs, max_tokens, n, presence_penalty, response_format, seed, stop, stream_options, temperature, tool_choice, tool_prompt, tools, top_logprobs, top_p, extra_body)\u001b[0m\n\u001b[1;32m    922\u001b[0m             \u001b[0mapi_key\u001b[0m\u001b[0;34m=\u001b[0m\u001b[0mself\u001b[0m\u001b[0;34m.\u001b[0m\u001b[0mtoken\u001b[0m\u001b[0;34m,\u001b[0m\u001b[0;34m\u001b[0m\u001b[0;34m\u001b[0m\u001b[0m\n\u001b[1;32m    923\u001b[0m         )\n\u001b[0;32m--> 924\u001b[0;31m         \u001b[0mdata\u001b[0m \u001b[0;34m=\u001b[0m \u001b[0mself\u001b[0m\u001b[0;34m.\u001b[0m\u001b[0m_inner_post\u001b[0m\u001b[0;34m(\u001b[0m\u001b[0mrequest_parameters\u001b[0m\u001b[0;34m,\u001b[0m \u001b[0mstream\u001b[0m\u001b[0;34m=\u001b[0m\u001b[0mstream\u001b[0m\u001b[0;34m)\u001b[0m\u001b[0;34m\u001b[0m\u001b[0;34m\u001b[0m\u001b[0m\n\u001b[0m\u001b[1;32m    925\u001b[0m \u001b[0;34m\u001b[0m\u001b[0m\n\u001b[1;32m    926\u001b[0m         \u001b[0;32mif\u001b[0m \u001b[0mstream\u001b[0m\u001b[0;34m:\u001b[0m\u001b[0;34m\u001b[0m\u001b[0;34m\u001b[0m\u001b[0m\n",
            "\u001b[0;32m/usr/local/lib/python3.11/dist-packages/huggingface_hub/inference/_client.py\u001b[0m in \u001b[0;36m_inner_post\u001b[0;34m(self, request_parameters, stream)\u001b[0m\n\u001b[1;32m    263\u001b[0m         \u001b[0;32mwith\u001b[0m \u001b[0m_open_as_binary\u001b[0m\u001b[0;34m(\u001b[0m\u001b[0mrequest_parameters\u001b[0m\u001b[0;34m.\u001b[0m\u001b[0mdata\u001b[0m\u001b[0;34m)\u001b[0m \u001b[0;32mas\u001b[0m \u001b[0mdata_as_binary\u001b[0m\u001b[0;34m:\u001b[0m\u001b[0;34m\u001b[0m\u001b[0;34m\u001b[0m\u001b[0m\n\u001b[1;32m    264\u001b[0m             \u001b[0;32mtry\u001b[0m\u001b[0;34m:\u001b[0m\u001b[0;34m\u001b[0m\u001b[0;34m\u001b[0m\u001b[0m\n\u001b[0;32m--> 265\u001b[0;31m                 response = get_session().post(\n\u001b[0m\u001b[1;32m    266\u001b[0m                     \u001b[0mrequest_parameters\u001b[0m\u001b[0;34m.\u001b[0m\u001b[0murl\u001b[0m\u001b[0;34m,\u001b[0m\u001b[0;34m\u001b[0m\u001b[0;34m\u001b[0m\u001b[0m\n\u001b[1;32m    267\u001b[0m                     \u001b[0mjson\u001b[0m\u001b[0;34m=\u001b[0m\u001b[0mrequest_parameters\u001b[0m\u001b[0;34m.\u001b[0m\u001b[0mjson\u001b[0m\u001b[0;34m,\u001b[0m\u001b[0;34m\u001b[0m\u001b[0;34m\u001b[0m\u001b[0m\n",
            "\u001b[0;32m/usr/local/lib/python3.11/dist-packages/requests/sessions.py\u001b[0m in \u001b[0;36mpost\u001b[0;34m(self, url, data, json, **kwargs)\u001b[0m\n\u001b[1;32m    635\u001b[0m         \"\"\"\n\u001b[1;32m    636\u001b[0m \u001b[0;34m\u001b[0m\u001b[0m\n\u001b[0;32m--> 637\u001b[0;31m         \u001b[0;32mreturn\u001b[0m \u001b[0mself\u001b[0m\u001b[0;34m.\u001b[0m\u001b[0mrequest\u001b[0m\u001b[0;34m(\u001b[0m\u001b[0;34m\"POST\"\u001b[0m\u001b[0;34m,\u001b[0m \u001b[0murl\u001b[0m\u001b[0;34m,\u001b[0m \u001b[0mdata\u001b[0m\u001b[0;34m=\u001b[0m\u001b[0mdata\u001b[0m\u001b[0;34m,\u001b[0m \u001b[0mjson\u001b[0m\u001b[0;34m=\u001b[0m\u001b[0mjson\u001b[0m\u001b[0;34m,\u001b[0m \u001b[0;34m**\u001b[0m\u001b[0mkwargs\u001b[0m\u001b[0;34m)\u001b[0m\u001b[0;34m\u001b[0m\u001b[0;34m\u001b[0m\u001b[0m\n\u001b[0m\u001b[1;32m    638\u001b[0m \u001b[0;34m\u001b[0m\u001b[0m\n\u001b[1;32m    639\u001b[0m     \u001b[0;32mdef\u001b[0m \u001b[0mput\u001b[0m\u001b[0;34m(\u001b[0m\u001b[0mself\u001b[0m\u001b[0;34m,\u001b[0m \u001b[0murl\u001b[0m\u001b[0;34m,\u001b[0m \u001b[0mdata\u001b[0m\u001b[0;34m=\u001b[0m\u001b[0;32mNone\u001b[0m\u001b[0;34m,\u001b[0m \u001b[0;34m**\u001b[0m\u001b[0mkwargs\u001b[0m\u001b[0;34m)\u001b[0m\u001b[0;34m:\u001b[0m\u001b[0;34m\u001b[0m\u001b[0;34m\u001b[0m\u001b[0m\n",
            "\u001b[0;32m/usr/local/lib/python3.11/dist-packages/requests/sessions.py\u001b[0m in \u001b[0;36mrequest\u001b[0;34m(self, method, url, params, data, headers, cookies, files, auth, timeout, allow_redirects, proxies, hooks, stream, verify, cert, json)\u001b[0m\n\u001b[1;32m    587\u001b[0m         }\n\u001b[1;32m    588\u001b[0m         \u001b[0msend_kwargs\u001b[0m\u001b[0;34m.\u001b[0m\u001b[0mupdate\u001b[0m\u001b[0;34m(\u001b[0m\u001b[0msettings\u001b[0m\u001b[0;34m)\u001b[0m\u001b[0;34m\u001b[0m\u001b[0;34m\u001b[0m\u001b[0m\n\u001b[0;32m--> 589\u001b[0;31m         \u001b[0mresp\u001b[0m \u001b[0;34m=\u001b[0m \u001b[0mself\u001b[0m\u001b[0;34m.\u001b[0m\u001b[0msend\u001b[0m\u001b[0;34m(\u001b[0m\u001b[0mprep\u001b[0m\u001b[0;34m,\u001b[0m \u001b[0;34m**\u001b[0m\u001b[0msend_kwargs\u001b[0m\u001b[0;34m)\u001b[0m\u001b[0;34m\u001b[0m\u001b[0;34m\u001b[0m\u001b[0m\n\u001b[0m\u001b[1;32m    590\u001b[0m \u001b[0;34m\u001b[0m\u001b[0m\n\u001b[1;32m    591\u001b[0m         \u001b[0;32mreturn\u001b[0m \u001b[0mresp\u001b[0m\u001b[0;34m\u001b[0m\u001b[0;34m\u001b[0m\u001b[0m\n",
            "\u001b[0;32m/usr/local/lib/python3.11/dist-packages/requests/sessions.py\u001b[0m in \u001b[0;36msend\u001b[0;34m(self, request, **kwargs)\u001b[0m\n\u001b[1;32m    701\u001b[0m \u001b[0;34m\u001b[0m\u001b[0m\n\u001b[1;32m    702\u001b[0m         \u001b[0;31m# Send the request\u001b[0m\u001b[0;34m\u001b[0m\u001b[0;34m\u001b[0m\u001b[0m\n\u001b[0;32m--> 703\u001b[0;31m         \u001b[0mr\u001b[0m \u001b[0;34m=\u001b[0m \u001b[0madapter\u001b[0m\u001b[0;34m.\u001b[0m\u001b[0msend\u001b[0m\u001b[0;34m(\u001b[0m\u001b[0mrequest\u001b[0m\u001b[0;34m,\u001b[0m \u001b[0;34m**\u001b[0m\u001b[0mkwargs\u001b[0m\u001b[0;34m)\u001b[0m\u001b[0;34m\u001b[0m\u001b[0;34m\u001b[0m\u001b[0m\n\u001b[0m\u001b[1;32m    704\u001b[0m \u001b[0;34m\u001b[0m\u001b[0m\n\u001b[1;32m    705\u001b[0m         \u001b[0;31m# Total elapsed time of the request (approximately)\u001b[0m\u001b[0;34m\u001b[0m\u001b[0;34m\u001b[0m\u001b[0m\n",
            "\u001b[0;32m/usr/local/lib/python3.11/dist-packages/huggingface_hub/utils/_http.py\u001b[0m in \u001b[0;36msend\u001b[0;34m(self, request, *args, **kwargs)\u001b[0m\n\u001b[1;32m     94\u001b[0m             \u001b[0mlogger\u001b[0m\u001b[0;34m.\u001b[0m\u001b[0mdebug\u001b[0m\u001b[0;34m(\u001b[0m\u001b[0;34mf\"Send: {_curlify(request)}\"\u001b[0m\u001b[0;34m)\u001b[0m\u001b[0;34m\u001b[0m\u001b[0;34m\u001b[0m\u001b[0m\n\u001b[1;32m     95\u001b[0m         \u001b[0;32mtry\u001b[0m\u001b[0;34m:\u001b[0m\u001b[0;34m\u001b[0m\u001b[0;34m\u001b[0m\u001b[0m\n\u001b[0;32m---> 96\u001b[0;31m             \u001b[0;32mreturn\u001b[0m \u001b[0msuper\u001b[0m\u001b[0;34m(\u001b[0m\u001b[0;34m)\u001b[0m\u001b[0;34m.\u001b[0m\u001b[0msend\u001b[0m\u001b[0;34m(\u001b[0m\u001b[0mrequest\u001b[0m\u001b[0;34m,\u001b[0m \u001b[0;34m*\u001b[0m\u001b[0margs\u001b[0m\u001b[0;34m,\u001b[0m \u001b[0;34m**\u001b[0m\u001b[0mkwargs\u001b[0m\u001b[0;34m)\u001b[0m\u001b[0;34m\u001b[0m\u001b[0;34m\u001b[0m\u001b[0m\n\u001b[0m\u001b[1;32m     97\u001b[0m         \u001b[0;32mexcept\u001b[0m \u001b[0mrequests\u001b[0m\u001b[0;34m.\u001b[0m\u001b[0mRequestException\u001b[0m \u001b[0;32mas\u001b[0m \u001b[0me\u001b[0m\u001b[0;34m:\u001b[0m\u001b[0;34m\u001b[0m\u001b[0;34m\u001b[0m\u001b[0m\n\u001b[1;32m     98\u001b[0m             \u001b[0mrequest_id\u001b[0m \u001b[0;34m=\u001b[0m \u001b[0mrequest\u001b[0m\u001b[0;34m.\u001b[0m\u001b[0mheaders\u001b[0m\u001b[0;34m.\u001b[0m\u001b[0mget\u001b[0m\u001b[0;34m(\u001b[0m\u001b[0mX_AMZN_TRACE_ID\u001b[0m\u001b[0;34m)\u001b[0m\u001b[0;34m\u001b[0m\u001b[0;34m\u001b[0m\u001b[0m\n",
            "\u001b[0;32m/usr/local/lib/python3.11/dist-packages/requests/adapters.py\u001b[0m in \u001b[0;36msend\u001b[0;34m(self, request, stream, timeout, verify, cert, proxies)\u001b[0m\n\u001b[1;32m    665\u001b[0m \u001b[0;34m\u001b[0m\u001b[0m\n\u001b[1;32m    666\u001b[0m         \u001b[0;32mtry\u001b[0m\u001b[0;34m:\u001b[0m\u001b[0;34m\u001b[0m\u001b[0;34m\u001b[0m\u001b[0m\n\u001b[0;32m--> 667\u001b[0;31m             resp = conn.urlopen(\n\u001b[0m\u001b[1;32m    668\u001b[0m                 \u001b[0mmethod\u001b[0m\u001b[0;34m=\u001b[0m\u001b[0mrequest\u001b[0m\u001b[0;34m.\u001b[0m\u001b[0mmethod\u001b[0m\u001b[0;34m,\u001b[0m\u001b[0;34m\u001b[0m\u001b[0;34m\u001b[0m\u001b[0m\n\u001b[1;32m    669\u001b[0m                 \u001b[0murl\u001b[0m\u001b[0;34m=\u001b[0m\u001b[0murl\u001b[0m\u001b[0;34m,\u001b[0m\u001b[0;34m\u001b[0m\u001b[0;34m\u001b[0m\u001b[0m\n",
            "\u001b[0;32m/usr/local/lib/python3.11/dist-packages/urllib3/connectionpool.py\u001b[0m in \u001b[0;36murlopen\u001b[0;34m(self, method, url, body, headers, retries, redirect, assert_same_host, timeout, pool_timeout, release_conn, chunked, body_pos, preload_content, decode_content, **response_kw)\u001b[0m\n\u001b[1;32m    785\u001b[0m \u001b[0;34m\u001b[0m\u001b[0m\n\u001b[1;32m    786\u001b[0m             \u001b[0;31m# Make the request on the HTTPConnection object\u001b[0m\u001b[0;34m\u001b[0m\u001b[0;34m\u001b[0m\u001b[0m\n\u001b[0;32m--> 787\u001b[0;31m             response = self._make_request(\n\u001b[0m\u001b[1;32m    788\u001b[0m                 \u001b[0mconn\u001b[0m\u001b[0;34m,\u001b[0m\u001b[0;34m\u001b[0m\u001b[0;34m\u001b[0m\u001b[0m\n\u001b[1;32m    789\u001b[0m                 \u001b[0mmethod\u001b[0m\u001b[0;34m,\u001b[0m\u001b[0;34m\u001b[0m\u001b[0;34m\u001b[0m\u001b[0m\n",
            "\u001b[0;32m/usr/local/lib/python3.11/dist-packages/urllib3/connectionpool.py\u001b[0m in \u001b[0;36m_make_request\u001b[0;34m(self, conn, method, url, body, headers, retries, timeout, chunked, response_conn, preload_content, decode_content, enforce_content_length)\u001b[0m\n\u001b[1;32m    532\u001b[0m         \u001b[0;31m# Receive the response from the server\u001b[0m\u001b[0;34m\u001b[0m\u001b[0;34m\u001b[0m\u001b[0m\n\u001b[1;32m    533\u001b[0m         \u001b[0;32mtry\u001b[0m\u001b[0;34m:\u001b[0m\u001b[0;34m\u001b[0m\u001b[0;34m\u001b[0m\u001b[0m\n\u001b[0;32m--> 534\u001b[0;31m             \u001b[0mresponse\u001b[0m \u001b[0;34m=\u001b[0m \u001b[0mconn\u001b[0m\u001b[0;34m.\u001b[0m\u001b[0mgetresponse\u001b[0m\u001b[0;34m(\u001b[0m\u001b[0;34m)\u001b[0m\u001b[0;34m\u001b[0m\u001b[0;34m\u001b[0m\u001b[0m\n\u001b[0m\u001b[1;32m    535\u001b[0m         \u001b[0;32mexcept\u001b[0m \u001b[0;34m(\u001b[0m\u001b[0mBaseSSLError\u001b[0m\u001b[0;34m,\u001b[0m \u001b[0mOSError\u001b[0m\u001b[0;34m)\u001b[0m \u001b[0;32mas\u001b[0m \u001b[0me\u001b[0m\u001b[0;34m:\u001b[0m\u001b[0;34m\u001b[0m\u001b[0;34m\u001b[0m\u001b[0m\n\u001b[1;32m    536\u001b[0m             \u001b[0mself\u001b[0m\u001b[0;34m.\u001b[0m\u001b[0m_raise_timeout\u001b[0m\u001b[0;34m(\u001b[0m\u001b[0merr\u001b[0m\u001b[0;34m=\u001b[0m\u001b[0me\u001b[0m\u001b[0;34m,\u001b[0m \u001b[0murl\u001b[0m\u001b[0;34m=\u001b[0m\u001b[0murl\u001b[0m\u001b[0;34m,\u001b[0m \u001b[0mtimeout_value\u001b[0m\u001b[0;34m=\u001b[0m\u001b[0mread_timeout\u001b[0m\u001b[0;34m)\u001b[0m\u001b[0;34m\u001b[0m\u001b[0;34m\u001b[0m\u001b[0m\n",
            "\u001b[0;32m/usr/local/lib/python3.11/dist-packages/urllib3/connection.py\u001b[0m in \u001b[0;36mgetresponse\u001b[0;34m(self)\u001b[0m\n\u001b[1;32m    514\u001b[0m \u001b[0;34m\u001b[0m\u001b[0m\n\u001b[1;32m    515\u001b[0m         \u001b[0;31m# Get the response from http.client.HTTPConnection\u001b[0m\u001b[0;34m\u001b[0m\u001b[0;34m\u001b[0m\u001b[0m\n\u001b[0;32m--> 516\u001b[0;31m         \u001b[0mhttplib_response\u001b[0m \u001b[0;34m=\u001b[0m \u001b[0msuper\u001b[0m\u001b[0;34m(\u001b[0m\u001b[0;34m)\u001b[0m\u001b[0;34m.\u001b[0m\u001b[0mgetresponse\u001b[0m\u001b[0;34m(\u001b[0m\u001b[0;34m)\u001b[0m\u001b[0;34m\u001b[0m\u001b[0;34m\u001b[0m\u001b[0m\n\u001b[0m\u001b[1;32m    517\u001b[0m \u001b[0;34m\u001b[0m\u001b[0m\n\u001b[1;32m    518\u001b[0m         \u001b[0;32mtry\u001b[0m\u001b[0;34m:\u001b[0m\u001b[0;34m\u001b[0m\u001b[0;34m\u001b[0m\u001b[0m\n",
            "\u001b[0;32m/usr/lib/python3.11/http/client.py\u001b[0m in \u001b[0;36mgetresponse\u001b[0;34m(self)\u001b[0m\n\u001b[1;32m   1393\u001b[0m         \u001b[0;32mtry\u001b[0m\u001b[0;34m:\u001b[0m\u001b[0;34m\u001b[0m\u001b[0;34m\u001b[0m\u001b[0m\n\u001b[1;32m   1394\u001b[0m             \u001b[0;32mtry\u001b[0m\u001b[0;34m:\u001b[0m\u001b[0;34m\u001b[0m\u001b[0;34m\u001b[0m\u001b[0m\n\u001b[0;32m-> 1395\u001b[0;31m                 \u001b[0mresponse\u001b[0m\u001b[0;34m.\u001b[0m\u001b[0mbegin\u001b[0m\u001b[0;34m(\u001b[0m\u001b[0;34m)\u001b[0m\u001b[0;34m\u001b[0m\u001b[0;34m\u001b[0m\u001b[0m\n\u001b[0m\u001b[1;32m   1396\u001b[0m             \u001b[0;32mexcept\u001b[0m \u001b[0mConnectionError\u001b[0m\u001b[0;34m:\u001b[0m\u001b[0;34m\u001b[0m\u001b[0;34m\u001b[0m\u001b[0m\n\u001b[1;32m   1397\u001b[0m                 \u001b[0mself\u001b[0m\u001b[0;34m.\u001b[0m\u001b[0mclose\u001b[0m\u001b[0;34m(\u001b[0m\u001b[0;34m)\u001b[0m\u001b[0;34m\u001b[0m\u001b[0;34m\u001b[0m\u001b[0m\n",
            "\u001b[0;32m/usr/lib/python3.11/http/client.py\u001b[0m in \u001b[0;36mbegin\u001b[0;34m(self)\u001b[0m\n\u001b[1;32m    323\u001b[0m         \u001b[0;31m# read until we get a non-100 response\u001b[0m\u001b[0;34m\u001b[0m\u001b[0;34m\u001b[0m\u001b[0m\n\u001b[1;32m    324\u001b[0m         \u001b[0;32mwhile\u001b[0m \u001b[0;32mTrue\u001b[0m\u001b[0;34m:\u001b[0m\u001b[0;34m\u001b[0m\u001b[0;34m\u001b[0m\u001b[0m\n\u001b[0;32m--> 325\u001b[0;31m             \u001b[0mversion\u001b[0m\u001b[0;34m,\u001b[0m \u001b[0mstatus\u001b[0m\u001b[0;34m,\u001b[0m \u001b[0mreason\u001b[0m \u001b[0;34m=\u001b[0m \u001b[0mself\u001b[0m\u001b[0;34m.\u001b[0m\u001b[0m_read_status\u001b[0m\u001b[0;34m(\u001b[0m\u001b[0;34m)\u001b[0m\u001b[0;34m\u001b[0m\u001b[0;34m\u001b[0m\u001b[0m\n\u001b[0m\u001b[1;32m    326\u001b[0m             \u001b[0;32mif\u001b[0m \u001b[0mstatus\u001b[0m \u001b[0;34m!=\u001b[0m \u001b[0mCONTINUE\u001b[0m\u001b[0;34m:\u001b[0m\u001b[0;34m\u001b[0m\u001b[0;34m\u001b[0m\u001b[0m\n\u001b[1;32m    327\u001b[0m                 \u001b[0;32mbreak\u001b[0m\u001b[0;34m\u001b[0m\u001b[0;34m\u001b[0m\u001b[0m\n",
            "\u001b[0;32m/usr/lib/python3.11/http/client.py\u001b[0m in \u001b[0;36m_read_status\u001b[0;34m(self)\u001b[0m\n\u001b[1;32m    284\u001b[0m \u001b[0;34m\u001b[0m\u001b[0m\n\u001b[1;32m    285\u001b[0m     \u001b[0;32mdef\u001b[0m \u001b[0m_read_status\u001b[0m\u001b[0;34m(\u001b[0m\u001b[0mself\u001b[0m\u001b[0;34m)\u001b[0m\u001b[0;34m:\u001b[0m\u001b[0;34m\u001b[0m\u001b[0;34m\u001b[0m\u001b[0m\n\u001b[0;32m--> 286\u001b[0;31m         \u001b[0mline\u001b[0m \u001b[0;34m=\u001b[0m \u001b[0mstr\u001b[0m\u001b[0;34m(\u001b[0m\u001b[0mself\u001b[0m\u001b[0;34m.\u001b[0m\u001b[0mfp\u001b[0m\u001b[0;34m.\u001b[0m\u001b[0mreadline\u001b[0m\u001b[0;34m(\u001b[0m\u001b[0m_MAXLINE\u001b[0m \u001b[0;34m+\u001b[0m \u001b[0;36m1\u001b[0m\u001b[0;34m)\u001b[0m\u001b[0;34m,\u001b[0m \u001b[0;34m\"iso-8859-1\"\u001b[0m\u001b[0;34m)\u001b[0m\u001b[0;34m\u001b[0m\u001b[0;34m\u001b[0m\u001b[0m\n\u001b[0m\u001b[1;32m    287\u001b[0m         \u001b[0;32mif\u001b[0m \u001b[0mlen\u001b[0m\u001b[0;34m(\u001b[0m\u001b[0mline\u001b[0m\u001b[0;34m)\u001b[0m \u001b[0;34m>\u001b[0m \u001b[0m_MAXLINE\u001b[0m\u001b[0;34m:\u001b[0m\u001b[0;34m\u001b[0m\u001b[0;34m\u001b[0m\u001b[0m\n\u001b[1;32m    288\u001b[0m             \u001b[0;32mraise\u001b[0m \u001b[0mLineTooLong\u001b[0m\u001b[0;34m(\u001b[0m\u001b[0;34m\"status line\"\u001b[0m\u001b[0;34m)\u001b[0m\u001b[0;34m\u001b[0m\u001b[0;34m\u001b[0m\u001b[0m\n",
            "\u001b[0;32m/usr/lib/python3.11/socket.py\u001b[0m in \u001b[0;36mreadinto\u001b[0;34m(self, b)\u001b[0m\n\u001b[1;32m    716\u001b[0m         \u001b[0;32mwhile\u001b[0m \u001b[0;32mTrue\u001b[0m\u001b[0;34m:\u001b[0m\u001b[0;34m\u001b[0m\u001b[0;34m\u001b[0m\u001b[0m\n\u001b[1;32m    717\u001b[0m             \u001b[0;32mtry\u001b[0m\u001b[0;34m:\u001b[0m\u001b[0;34m\u001b[0m\u001b[0;34m\u001b[0m\u001b[0m\n\u001b[0;32m--> 718\u001b[0;31m                 \u001b[0;32mreturn\u001b[0m \u001b[0mself\u001b[0m\u001b[0;34m.\u001b[0m\u001b[0m_sock\u001b[0m\u001b[0;34m.\u001b[0m\u001b[0mrecv_into\u001b[0m\u001b[0;34m(\u001b[0m\u001b[0mb\u001b[0m\u001b[0;34m)\u001b[0m\u001b[0;34m\u001b[0m\u001b[0;34m\u001b[0m\u001b[0m\n\u001b[0m\u001b[1;32m    719\u001b[0m             \u001b[0;32mexcept\u001b[0m \u001b[0mtimeout\u001b[0m\u001b[0;34m:\u001b[0m\u001b[0;34m\u001b[0m\u001b[0;34m\u001b[0m\u001b[0m\n\u001b[1;32m    720\u001b[0m                 \u001b[0mself\u001b[0m\u001b[0;34m.\u001b[0m\u001b[0m_timeout_occurred\u001b[0m \u001b[0;34m=\u001b[0m \u001b[0;32mTrue\u001b[0m\u001b[0;34m\u001b[0m\u001b[0;34m\u001b[0m\u001b[0m\n",
            "\u001b[0;32m/usr/lib/python3.11/ssl.py\u001b[0m in \u001b[0;36mrecv_into\u001b[0;34m(self, buffer, nbytes, flags)\u001b[0m\n\u001b[1;32m   1312\u001b[0m                   \u001b[0;34m\"non-zero flags not allowed in calls to recv_into() on %s\"\u001b[0m \u001b[0;34m%\u001b[0m\u001b[0;34m\u001b[0m\u001b[0;34m\u001b[0m\u001b[0m\n\u001b[1;32m   1313\u001b[0m                   self.__class__)\n\u001b[0;32m-> 1314\u001b[0;31m             \u001b[0;32mreturn\u001b[0m \u001b[0mself\u001b[0m\u001b[0;34m.\u001b[0m\u001b[0mread\u001b[0m\u001b[0;34m(\u001b[0m\u001b[0mnbytes\u001b[0m\u001b[0;34m,\u001b[0m \u001b[0mbuffer\u001b[0m\u001b[0;34m)\u001b[0m\u001b[0;34m\u001b[0m\u001b[0;34m\u001b[0m\u001b[0m\n\u001b[0m\u001b[1;32m   1315\u001b[0m         \u001b[0;32melse\u001b[0m\u001b[0;34m:\u001b[0m\u001b[0;34m\u001b[0m\u001b[0;34m\u001b[0m\u001b[0m\n\u001b[1;32m   1316\u001b[0m             \u001b[0;32mreturn\u001b[0m \u001b[0msuper\u001b[0m\u001b[0;34m(\u001b[0m\u001b[0;34m)\u001b[0m\u001b[0;34m.\u001b[0m\u001b[0mrecv_into\u001b[0m\u001b[0;34m(\u001b[0m\u001b[0mbuffer\u001b[0m\u001b[0;34m,\u001b[0m \u001b[0mnbytes\u001b[0m\u001b[0;34m,\u001b[0m \u001b[0mflags\u001b[0m\u001b[0;34m)\u001b[0m\u001b[0;34m\u001b[0m\u001b[0;34m\u001b[0m\u001b[0m\n",
            "\u001b[0;32m/usr/lib/python3.11/ssl.py\u001b[0m in \u001b[0;36mread\u001b[0;34m(self, len, buffer)\u001b[0m\n\u001b[1;32m   1164\u001b[0m         \u001b[0;32mtry\u001b[0m\u001b[0;34m:\u001b[0m\u001b[0;34m\u001b[0m\u001b[0;34m\u001b[0m\u001b[0m\n\u001b[1;32m   1165\u001b[0m             \u001b[0;32mif\u001b[0m \u001b[0mbuffer\u001b[0m \u001b[0;32mis\u001b[0m \u001b[0;32mnot\u001b[0m \u001b[0;32mNone\u001b[0m\u001b[0;34m:\u001b[0m\u001b[0;34m\u001b[0m\u001b[0;34m\u001b[0m\u001b[0m\n\u001b[0;32m-> 1166\u001b[0;31m                 \u001b[0;32mreturn\u001b[0m \u001b[0mself\u001b[0m\u001b[0;34m.\u001b[0m\u001b[0m_sslobj\u001b[0m\u001b[0;34m.\u001b[0m\u001b[0mread\u001b[0m\u001b[0;34m(\u001b[0m\u001b[0mlen\u001b[0m\u001b[0;34m,\u001b[0m \u001b[0mbuffer\u001b[0m\u001b[0;34m)\u001b[0m\u001b[0;34m\u001b[0m\u001b[0;34m\u001b[0m\u001b[0m\n\u001b[0m\u001b[1;32m   1167\u001b[0m             \u001b[0;32melse\u001b[0m\u001b[0;34m:\u001b[0m\u001b[0;34m\u001b[0m\u001b[0;34m\u001b[0m\u001b[0m\n\u001b[1;32m   1168\u001b[0m                 \u001b[0;32mreturn\u001b[0m \u001b[0mself\u001b[0m\u001b[0;34m.\u001b[0m\u001b[0m_sslobj\u001b[0m\u001b[0;34m.\u001b[0m\u001b[0mread\u001b[0m\u001b[0;34m(\u001b[0m\u001b[0mlen\u001b[0m\u001b[0;34m)\u001b[0m\u001b[0;34m\u001b[0m\u001b[0;34m\u001b[0m\u001b[0m\n",
            "\u001b[0;31mKeyboardInterrupt\u001b[0m: "
          ]
        }
      ]
    },
    {
      "cell_type": "code",
      "source": [
        "from huggingface_hub import notebook_login\n",
        "\n",
        "notebook_login()"
      ],
      "metadata": {
        "colab": {
          "base_uri": "https://localhost:8080/",
          "height": 17,
          "referenced_widgets": [
            "2a4396e49a0c47138ca4714cc8488ef9",
            "7b8fd4f8686c49bea8dc774f7f6973d4",
            "a4c057929f5b4ccaa2d49370648e2a5c",
            "5bc3693b60bd438aa5a4ec1f0aff3005",
            "527fdaad47504d3182830a2687059612",
            "8d8acc6f0144408b88ed2e460d813215",
            "d22e7e804bf74b8ca4e7596907d43790",
            "5603185d362245a989f86340f6f5b941",
            "31669a40076a45eb9739949a989bd218",
            "328e2bcd2b4e4ecca6870235fa43cdf9",
            "9d32f944f63a4a819fa908a1ea9fbb33",
            "b3ada3fb6695422c8888a8077e91948f",
            "3e546b5b18804dd0bc7a4d708095da93",
            "222905d642ef4e4da3979d9ce9bc0717",
            "8b8f2eaed7524b7184e6da9a28513409",
            "b43a2870b21043d9b6cfcb1742dea65d",
            "7fecfe5ec608464a8b2b3d21f0733046",
            "198e241f53244891bdf34e0c5fdd6da9",
            "f31dd124a732434a830a74f06b4489a6",
            "7cce6a310a28429b8d16e75bee3376ec"
          ]
        },
        "id": "qJCnK4bV6fC4",
        "outputId": "1b757165-deac-4622-85ca-d589889bb203"
      },
      "execution_count": 104,
      "outputs": [
        {
          "output_type": "display_data",
          "data": {
            "text/plain": [
              "VBox(children=(HTML(value='<center> <img\\nsrc=https://huggingface.co/front/assets/huggingface_logo-noborder.sv…"
            ],
            "application/vnd.jupyter.widget-view+json": {
              "version_major": 2,
              "version_minor": 0,
              "model_id": "2a4396e49a0c47138ca4714cc8488ef9"
            }
          },
          "metadata": {}
        }
      ]
    },
    {
      "cell_type": "code",
      "source": [
        "from smolagents import CodeAgent\n",
        "\n",
        "\n",
        "manager_agent = CodeAgent(\n",
        "    name=\"manager_agent\",\n",
        "    description = \"\"\"\n",
        "    Tôi là agent điều phối. Tôi sẽ chọn agent phù hợp tùy yêu cầu:\n",
        "    - Nếu câu hỏi yêu cầu tìm kiếm thông tin có trong tài liệu nội bộ (như tài liệu PDF, dữ liệu RAG), tôi sẽ gọi `retriever_agent`.\n",
        "    - Nếu yêu cầu liên quan đến việc truy vấn thông tin mới trên internet, tôi sẽ dùng `search_agent`.\n",
        "    \"\"\" ,\n",
        "    tools=[],\n",
        "    model=model,\n",
        "    managed_agents=[search_agent, retriever_agent],\n",
        "    additional_authorized_imports=[\"time\", \"datetime\", \"PIL\"],\n",
        ")"
      ],
      "metadata": {
        "id": "nji7sRrya1e5"
      },
      "execution_count": 92,
      "outputs": []
    },
    {
      "cell_type": "code",
      "source": [
        "manager_agent.run(\"Trong tài liệu nội bộ, có nói gì về tín chỉ carbon tại Việt Nam không?\")"
      ],
      "metadata": {
        "colab": {
          "base_uri": "https://localhost:8080/",
          "height": 1000
        },
        "id": "DYIRcHshcxkf",
        "outputId": "426c3b70-dad7-4309-fab7-385a52996625"
      },
      "execution_count": null,
      "outputs": [
        {
          "output_type": "display_data",
          "data": {
            "text/plain": [
              "\u001b[38;2;212;183;2m╭─\u001b[0m\u001b[38;2;212;183;2m───────────────────────────────────────────\u001b[0m\u001b[38;2;212;183;2m \u001b[0m\u001b[1;38;2;212;183;2mNew run - manager_agent\u001b[0m\u001b[38;2;212;183;2m \u001b[0m\u001b[38;2;212;183;2m───────────────────────────────────────────\u001b[0m\u001b[38;2;212;183;2m─╮\u001b[0m\n",
              "\u001b[38;2;212;183;2m│\u001b[0m                                                                                                                 \u001b[38;2;212;183;2m│\u001b[0m\n",
              "\u001b[38;2;212;183;2m│\u001b[0m \u001b[1mTrong tài liệu nội bộ, có nói gì về tín chỉ carbon tại Việt Nam không?\u001b[0m                                          \u001b[38;2;212;183;2m│\u001b[0m\n",
              "\u001b[38;2;212;183;2m│\u001b[0m                                                                                                                 \u001b[38;2;212;183;2m│\u001b[0m\n",
              "\u001b[38;2;212;183;2m╰─\u001b[0m\u001b[38;2;212;183;2m InferenceClientModel - Qwen/Qwen2.5-7B-Instruct \u001b[0m\u001b[38;2;212;183;2m──────────────────────────────────────────────────────────────\u001b[0m\u001b[38;2;212;183;2m─╯\u001b[0m\n"
            ],
            "text/html": [
              "<pre style=\"white-space:pre;overflow-x:auto;line-height:normal;font-family:Menlo,'DejaVu Sans Mono',consolas,'Courier New',monospace\"><span style=\"color: #d4b702; text-decoration-color: #d4b702\">╭──────────────────────────────────────────── </span><span style=\"color: #d4b702; text-decoration-color: #d4b702; font-weight: bold\">New run - manager_agent</span><span style=\"color: #d4b702; text-decoration-color: #d4b702\"> ────────────────────────────────────────────╮</span>\n",
              "<span style=\"color: #d4b702; text-decoration-color: #d4b702\">│</span>                                                                                                                 <span style=\"color: #d4b702; text-decoration-color: #d4b702\">│</span>\n",
              "<span style=\"color: #d4b702; text-decoration-color: #d4b702\">│</span> <span style=\"font-weight: bold\">Trong tài liệu nội bộ, có nói gì về tín chỉ carbon tại Việt Nam không?</span>                                          <span style=\"color: #d4b702; text-decoration-color: #d4b702\">│</span>\n",
              "<span style=\"color: #d4b702; text-decoration-color: #d4b702\">│</span>                                                                                                                 <span style=\"color: #d4b702; text-decoration-color: #d4b702\">│</span>\n",
              "<span style=\"color: #d4b702; text-decoration-color: #d4b702\">╰─ InferenceClientModel - Qwen/Qwen2.5-7B-Instruct ───────────────────────────────────────────────────────────────╯</span>\n",
              "</pre>\n"
            ]
          },
          "metadata": {}
        },
        {
          "output_type": "display_data",
          "data": {
            "text/plain": [
              "\u001b[38;2;212;183;2m━━━━━━━━━━━━━━━━━━━━━━━━━━━━━━━━━━━━━━━━━━━━━━━━━━━━━ \u001b[0m\u001b[1mStep \u001b[0m\u001b[1;36m1\u001b[0m\u001b[38;2;212;183;2m ━━━━━━━━━━━━━━━━━━━━━━━━━━━━━━━━━━━━━━━━━━━━━━━━━━━━━━\u001b[0m\n"
            ],
            "text/html": [
              "<pre style=\"white-space:pre;overflow-x:auto;line-height:normal;font-family:Menlo,'DejaVu Sans Mono',consolas,'Courier New',monospace\"><span style=\"color: #d4b702; text-decoration-color: #d4b702\">━━━━━━━━━━━━━━━━━━━━━━━━━━━━━━━━━━━━━━━━━━━━━━━━━━━━━ </span><span style=\"font-weight: bold\">Step </span><span style=\"color: #008080; text-decoration-color: #008080; font-weight: bold\">1</span><span style=\"color: #d4b702; text-decoration-color: #d4b702\"> ━━━━━━━━━━━━━━━━━━━━━━━━━━━━━━━━━━━━━━━━━━━━━━━━━━━━━━</span>\n",
              "</pre>\n"
            ]
          },
          "metadata": {}
        },
        {
          "output_type": "display_data",
          "data": {
            "text/plain": [
              " ─ \u001b[1mExecuting parsed code:\u001b[0m ──────────────────────────────────────────────────────────────────────────────────────── \n",
              "  \u001b[38;2;248;248;242;48;2;39;40;34mcarbon_credit_info\u001b[0m\u001b[38;2;248;248;242;48;2;39;40;34m \u001b[0m\u001b[38;2;255;70;137;48;2;39;40;34m=\u001b[0m\u001b[38;2;248;248;242;48;2;39;40;34m \u001b[0m\u001b[38;2;248;248;242;48;2;39;40;34mretriever_agent\u001b[0m\u001b[38;2;248;248;242;48;2;39;40;34m(\u001b[0m\u001b[38;2;230;219;116;48;2;39;40;34m\"\u001b[0m\u001b[38;2;230;219;116;48;2;39;40;34mtín chỉ carbon tại Việt Nam\u001b[0m\u001b[38;2;230;219;116;48;2;39;40;34m\"\u001b[0m\u001b[38;2;248;248;242;48;2;39;40;34m)\u001b[0m\u001b[48;2;39;40;34m                                            \u001b[0m  \n",
              "  \u001b[38;2;248;248;242;48;2;39;40;34mprint\u001b[0m\u001b[38;2;248;248;242;48;2;39;40;34m(\u001b[0m\u001b[38;2;248;248;242;48;2;39;40;34mcarbon_credit_info\u001b[0m\u001b[38;2;248;248;242;48;2;39;40;34m)\u001b[0m\u001b[48;2;39;40;34m                                                                                      \u001b[0m  \n",
              " ───────────────────────────────────────────────────────────────────────────────────────────────────────────────── \n"
            ],
            "text/html": [
              "<pre style=\"white-space:pre;overflow-x:auto;line-height:normal;font-family:Menlo,'DejaVu Sans Mono',consolas,'Courier New',monospace\"> ─ <span style=\"font-weight: bold\">Executing parsed code:</span> ──────────────────────────────────────────────────────────────────────────────────────── \n",
              "  <span style=\"color: #f8f8f2; text-decoration-color: #f8f8f2; background-color: #272822\">carbon_credit_info </span><span style=\"color: #ff4689; text-decoration-color: #ff4689; background-color: #272822\">=</span><span style=\"color: #f8f8f2; text-decoration-color: #f8f8f2; background-color: #272822\"> retriever_agent(</span><span style=\"color: #e6db74; text-decoration-color: #e6db74; background-color: #272822\">\"tín chỉ carbon tại Việt Nam\"</span><span style=\"color: #f8f8f2; text-decoration-color: #f8f8f2; background-color: #272822\">)</span><span style=\"background-color: #272822\">                                            </span>  \n",
              "  <span style=\"color: #f8f8f2; text-decoration-color: #f8f8f2; background-color: #272822\">print(carbon_credit_info)</span><span style=\"background-color: #272822\">                                                                                      </span>  \n",
              " ───────────────────────────────────────────────────────────────────────────────────────────────────────────────── \n",
              "</pre>\n"
            ]
          },
          "metadata": {}
        },
        {
          "output_type": "display_data",
          "data": {
            "text/plain": [
              "\u001b[38;2;212;183;2m╭─\u001b[0m\u001b[38;2;212;183;2m──────────────────────────────────────────\u001b[0m\u001b[38;2;212;183;2m \u001b[0m\u001b[1;38;2;212;183;2mNew run - retriever_agent\u001b[0m\u001b[38;2;212;183;2m \u001b[0m\u001b[38;2;212;183;2m──────────────────────────────────────────\u001b[0m\u001b[38;2;212;183;2m─╮\u001b[0m\n",
              "\u001b[38;2;212;183;2m│\u001b[0m                                                                                                                 \u001b[38;2;212;183;2m│\u001b[0m\n",
              "\u001b[38;2;212;183;2m│\u001b[0m \u001b[1mYou're a helpful agent named 'retriever_agent'.\u001b[0m                                                                 \u001b[38;2;212;183;2m│\u001b[0m\n",
              "\u001b[38;2;212;183;2m│\u001b[0m \u001b[1mYou have been submitted this task by your manager.\u001b[0m                                                              \u001b[38;2;212;183;2m│\u001b[0m\n",
              "\u001b[38;2;212;183;2m│\u001b[0m \u001b[1m---\u001b[0m                                                                                                             \u001b[38;2;212;183;2m│\u001b[0m\n",
              "\u001b[38;2;212;183;2m│\u001b[0m \u001b[1mTask:\u001b[0m                                                                                                           \u001b[38;2;212;183;2m│\u001b[0m\n",
              "\u001b[38;2;212;183;2m│\u001b[0m \u001b[1mtín chỉ carbon tại Việt Nam\u001b[0m                                                                                     \u001b[38;2;212;183;2m│\u001b[0m\n",
              "\u001b[38;2;212;183;2m│\u001b[0m \u001b[1m---\u001b[0m                                                                                                             \u001b[38;2;212;183;2m│\u001b[0m\n",
              "\u001b[38;2;212;183;2m│\u001b[0m \u001b[1mYou're helping your manager solve a wider task: so make sure to not provide a one-line answer, but give as much\u001b[0m \u001b[38;2;212;183;2m│\u001b[0m\n",
              "\u001b[38;2;212;183;2m│\u001b[0m \u001b[1minformation as possible to give them a clear understanding of the answer.\u001b[0m                                       \u001b[38;2;212;183;2m│\u001b[0m\n",
              "\u001b[38;2;212;183;2m│\u001b[0m                                                                                                                 \u001b[38;2;212;183;2m│\u001b[0m\n",
              "\u001b[38;2;212;183;2m│\u001b[0m \u001b[1mYour final_answer WILL HAVE to contain these parts:\u001b[0m                                                             \u001b[38;2;212;183;2m│\u001b[0m\n",
              "\u001b[38;2;212;183;2m│\u001b[0m \u001b[1m### 1. Task outcome (short version):\u001b[0m                                                                            \u001b[38;2;212;183;2m│\u001b[0m\n",
              "\u001b[38;2;212;183;2m│\u001b[0m \u001b[1m### 2. Task outcome (extremely detailed version):\u001b[0m                                                               \u001b[38;2;212;183;2m│\u001b[0m\n",
              "\u001b[38;2;212;183;2m│\u001b[0m \u001b[1m### 3. Additional context (if relevant):\u001b[0m                                                                        \u001b[38;2;212;183;2m│\u001b[0m\n",
              "\u001b[38;2;212;183;2m│\u001b[0m                                                                                                                 \u001b[38;2;212;183;2m│\u001b[0m\n",
              "\u001b[38;2;212;183;2m│\u001b[0m \u001b[1mPut all these in your final_answer tool, everything that you do not pass as an argument to final_answer will be\u001b[0m \u001b[38;2;212;183;2m│\u001b[0m\n",
              "\u001b[38;2;212;183;2m│\u001b[0m \u001b[1mlost.\u001b[0m                                                                                                           \u001b[38;2;212;183;2m│\u001b[0m\n",
              "\u001b[38;2;212;183;2m│\u001b[0m \u001b[1mAnd even if your task resolution is not successful, please return as much context as possible, so that your \u001b[0m    \u001b[38;2;212;183;2m│\u001b[0m\n",
              "\u001b[38;2;212;183;2m│\u001b[0m \u001b[1mmanager can act upon this feedback.\u001b[0m                                                                             \u001b[38;2;212;183;2m│\u001b[0m\n",
              "\u001b[38;2;212;183;2m│\u001b[0m                                                                                                                 \u001b[38;2;212;183;2m│\u001b[0m\n",
              "\u001b[38;2;212;183;2m╰─\u001b[0m\u001b[38;2;212;183;2m InferenceClientModel - Qwen/Qwen2.5-7B-Instruct \u001b[0m\u001b[38;2;212;183;2m──────────────────────────────────────────────────────────────\u001b[0m\u001b[38;2;212;183;2m─╯\u001b[0m\n"
            ],
            "text/html": [
              "<pre style=\"white-space:pre;overflow-x:auto;line-height:normal;font-family:Menlo,'DejaVu Sans Mono',consolas,'Courier New',monospace\"><span style=\"color: #d4b702; text-decoration-color: #d4b702\">╭─────────────────────────────────────────── </span><span style=\"color: #d4b702; text-decoration-color: #d4b702; font-weight: bold\">New run - retriever_agent</span><span style=\"color: #d4b702; text-decoration-color: #d4b702\"> ───────────────────────────────────────────╮</span>\n",
              "<span style=\"color: #d4b702; text-decoration-color: #d4b702\">│</span>                                                                                                                 <span style=\"color: #d4b702; text-decoration-color: #d4b702\">│</span>\n",
              "<span style=\"color: #d4b702; text-decoration-color: #d4b702\">│</span> <span style=\"font-weight: bold\">You're a helpful agent named 'retriever_agent'.</span>                                                                 <span style=\"color: #d4b702; text-decoration-color: #d4b702\">│</span>\n",
              "<span style=\"color: #d4b702; text-decoration-color: #d4b702\">│</span> <span style=\"font-weight: bold\">You have been submitted this task by your manager.</span>                                                              <span style=\"color: #d4b702; text-decoration-color: #d4b702\">│</span>\n",
              "<span style=\"color: #d4b702; text-decoration-color: #d4b702\">│</span> <span style=\"font-weight: bold\">---</span>                                                                                                             <span style=\"color: #d4b702; text-decoration-color: #d4b702\">│</span>\n",
              "<span style=\"color: #d4b702; text-decoration-color: #d4b702\">│</span> <span style=\"font-weight: bold\">Task:</span>                                                                                                           <span style=\"color: #d4b702; text-decoration-color: #d4b702\">│</span>\n",
              "<span style=\"color: #d4b702; text-decoration-color: #d4b702\">│</span> <span style=\"font-weight: bold\">tín chỉ carbon tại Việt Nam</span>                                                                                     <span style=\"color: #d4b702; text-decoration-color: #d4b702\">│</span>\n",
              "<span style=\"color: #d4b702; text-decoration-color: #d4b702\">│</span> <span style=\"font-weight: bold\">---</span>                                                                                                             <span style=\"color: #d4b702; text-decoration-color: #d4b702\">│</span>\n",
              "<span style=\"color: #d4b702; text-decoration-color: #d4b702\">│</span> <span style=\"font-weight: bold\">You're helping your manager solve a wider task: so make sure to not provide a one-line answer, but give as much</span> <span style=\"color: #d4b702; text-decoration-color: #d4b702\">│</span>\n",
              "<span style=\"color: #d4b702; text-decoration-color: #d4b702\">│</span> <span style=\"font-weight: bold\">information as possible to give them a clear understanding of the answer.</span>                                       <span style=\"color: #d4b702; text-decoration-color: #d4b702\">│</span>\n",
              "<span style=\"color: #d4b702; text-decoration-color: #d4b702\">│</span>                                                                                                                 <span style=\"color: #d4b702; text-decoration-color: #d4b702\">│</span>\n",
              "<span style=\"color: #d4b702; text-decoration-color: #d4b702\">│</span> <span style=\"font-weight: bold\">Your final_answer WILL HAVE to contain these parts:</span>                                                             <span style=\"color: #d4b702; text-decoration-color: #d4b702\">│</span>\n",
              "<span style=\"color: #d4b702; text-decoration-color: #d4b702\">│</span> <span style=\"font-weight: bold\">### 1. Task outcome (short version):</span>                                                                            <span style=\"color: #d4b702; text-decoration-color: #d4b702\">│</span>\n",
              "<span style=\"color: #d4b702; text-decoration-color: #d4b702\">│</span> <span style=\"font-weight: bold\">### 2. Task outcome (extremely detailed version):</span>                                                               <span style=\"color: #d4b702; text-decoration-color: #d4b702\">│</span>\n",
              "<span style=\"color: #d4b702; text-decoration-color: #d4b702\">│</span> <span style=\"font-weight: bold\">### 3. Additional context (if relevant):</span>                                                                        <span style=\"color: #d4b702; text-decoration-color: #d4b702\">│</span>\n",
              "<span style=\"color: #d4b702; text-decoration-color: #d4b702\">│</span>                                                                                                                 <span style=\"color: #d4b702; text-decoration-color: #d4b702\">│</span>\n",
              "<span style=\"color: #d4b702; text-decoration-color: #d4b702\">│</span> <span style=\"font-weight: bold\">Put all these in your final_answer tool, everything that you do not pass as an argument to final_answer will be</span> <span style=\"color: #d4b702; text-decoration-color: #d4b702\">│</span>\n",
              "<span style=\"color: #d4b702; text-decoration-color: #d4b702\">│</span> <span style=\"font-weight: bold\">lost.</span>                                                                                                           <span style=\"color: #d4b702; text-decoration-color: #d4b702\">│</span>\n",
              "<span style=\"color: #d4b702; text-decoration-color: #d4b702\">│</span> <span style=\"font-weight: bold\">And even if your task resolution is not successful, please return as much context as possible, so that your </span>    <span style=\"color: #d4b702; text-decoration-color: #d4b702\">│</span>\n",
              "<span style=\"color: #d4b702; text-decoration-color: #d4b702\">│</span> <span style=\"font-weight: bold\">manager can act upon this feedback.</span>                                                                             <span style=\"color: #d4b702; text-decoration-color: #d4b702\">│</span>\n",
              "<span style=\"color: #d4b702; text-decoration-color: #d4b702\">│</span>                                                                                                                 <span style=\"color: #d4b702; text-decoration-color: #d4b702\">│</span>\n",
              "<span style=\"color: #d4b702; text-decoration-color: #d4b702\">╰─ InferenceClientModel - Qwen/Qwen2.5-7B-Instruct ───────────────────────────────────────────────────────────────╯</span>\n",
              "</pre>\n"
            ]
          },
          "metadata": {}
        },
        {
          "output_type": "display_data",
          "data": {
            "text/plain": [
              "\u001b[38;2;212;183;2m━━━━━━━━━━━━━━━━━━━━━━━━━━━━━━━━━━━━━━━━━━━━━━━━━━━━━ \u001b[0m\u001b[1mStep \u001b[0m\u001b[1;36m1\u001b[0m\u001b[38;2;212;183;2m ━━━━━━━━━━━━━━━━━━━━━━━━━━━━━━━━━━━━━━━━━━━━━━━━━━━━━━\u001b[0m\n"
            ],
            "text/html": [
              "<pre style=\"white-space:pre;overflow-x:auto;line-height:normal;font-family:Menlo,'DejaVu Sans Mono',consolas,'Courier New',monospace\"><span style=\"color: #d4b702; text-decoration-color: #d4b702\">━━━━━━━━━━━━━━━━━━━━━━━━━━━━━━━━━━━━━━━━━━━━━━━━━━━━━ </span><span style=\"font-weight: bold\">Step </span><span style=\"color: #008080; text-decoration-color: #008080; font-weight: bold\">1</span><span style=\"color: #d4b702; text-decoration-color: #d4b702\"> ━━━━━━━━━━━━━━━━━━━━━━━━━━━━━━━━━━━━━━━━━━━━━━━━━━━━━━</span>\n",
              "</pre>\n"
            ]
          },
          "metadata": {}
        },
        {
          "output_type": "display_data",
          "data": {
            "text/plain": [
              "╭─────────────────────────────────────────────────────────────────────────────────────────────────────────────────╮\n",
              "│ Calling tool: 'retriever' with arguments: {'query': 'tín chỉ carbon tại Việt Nam'}                              │\n",
              "╰─────────────────────────────────────────────────────────────────────────────────────────────────────────────────╯\n"
            ],
            "text/html": [
              "<pre style=\"white-space:pre;overflow-x:auto;line-height:normal;font-family:Menlo,'DejaVu Sans Mono',consolas,'Courier New',monospace\">╭─────────────────────────────────────────────────────────────────────────────────────────────────────────────────╮\n",
              "│ Calling tool: 'retriever' with arguments: {'query': 'tín chỉ carbon tại Việt Nam'}                              │\n",
              "╰─────────────────────────────────────────────────────────────────────────────────────────────────────────────────╯\n",
              "</pre>\n"
            ]
          },
          "metadata": {}
        },
        {
          "output_type": "display_data",
          "data": {
            "text/plain": [
              "Observations: Retrieved documents:\n",
              "===== Document \u001b[1;36m0\u001b[0m =====\n",
              "Xác minh nguồn gốc phát thải \u001b[35m/\u001b[0m hấp thụ và nguồn gốc của tín chỉ carbon.\n",
              "\n",
              "Phạm vi ứng dụng\n",
              "\n",
              "Nông nghiệp tái sinh, trang trại trồng rừng, nhà máy xanh: tạo và giao dịch tín chỉ carbon thật sự.\n",
              "\n",
              "Tổ chức tài chính, nhà đầu tư ESG: đánh giá minh bạch tài sản môi trường.\n",
              "\n",
              "Chính quyền địa phương và trung ương: giám sát phát thải, hỗ trợ ra quyết định chính sách.\n",
              "\n",
              "Người dân: truy xuất dữ liệu môi trường gần họ, khuyến khích tiêu dùng xanh.\n",
              "\n",
              "Giá trị kỳ vọng\n",
              "\n",
              "Đảm bảo tín chỉ carbon phát hành từ dữ liệu thật, có thể kiểm tra.\n",
              "\n",
              "Tạo ra thị trường giao dịch minh bạch, phi tập trung, khuyến khích doanh nghiệp phát triển bền vững.\n",
              "\n",
              "Đưa dữ liệu ESG vào tài chính hóa, phục vụ các quỹ đầu tư xanh và nhà hoạch định chính sách.\n",
              "\n",
              "Nâng cao vai trò của công nghệ Việt Nam trong xây dựng hạ tầng tài chính môi trường.\n",
              "\n",
              "Kiến trúc hệ thống\n",
              "\n",
              "Trong hình trên, các thành phần trong hệ thống có thể chia thành \u001b[1;36m5\u001b[0m Lớp:\n",
              "\n",
              "End devices: Các cảm biến thu thập từ các trang trại trồng rừng hoặc các xí nghiệp.\n",
              "\n",
              "Edge: DT đặt ở cạnh nguồn dữ liệu với độ trễ thấp và phản hồi ngay lập tức với dữ liệu thô sơ.\n",
              "\n",
              "Fog: Các DT đặt ở gần trung tâm hơn, có tài nguyên tính toán mạnh nên có khả năng phân tích phức tạp.\n",
              "\n",
              "Control center: Trung tâm giám sát, xác minh và báo cáo \u001b[1m(\u001b[0mMVR\u001b[1m)\u001b[0m cùng với chatbox LLM agent và mô đun ML/DL phát hiện \n",
              "số liệu DT bất thường.===== Document \u001b[1;36m1\u001b[0m =====\n",
              "AgriCarbonDEX\n",
              "\n",
              "Bối cảnh\n",
              "\n",
              "Biến đổi khí hậu và phát thải nhà kính đang là thách thức toàn cầu, đòi hỏi mỗi quốc gia, doanh nghiệp và cá nhân \n",
              "cùng hành động. Tín chỉ carbon và dữ liệu ESG \u001b[1m(\u001b[0mmôi trường – xã hội – quản trị\u001b[1m)\u001b[0m ngày càng trở thành tài sản có giá \n",
              "trị cao, được giao dịch như một phần của chiến lược giảm phát thải và tài chính bền vững.\n",
              "\n",
              "Tuy nhiên, thị trường tín chỉ carbon hiện nay đối mặt với các vấn đề lớn:\n",
              "\n",
              "Khó xác minh nguồn gốc và tính minh bạch của dữ liệu môi trường.\n",
              "\n",
              "Nguy cơ “greenwashing” khi doanh nghiệp tuyên bố xanh nhưng không có bằng chứng kiểm chứng.\n",
              "\n",
              "Dữ liệu bị phân mảnh, khó theo dõi xuyên suốt chuỗi giá trị.\n",
              "\n",
              "Giải thích các khái niệm\n",
              "\n",
              "DT \u001b[1m(\u001b[0mDigital Twin\u001b[1m)\u001b[0m: là bản sao kỹ thuật số của một đối tượng, hệ thống hoặc quá trình trong thế giới thực. DT mô \n",
              "phỏng hành vi, trạng thái và hiệu suất của đối tượng thật theo thời gian thực.\n",
              "\n",
              "Dữ liệu DT: là dữ liệu được thu thập từ cảm biến hoặc nguồn thực tế, phản ánh trạng thái hiện tại hoặc lịch sử của \n",
              "đối tượng.\n",
              "\n",
              "Tín chỉ carbon: Là một chứng chỉ đại diện cho quyền phát thải \u001b[1;36m1\u001b[0m tấn khí CO₂ \u001b[1m(\u001b[0mhoặc tương đương\u001b[1m)\u001b[0m. Các doanh nghiệp \n",
              "gây ô nhiễm có thể mua tín chỉ từ các bên thực hiện các dự án giảm phát thải, như trồng rừng, năng lượng tái tạo, \n",
              "vv.===== Document \u001b[1;36m2\u001b[0m =====\n",
              "Carbon Soundbound Token: Cấp cho các bên có ảnh hưởng xấu, tiêu cực đến môi trường như các xí nghiệp, nhà máy sản \n",
              "xuất, công ty khai thác tài nguyên. Token này phản ánh lượng khí thải carbon mà tổ chức phát ra và không thể chuyển\n",
              "nhượng hoặc mua bán, nhằm gắn liền trách nhiệm môi trường vào danh tính kỹ thuật số của tổ chức.\n",
              "\n",
              "Carbon Token: Là tài sản kỹ thuật số được sử dụng để mua Credit NFT, thường được phát hành và sử dụng bởi các bên \n",
              "gây phát thải như nhà máy, doanh nghiệp sản xuất, công ty vận tải hoặc các tổ chức muốn bù đắp lượng khí thải \n",
              "carbon của mình.\n",
              "\n",
              "\u001b[1;36m6.1\u001b[0m\u001b[1m)\u001b[0m LLM Agent\n",
              "\n",
              "Hệ thống hiện tại được xây dựng dựa trên kiến trúc Multi-agent, tức là một tập hợp gồm nhiều tác nhân thông minh có\n",
              "khả năng tương tác, phối hợp hoặc hoạt động độc lập nhằm giải quyết các tác vụ phức tạp trong môi trường năng động.\n",
              "\n",
              "Cụ thể, hệ thống hiện tại bao gồm một Manager Agent đóng vai trò điều phối và hai tác nhân chức năng chính:\n",
              "\n",
              "RAG Agent: Được sử dụng khi người dùng có các câu hỏi liên quan đến hệ thống AgriCarbonDex, chẳng hạn như: “Tại sao\n",
              "AgriCarbonDex được đề xuất?” hoặc “AgriCarbonDex được ứng dụng trong lĩnh vực nào?” Tác nhân này sử dụng kỹ thuật \n",
              "kết hợp giữa truy xuất và tạo sinh \u001b[1m(\u001b[0mRetrieval-Augmented Generation\u001b[1m)\u001b[0m để cung cấp câu trả lời chính xác và có căn cứ.\n"
            ],
            "text/html": [
              "<pre style=\"white-space:pre;overflow-x:auto;line-height:normal;font-family:Menlo,'DejaVu Sans Mono',consolas,'Courier New',monospace\">Observations: Retrieved documents:\n",
              "===== Document <span style=\"color: #008080; text-decoration-color: #008080; font-weight: bold\">0</span> =====\n",
              "Xác minh nguồn gốc phát thải <span style=\"color: #800080; text-decoration-color: #800080\">/</span> hấp thụ và nguồn gốc của tín chỉ carbon.\n",
              "\n",
              "Phạm vi ứng dụng\n",
              "\n",
              "Nông nghiệp tái sinh, trang trại trồng rừng, nhà máy xanh: tạo và giao dịch tín chỉ carbon thật sự.\n",
              "\n",
              "Tổ chức tài chính, nhà đầu tư ESG: đánh giá minh bạch tài sản môi trường.\n",
              "\n",
              "Chính quyền địa phương và trung ương: giám sát phát thải, hỗ trợ ra quyết định chính sách.\n",
              "\n",
              "Người dân: truy xuất dữ liệu môi trường gần họ, khuyến khích tiêu dùng xanh.\n",
              "\n",
              "Giá trị kỳ vọng\n",
              "\n",
              "Đảm bảo tín chỉ carbon phát hành từ dữ liệu thật, có thể kiểm tra.\n",
              "\n",
              "Tạo ra thị trường giao dịch minh bạch, phi tập trung, khuyến khích doanh nghiệp phát triển bền vững.\n",
              "\n",
              "Đưa dữ liệu ESG vào tài chính hóa, phục vụ các quỹ đầu tư xanh và nhà hoạch định chính sách.\n",
              "\n",
              "Nâng cao vai trò của công nghệ Việt Nam trong xây dựng hạ tầng tài chính môi trường.\n",
              "\n",
              "Kiến trúc hệ thống\n",
              "\n",
              "Trong hình trên, các thành phần trong hệ thống có thể chia thành <span style=\"color: #008080; text-decoration-color: #008080; font-weight: bold\">5</span> Lớp:\n",
              "\n",
              "End devices: Các cảm biến thu thập từ các trang trại trồng rừng hoặc các xí nghiệp.\n",
              "\n",
              "Edge: DT đặt ở cạnh nguồn dữ liệu với độ trễ thấp và phản hồi ngay lập tức với dữ liệu thô sơ.\n",
              "\n",
              "Fog: Các DT đặt ở gần trung tâm hơn, có tài nguyên tính toán mạnh nên có khả năng phân tích phức tạp.\n",
              "\n",
              "Control center: Trung tâm giám sát, xác minh và báo cáo <span style=\"font-weight: bold\">(</span>MVR<span style=\"font-weight: bold\">)</span> cùng với chatbox LLM agent và mô đun ML/DL phát hiện \n",
              "số liệu DT bất thường.===== Document <span style=\"color: #008080; text-decoration-color: #008080; font-weight: bold\">1</span> =====\n",
              "AgriCarbonDEX\n",
              "\n",
              "Bối cảnh\n",
              "\n",
              "Biến đổi khí hậu và phát thải nhà kính đang là thách thức toàn cầu, đòi hỏi mỗi quốc gia, doanh nghiệp và cá nhân \n",
              "cùng hành động. Tín chỉ carbon và dữ liệu ESG <span style=\"font-weight: bold\">(</span>môi trường – xã hội – quản trị<span style=\"font-weight: bold\">)</span> ngày càng trở thành tài sản có giá \n",
              "trị cao, được giao dịch như một phần của chiến lược giảm phát thải và tài chính bền vững.\n",
              "\n",
              "Tuy nhiên, thị trường tín chỉ carbon hiện nay đối mặt với các vấn đề lớn:\n",
              "\n",
              "Khó xác minh nguồn gốc và tính minh bạch của dữ liệu môi trường.\n",
              "\n",
              "Nguy cơ “greenwashing” khi doanh nghiệp tuyên bố xanh nhưng không có bằng chứng kiểm chứng.\n",
              "\n",
              "Dữ liệu bị phân mảnh, khó theo dõi xuyên suốt chuỗi giá trị.\n",
              "\n",
              "Giải thích các khái niệm\n",
              "\n",
              "DT <span style=\"font-weight: bold\">(</span>Digital Twin<span style=\"font-weight: bold\">)</span>: là bản sao kỹ thuật số của một đối tượng, hệ thống hoặc quá trình trong thế giới thực. DT mô \n",
              "phỏng hành vi, trạng thái và hiệu suất của đối tượng thật theo thời gian thực.\n",
              "\n",
              "Dữ liệu DT: là dữ liệu được thu thập từ cảm biến hoặc nguồn thực tế, phản ánh trạng thái hiện tại hoặc lịch sử của \n",
              "đối tượng.\n",
              "\n",
              "Tín chỉ carbon: Là một chứng chỉ đại diện cho quyền phát thải <span style=\"color: #008080; text-decoration-color: #008080; font-weight: bold\">1</span> tấn khí CO₂ <span style=\"font-weight: bold\">(</span>hoặc tương đương<span style=\"font-weight: bold\">)</span>. Các doanh nghiệp \n",
              "gây ô nhiễm có thể mua tín chỉ từ các bên thực hiện các dự án giảm phát thải, như trồng rừng, năng lượng tái tạo, \n",
              "vv.===== Document <span style=\"color: #008080; text-decoration-color: #008080; font-weight: bold\">2</span> =====\n",
              "Carbon Soundbound Token: Cấp cho các bên có ảnh hưởng xấu, tiêu cực đến môi trường như các xí nghiệp, nhà máy sản \n",
              "xuất, công ty khai thác tài nguyên. Token này phản ánh lượng khí thải carbon mà tổ chức phát ra và không thể chuyển\n",
              "nhượng hoặc mua bán, nhằm gắn liền trách nhiệm môi trường vào danh tính kỹ thuật số của tổ chức.\n",
              "\n",
              "Carbon Token: Là tài sản kỹ thuật số được sử dụng để mua Credit NFT, thường được phát hành và sử dụng bởi các bên \n",
              "gây phát thải như nhà máy, doanh nghiệp sản xuất, công ty vận tải hoặc các tổ chức muốn bù đắp lượng khí thải \n",
              "carbon của mình.\n",
              "\n",
              "<span style=\"color: #008080; text-decoration-color: #008080; font-weight: bold\">6.1</span><span style=\"font-weight: bold\">)</span> LLM Agent\n",
              "\n",
              "Hệ thống hiện tại được xây dựng dựa trên kiến trúc Multi-agent, tức là một tập hợp gồm nhiều tác nhân thông minh có\n",
              "khả năng tương tác, phối hợp hoặc hoạt động độc lập nhằm giải quyết các tác vụ phức tạp trong môi trường năng động.\n",
              "\n",
              "Cụ thể, hệ thống hiện tại bao gồm một Manager Agent đóng vai trò điều phối và hai tác nhân chức năng chính:\n",
              "\n",
              "RAG Agent: Được sử dụng khi người dùng có các câu hỏi liên quan đến hệ thống AgriCarbonDex, chẳng hạn như: “Tại sao\n",
              "AgriCarbonDex được đề xuất?” hoặc “AgriCarbonDex được ứng dụng trong lĩnh vực nào?” Tác nhân này sử dụng kỹ thuật \n",
              "kết hợp giữa truy xuất và tạo sinh <span style=\"font-weight: bold\">(</span>Retrieval-Augmented Generation<span style=\"font-weight: bold\">)</span> để cung cấp câu trả lời chính xác và có căn cứ.\n",
              "</pre>\n"
            ]
          },
          "metadata": {}
        },
        {
          "output_type": "display_data",
          "data": {
            "text/plain": [
              "\u001b[2m[Step 1: Duration 30.20 seconds| Input tokens: 1,046 | Output tokens: 32]\u001b[0m\n"
            ],
            "text/html": [
              "<pre style=\"white-space:pre;overflow-x:auto;line-height:normal;font-family:Menlo,'DejaVu Sans Mono',consolas,'Courier New',monospace\"><span style=\"color: #7f7f7f; text-decoration-color: #7f7f7f\">[Step 1: Duration 30.20 seconds| Input tokens: 1,046 | Output tokens: 32]</span>\n",
              "</pre>\n"
            ]
          },
          "metadata": {}
        },
        {
          "output_type": "display_data",
          "data": {
            "text/plain": [
              "\u001b[38;2;212;183;2m━━━━━━━━━━━━━━━━━━━━━━━━━━━━━━━━━━━━━━━━━━━━━━━━━━━━━ \u001b[0m\u001b[1mStep \u001b[0m\u001b[1;36m2\u001b[0m\u001b[38;2;212;183;2m ━━━━━━━━━━━━━━━━━━━━━━━━━━━━━━━━━━━━━━━━━━━━━━━━━━━━━━\u001b[0m\n"
            ],
            "text/html": [
              "<pre style=\"white-space:pre;overflow-x:auto;line-height:normal;font-family:Menlo,'DejaVu Sans Mono',consolas,'Courier New',monospace\"><span style=\"color: #d4b702; text-decoration-color: #d4b702\">━━━━━━━━━━━━━━━━━━━━━━━━━━━━━━━━━━━━━━━━━━━━━━━━━━━━━ </span><span style=\"font-weight: bold\">Step </span><span style=\"color: #008080; text-decoration-color: #008080; font-weight: bold\">2</span><span style=\"color: #d4b702; text-decoration-color: #d4b702\"> ━━━━━━━━━━━━━━━━━━━━━━━━━━━━━━━━━━━━━━━━━━━━━━━━━━━━━━</span>\n",
              "</pre>\n"
            ]
          },
          "metadata": {}
        },
        {
          "output_type": "display_data",
          "data": {
            "text/plain": [
              "╭─────────────────────────────────────────────────────────────────────────────────────────────────────────────────╮\n",
              "│ Calling tool: 'final_answer' with arguments: {'answer': '### 1. Task outcome (short version):\\nTín chỉ carbon   │\n",
              "│ tại Việt Nam liên quan đến việc xác minh nguồn gốc phát thải và hấp thụ, cũng như việc tạo và giao dịch tín chỉ │\n",
              "│ carbon. Nó được ứng dụng trong nhiều lĩnh vực như nông nghiệp tái sinh, trang trại trồng rừng, nhà máy xanh, tổ │\n",
              "│ chức tài chính, nhà đầu tư ESG, chính quyền địa phương và trung ương, và người dân.\\n\\n### 2. Task outcome      │\n",
              "│ (extremely detailed version):\\nTín chỉ carbon tại Việt Nam là một công cụ hữu ích để đảm bảo tính minh bạch và  │\n",
              "│ xác thực về nguồn gốc phát thải và hấp thụ khí thải nhà kính. Nó giúp tạo ra một thị trường giao dịch tín chỉ   │\n",
              "│ carbon minh bạch và phi tập trung, khuyến khích doanh nghiệp phát triển bền vững. Một số điểm chính:\\n\\n- Tín   │\n",
              "│ chỉ carbon được tạo ra từ dữ liệu thật, có thể kiểm tra, giúp đảm bảo tính minh bạch.\\n- Thị trường tín chỉ     │\n",
              "│ carbon được xây dựng để tạo ra một hệ thống giao dịch minh bạch, phi tập trung, thúc đẩy phát triển bền         │\n",
              "│ vững.\\n- Dữ liệu ESG (môi trường - xã hội - quản trị) được đưa vào tài chính hóa, phục vụ các quỹ đầu tư xanh   │\n",
              "│ và nhà hoạch định chính sách.\\n- Công nghệ Việt Nam đóng vai trò quan trọng trong việc xây dựng hạ tầng tài     │\n",
              "│ chính môi trường.\\n\\n### 3. Additional context (if relevant):\\nViệt Nam đã và đang nỗ lực thực hiện các biện    │\n",
              "│ pháp nhằm giảm phát thải khí nhà kính và tăng cường sử dụng năng lượng tái tạo. Hệ thống tín chỉ carbon tại     │\n",
              "│ Việt Nam được xây dựng dựa trên kiến trúc Multi-agent, với các thành phần như End devices, Edge, Fog, Control   │\n",
              "│ center, và LLM Agent. Hệ thống này sử dụng các cảm biến để thu thập dữ liệu từ các trang trại trồng rừng hoặc   │\n",
              "│ các xí nghiệp, và sử dụng công nghệ kỹ thuật số để phân tích và quản lý dữ liệu.\\n\\nTín chỉ carbon tại Việt Nam │\n",
              "│ cũng liên quan đến việc sử dụng Carbon Soundbound Token và Carbon Token. Carbon Soundbound Token được cấp cho   │\n",
              "│ các tổ chức có ảnh hưởng tiêu cực đến môi trường, trong khi Carbon Token được sử dụng để mua Credit NFT và bù   │\n",
              "│ đắp lượng khí thải carbon của tổ chức.'}                                                                        │\n",
              "╰─────────────────────────────────────────────────────────────────────────────────────────────────────────────────╯\n"
            ],
            "text/html": [
              "<pre style=\"white-space:pre;overflow-x:auto;line-height:normal;font-family:Menlo,'DejaVu Sans Mono',consolas,'Courier New',monospace\">╭─────────────────────────────────────────────────────────────────────────────────────────────────────────────────╮\n",
              "│ Calling tool: 'final_answer' with arguments: {'answer': '### 1. Task outcome (short version):\\nTín chỉ carbon   │\n",
              "│ tại Việt Nam liên quan đến việc xác minh nguồn gốc phát thải và hấp thụ, cũng như việc tạo và giao dịch tín chỉ │\n",
              "│ carbon. Nó được ứng dụng trong nhiều lĩnh vực như nông nghiệp tái sinh, trang trại trồng rừng, nhà máy xanh, tổ │\n",
              "│ chức tài chính, nhà đầu tư ESG, chính quyền địa phương và trung ương, và người dân.\\n\\n### 2. Task outcome      │\n",
              "│ (extremely detailed version):\\nTín chỉ carbon tại Việt Nam là một công cụ hữu ích để đảm bảo tính minh bạch và  │\n",
              "│ xác thực về nguồn gốc phát thải và hấp thụ khí thải nhà kính. Nó giúp tạo ra một thị trường giao dịch tín chỉ   │\n",
              "│ carbon minh bạch và phi tập trung, khuyến khích doanh nghiệp phát triển bền vững. Một số điểm chính:\\n\\n- Tín   │\n",
              "│ chỉ carbon được tạo ra từ dữ liệu thật, có thể kiểm tra, giúp đảm bảo tính minh bạch.\\n- Thị trường tín chỉ     │\n",
              "│ carbon được xây dựng để tạo ra một hệ thống giao dịch minh bạch, phi tập trung, thúc đẩy phát triển bền         │\n",
              "│ vững.\\n- Dữ liệu ESG (môi trường - xã hội - quản trị) được đưa vào tài chính hóa, phục vụ các quỹ đầu tư xanh   │\n",
              "│ và nhà hoạch định chính sách.\\n- Công nghệ Việt Nam đóng vai trò quan trọng trong việc xây dựng hạ tầng tài     │\n",
              "│ chính môi trường.\\n\\n### 3. Additional context (if relevant):\\nViệt Nam đã và đang nỗ lực thực hiện các biện    │\n",
              "│ pháp nhằm giảm phát thải khí nhà kính và tăng cường sử dụng năng lượng tái tạo. Hệ thống tín chỉ carbon tại     │\n",
              "│ Việt Nam được xây dựng dựa trên kiến trúc Multi-agent, với các thành phần như End devices, Edge, Fog, Control   │\n",
              "│ center, và LLM Agent. Hệ thống này sử dụng các cảm biến để thu thập dữ liệu từ các trang trại trồng rừng hoặc   │\n",
              "│ các xí nghiệp, và sử dụng công nghệ kỹ thuật số để phân tích và quản lý dữ liệu.\\n\\nTín chỉ carbon tại Việt Nam │\n",
              "│ cũng liên quan đến việc sử dụng Carbon Soundbound Token và Carbon Token. Carbon Soundbound Token được cấp cho   │\n",
              "│ các tổ chức có ảnh hưởng tiêu cực đến môi trường, trong khi Carbon Token được sử dụng để mua Credit NFT và bù   │\n",
              "│ đắp lượng khí thải carbon của tổ chức.'}                                                                        │\n",
              "╰─────────────────────────────────────────────────────────────────────────────────────────────────────────────────╯\n",
              "</pre>\n"
            ]
          },
          "metadata": {}
        },
        {
          "output_type": "display_data",
          "data": {
            "text/plain": [
              "\u001b[1;38;2;212;183;2mFinal answer: ### 1. Task outcome (short version):\u001b[0m\n",
              "\u001b[1;38;2;212;183;2mTín chỉ carbon tại Việt Nam liên quan đến việc xác minh nguồn gốc phát thải và hấp thụ, cũng như việc tạo và giao \u001b[0m\n",
              "\u001b[1;38;2;212;183;2mdịch tín chỉ carbon. Nó được ứng dụng trong nhiều lĩnh vực như nông nghiệp tái sinh, trang trại trồng rừng, nhà máy\u001b[0m\n",
              "\u001b[1;38;2;212;183;2mxanh, tổ chức tài chính, nhà đầu tư ESG, chính quyền địa phương và trung ương, và người dân.\u001b[0m\n",
              "\n",
              "\u001b[1;38;2;212;183;2m### 2. Task outcome (extremely detailed version):\u001b[0m\n",
              "\u001b[1;38;2;212;183;2mTín chỉ carbon tại Việt Nam là một công cụ hữu ích để đảm bảo tính minh bạch và xác thực về nguồn gốc phát thải và \u001b[0m\n",
              "\u001b[1;38;2;212;183;2mhấp thụ khí thải nhà kính. Nó giúp tạo ra một thị trường giao dịch tín chỉ carbon minh bạch và phi tập trung, \u001b[0m\n",
              "\u001b[1;38;2;212;183;2mkhuyến khích doanh nghiệp phát triển bền vững. Một số điểm chính:\u001b[0m\n",
              "\n",
              "\u001b[1;38;2;212;183;2m- Tín chỉ carbon được tạo ra từ dữ liệu thật, có thể kiểm tra, giúp đảm bảo tính minh bạch.\u001b[0m\n",
              "\u001b[1;38;2;212;183;2m- Thị trường tín chỉ carbon được xây dựng để tạo ra một hệ thống giao dịch minh bạch, phi tập trung, thúc đẩy phát \u001b[0m\n",
              "\u001b[1;38;2;212;183;2mtriển bền vững.\u001b[0m\n",
              "\u001b[1;38;2;212;183;2m- Dữ liệu ESG (môi trường - xã hội - quản trị) được đưa vào tài chính hóa, phục vụ các quỹ đầu tư xanh và nhà hoạch\u001b[0m\n",
              "\u001b[1;38;2;212;183;2mđịnh chính sách.\u001b[0m\n",
              "\u001b[1;38;2;212;183;2m- Công nghệ Việt Nam đóng vai trò quan trọng trong việc xây dựng hạ tầng tài chính môi trường.\u001b[0m\n",
              "\n",
              "\u001b[1;38;2;212;183;2m### 3. Additional context (if relevant):\u001b[0m\n",
              "\u001b[1;38;2;212;183;2mViệt Nam đã và đang nỗ lực thực hiện các biện pháp nhằm giảm phát thải khí nhà kính và tăng cường sử dụng năng \u001b[0m\n",
              "\u001b[1;38;2;212;183;2mlượng tái tạo. Hệ thống tín chỉ carbon tại Việt Nam được xây dựng dựa trên kiến trúc Multi-agent, với các thành \u001b[0m\n",
              "\u001b[1;38;2;212;183;2mphần như End devices, Edge, Fog, Control center, và LLM Agent. Hệ thống này sử dụng các cảm biến để thu thập dữ \u001b[0m\n",
              "\u001b[1;38;2;212;183;2mliệu từ các trang trại trồng rừng hoặc các xí nghiệp, và sử dụng công nghệ kỹ thuật số để phân tích và quản lý dữ \u001b[0m\n",
              "\u001b[1;38;2;212;183;2mliệu.\u001b[0m\n",
              "\n",
              "\u001b[1;38;2;212;183;2mTín chỉ carbon tại Việt Nam cũng liên quan đến việc sử dụng Carbon Soundbound Token và Carbon Token. Carbon \u001b[0m\n",
              "\u001b[1;38;2;212;183;2mSoundbound Token được cấp cho các tổ chức có ảnh hưởng tiêu cực đến môi trường, trong khi Carbon Token được sử dụng\u001b[0m\n",
              "\u001b[1;38;2;212;183;2mđể mua Credit NFT và bù đắp lượng khí thải carbon của tổ chức.\u001b[0m\n"
            ],
            "text/html": [
              "<pre style=\"white-space:pre;overflow-x:auto;line-height:normal;font-family:Menlo,'DejaVu Sans Mono',consolas,'Courier New',monospace\"><span style=\"color: #d4b702; text-decoration-color: #d4b702; font-weight: bold\">Final answer: ### 1. Task outcome (short version):</span>\n",
              "<span style=\"color: #d4b702; text-decoration-color: #d4b702; font-weight: bold\">Tín chỉ carbon tại Việt Nam liên quan đến việc xác minh nguồn gốc phát thải và hấp thụ, cũng như việc tạo và giao </span>\n",
              "<span style=\"color: #d4b702; text-decoration-color: #d4b702; font-weight: bold\">dịch tín chỉ carbon. Nó được ứng dụng trong nhiều lĩnh vực như nông nghiệp tái sinh, trang trại trồng rừng, nhà máy</span>\n",
              "<span style=\"color: #d4b702; text-decoration-color: #d4b702; font-weight: bold\">xanh, tổ chức tài chính, nhà đầu tư ESG, chính quyền địa phương và trung ương, và người dân.</span>\n",
              "\n",
              "<span style=\"color: #d4b702; text-decoration-color: #d4b702; font-weight: bold\">### 2. Task outcome (extremely detailed version):</span>\n",
              "<span style=\"color: #d4b702; text-decoration-color: #d4b702; font-weight: bold\">Tín chỉ carbon tại Việt Nam là một công cụ hữu ích để đảm bảo tính minh bạch và xác thực về nguồn gốc phát thải và </span>\n",
              "<span style=\"color: #d4b702; text-decoration-color: #d4b702; font-weight: bold\">hấp thụ khí thải nhà kính. Nó giúp tạo ra một thị trường giao dịch tín chỉ carbon minh bạch và phi tập trung, </span>\n",
              "<span style=\"color: #d4b702; text-decoration-color: #d4b702; font-weight: bold\">khuyến khích doanh nghiệp phát triển bền vững. Một số điểm chính:</span>\n",
              "\n",
              "<span style=\"color: #d4b702; text-decoration-color: #d4b702; font-weight: bold\">- Tín chỉ carbon được tạo ra từ dữ liệu thật, có thể kiểm tra, giúp đảm bảo tính minh bạch.</span>\n",
              "<span style=\"color: #d4b702; text-decoration-color: #d4b702; font-weight: bold\">- Thị trường tín chỉ carbon được xây dựng để tạo ra một hệ thống giao dịch minh bạch, phi tập trung, thúc đẩy phát </span>\n",
              "<span style=\"color: #d4b702; text-decoration-color: #d4b702; font-weight: bold\">triển bền vững.</span>\n",
              "<span style=\"color: #d4b702; text-decoration-color: #d4b702; font-weight: bold\">- Dữ liệu ESG (môi trường - xã hội - quản trị) được đưa vào tài chính hóa, phục vụ các quỹ đầu tư xanh và nhà hoạch</span>\n",
              "<span style=\"color: #d4b702; text-decoration-color: #d4b702; font-weight: bold\">định chính sách.</span>\n",
              "<span style=\"color: #d4b702; text-decoration-color: #d4b702; font-weight: bold\">- Công nghệ Việt Nam đóng vai trò quan trọng trong việc xây dựng hạ tầng tài chính môi trường.</span>\n",
              "\n",
              "<span style=\"color: #d4b702; text-decoration-color: #d4b702; font-weight: bold\">### 3. Additional context (if relevant):</span>\n",
              "<span style=\"color: #d4b702; text-decoration-color: #d4b702; font-weight: bold\">Việt Nam đã và đang nỗ lực thực hiện các biện pháp nhằm giảm phát thải khí nhà kính và tăng cường sử dụng năng </span>\n",
              "<span style=\"color: #d4b702; text-decoration-color: #d4b702; font-weight: bold\">lượng tái tạo. Hệ thống tín chỉ carbon tại Việt Nam được xây dựng dựa trên kiến trúc Multi-agent, với các thành </span>\n",
              "<span style=\"color: #d4b702; text-decoration-color: #d4b702; font-weight: bold\">phần như End devices, Edge, Fog, Control center, và LLM Agent. Hệ thống này sử dụng các cảm biến để thu thập dữ </span>\n",
              "<span style=\"color: #d4b702; text-decoration-color: #d4b702; font-weight: bold\">liệu từ các trang trại trồng rừng hoặc các xí nghiệp, và sử dụng công nghệ kỹ thuật số để phân tích và quản lý dữ </span>\n",
              "<span style=\"color: #d4b702; text-decoration-color: #d4b702; font-weight: bold\">liệu.</span>\n",
              "\n",
              "<span style=\"color: #d4b702; text-decoration-color: #d4b702; font-weight: bold\">Tín chỉ carbon tại Việt Nam cũng liên quan đến việc sử dụng Carbon Soundbound Token và Carbon Token. Carbon </span>\n",
              "<span style=\"color: #d4b702; text-decoration-color: #d4b702; font-weight: bold\">Soundbound Token được cấp cho các tổ chức có ảnh hưởng tiêu cực đến môi trường, trong khi Carbon Token được sử dụng</span>\n",
              "<span style=\"color: #d4b702; text-decoration-color: #d4b702; font-weight: bold\">để mua Credit NFT và bù đắp lượng khí thải carbon của tổ chức.</span>\n",
              "</pre>\n"
            ]
          },
          "metadata": {}
        },
        {
          "output_type": "display_data",
          "data": {
            "text/plain": [
              "\u001b[2m[Step 2: Duration 43.93 seconds| Input tokens: 3,948 | Output tokens: 902]\u001b[0m\n"
            ],
            "text/html": [
              "<pre style=\"white-space:pre;overflow-x:auto;line-height:normal;font-family:Menlo,'DejaVu Sans Mono',consolas,'Courier New',monospace\"><span style=\"color: #7f7f7f; text-decoration-color: #7f7f7f\">[Step 2: Duration 43.93 seconds| Input tokens: 3,948 | Output tokens: 902]</span>\n",
              "</pre>\n"
            ]
          },
          "metadata": {}
        },
        {
          "output_type": "display_data",
          "data": {
            "text/plain": [
              "\u001b[1mExecution logs:\u001b[0m\n",
              "Here is the final answer from your managed agent 'retriever_agent':\n",
              "### 1. Task outcome (short version):\n",
              "Tín chỉ carbon tại Việt Nam liên quan đến việc xác minh nguồn gốc phát thải và hấp thụ, cũng như việc tạo và giao \n",
              "dịch tín chỉ carbon. Nó được ứng dụng trong nhiều lĩnh vực như nông nghiệp tái sinh, trang trại trồng rừng, nhà máy\n",
              "xanh, tổ chức tài chính, nhà đầu tư ESG, chính quyền địa phương và trung ương, và người dân.\n",
              "\n",
              "### 2. Task outcome (extremely detailed version):\n",
              "Tín chỉ carbon tại Việt Nam là một công cụ hữu ích để đảm bảo tính minh bạch và xác thực về nguồn gốc phát thải và \n",
              "hấp thụ khí thải nhà kính. Nó giúp tạo ra một thị trường giao dịch tín chỉ carbon minh bạch và phi tập trung, \n",
              "khuyến khích doanh nghiệp phát triển bền vững. Một số điểm chính:\n",
              "\n",
              "- Tín chỉ carbon được tạo ra từ dữ liệu thật, có thể kiểm tra, giúp đảm bảo tính minh bạch.\n",
              "- Thị trường tín chỉ carbon được xây dựng để tạo ra một hệ thống giao dịch minh bạch, phi tập trung, thúc đẩy phát \n",
              "triển bền vững.\n",
              "- Dữ liệu ESG (môi trường - xã hội - quản trị) được đưa vào tài chính hóa, phục vụ các quỹ đầu tư xanh và nhà hoạch\n",
              "định chính sách.\n",
              "- Công nghệ Việt Nam đóng vai trò quan trọng trong việc xây dựng hạ tầng tài chính môi trường.\n",
              "\n",
              "### 3. Additional context (if relevant):\n",
              "Việt Nam đã và đang nỗ lực thực hiện các biện pháp nhằm giảm phát thải khí nhà kính và tăng cường sử dụng năng \n",
              "lượng tái tạo. Hệ thống tín chỉ carbon tại Việt Nam được xây dựng dựa trên kiến trúc Multi-agent, với các thành \n",
              "phần như End devices, Edge, Fog, Control center, và LLM Agent. Hệ thống này sử dụng các cảm biến để thu thập dữ \n",
              "liệu từ các trang trại trồng rừng hoặc các xí nghiệp, và sử dụng công nghệ kỹ thuật số để phân tích và quản lý dữ \n",
              "liệu.\n",
              "\n",
              "Tín chỉ carbon tại Việt Nam cũng liên quan đến việc sử dụng Carbon Soundbound Token và Carbon Token. Carbon \n",
              "Soundbound Token được cấp cho các tổ chức có ảnh hưởng tiêu cực đến môi trường, trong khi Carbon Token được sử dụng\n",
              "để mua Credit NFT và bù đắp lượng khí thải carbon của tổ chức.\n",
              "\n",
              "Out: None\n"
            ],
            "text/html": [
              "<pre style=\"white-space:pre;overflow-x:auto;line-height:normal;font-family:Menlo,'DejaVu Sans Mono',consolas,'Courier New',monospace\"><span style=\"font-weight: bold\">Execution logs:</span>\n",
              "Here is the final answer from your managed agent 'retriever_agent':\n",
              "### 1. Task outcome (short version):\n",
              "Tín chỉ carbon tại Việt Nam liên quan đến việc xác minh nguồn gốc phát thải và hấp thụ, cũng như việc tạo và giao \n",
              "dịch tín chỉ carbon. Nó được ứng dụng trong nhiều lĩnh vực như nông nghiệp tái sinh, trang trại trồng rừng, nhà máy\n",
              "xanh, tổ chức tài chính, nhà đầu tư ESG, chính quyền địa phương và trung ương, và người dân.\n",
              "\n",
              "### 2. Task outcome (extremely detailed version):\n",
              "Tín chỉ carbon tại Việt Nam là một công cụ hữu ích để đảm bảo tính minh bạch và xác thực về nguồn gốc phát thải và \n",
              "hấp thụ khí thải nhà kính. Nó giúp tạo ra một thị trường giao dịch tín chỉ carbon minh bạch và phi tập trung, \n",
              "khuyến khích doanh nghiệp phát triển bền vững. Một số điểm chính:\n",
              "\n",
              "- Tín chỉ carbon được tạo ra từ dữ liệu thật, có thể kiểm tra, giúp đảm bảo tính minh bạch.\n",
              "- Thị trường tín chỉ carbon được xây dựng để tạo ra một hệ thống giao dịch minh bạch, phi tập trung, thúc đẩy phát \n",
              "triển bền vững.\n",
              "- Dữ liệu ESG (môi trường - xã hội - quản trị) được đưa vào tài chính hóa, phục vụ các quỹ đầu tư xanh và nhà hoạch\n",
              "định chính sách.\n",
              "- Công nghệ Việt Nam đóng vai trò quan trọng trong việc xây dựng hạ tầng tài chính môi trường.\n",
              "\n",
              "### 3. Additional context (if relevant):\n",
              "Việt Nam đã và đang nỗ lực thực hiện các biện pháp nhằm giảm phát thải khí nhà kính và tăng cường sử dụng năng \n",
              "lượng tái tạo. Hệ thống tín chỉ carbon tại Việt Nam được xây dựng dựa trên kiến trúc Multi-agent, với các thành \n",
              "phần như End devices, Edge, Fog, Control center, và LLM Agent. Hệ thống này sử dụng các cảm biến để thu thập dữ \n",
              "liệu từ các trang trại trồng rừng hoặc các xí nghiệp, và sử dụng công nghệ kỹ thuật số để phân tích và quản lý dữ \n",
              "liệu.\n",
              "\n",
              "Tín chỉ carbon tại Việt Nam cũng liên quan đến việc sử dụng Carbon Soundbound Token và Carbon Token. Carbon \n",
              "Soundbound Token được cấp cho các tổ chức có ảnh hưởng tiêu cực đến môi trường, trong khi Carbon Token được sử dụng\n",
              "để mua Credit NFT và bù đắp lượng khí thải carbon của tổ chức.\n",
              "\n",
              "Out: None\n",
              "</pre>\n"
            ]
          },
          "metadata": {}
        },
        {
          "output_type": "display_data",
          "data": {
            "text/plain": [
              "\u001b[2m[Step 1: Duration 130.28 seconds| Input tokens: 2,166 | Output tokens: 109]\u001b[0m\n"
            ],
            "text/html": [
              "<pre style=\"white-space:pre;overflow-x:auto;line-height:normal;font-family:Menlo,'DejaVu Sans Mono',consolas,'Courier New',monospace\"><span style=\"color: #7f7f7f; text-decoration-color: #7f7f7f\">[Step 1: Duration 130.28 seconds| Input tokens: 2,166 | Output tokens: 109]</span>\n",
              "</pre>\n"
            ]
          },
          "metadata": {}
        },
        {
          "output_type": "display_data",
          "data": {
            "text/plain": [
              "\u001b[38;2;212;183;2m━━━━━━━━━━━━━━━━━━━━━━━━━━━━━━━━━━━━━━━━━━━━━━━━━━━━━ \u001b[0m\u001b[1mStep \u001b[0m\u001b[1;36m2\u001b[0m\u001b[38;2;212;183;2m ━━━━━━━━━━━━━━━━━━━━━━━━━━━━━━━━━━━━━━━━━━━━━━━━━━━━━━\u001b[0m\n"
            ],
            "text/html": [
              "<pre style=\"white-space:pre;overflow-x:auto;line-height:normal;font-family:Menlo,'DejaVu Sans Mono',consolas,'Courier New',monospace\"><span style=\"color: #d4b702; text-decoration-color: #d4b702\">━━━━━━━━━━━━━━━━━━━━━━━━━━━━━━━━━━━━━━━━━━━━━━━━━━━━━ </span><span style=\"font-weight: bold\">Step </span><span style=\"color: #008080; text-decoration-color: #008080; font-weight: bold\">2</span><span style=\"color: #d4b702; text-decoration-color: #d4b702\"> ━━━━━━━━━━━━━━━━━━━━━━━━━━━━━━━━━━━━━━━━━━━━━━━━━━━━━━</span>\n",
              "</pre>\n"
            ]
          },
          "metadata": {}
        },
        {
          "output_type": "display_data",
          "data": {
            "text/plain": [
              " ─ \u001b[1mExecuting parsed code:\u001b[0m ──────────────────────────────────────────────────────────────────────────────────────── \n",
              "  \u001b[38;2;248;248;242;48;2;39;40;34mfinal_answer\u001b[0m\u001b[38;2;248;248;242;48;2;39;40;34m(\u001b[0m\u001b[38;2;248;248;242;48;2;39;40;34mcarbon_credit_info\u001b[0m\u001b[38;2;248;248;242;48;2;39;40;34m)\u001b[0m\u001b[48;2;39;40;34m                                                                               \u001b[0m  \n",
              " ───────────────────────────────────────────────────────────────────────────────────────────────────────────────── \n"
            ],
            "text/html": [
              "<pre style=\"white-space:pre;overflow-x:auto;line-height:normal;font-family:Menlo,'DejaVu Sans Mono',consolas,'Courier New',monospace\"> ─ <span style=\"font-weight: bold\">Executing parsed code:</span> ──────────────────────────────────────────────────────────────────────────────────────── \n",
              "  <span style=\"color: #f8f8f2; text-decoration-color: #f8f8f2; background-color: #272822\">final_answer(carbon_credit_info)</span><span style=\"background-color: #272822\">                                                                               </span>  \n",
              " ───────────────────────────────────────────────────────────────────────────────────────────────────────────────── \n",
              "</pre>\n"
            ]
          },
          "metadata": {}
        },
        {
          "output_type": "display_data",
          "data": {
            "text/plain": [
              "\u001b[1;38;2;212;183;2mOut - Final answer: Here is the final answer from your managed agent 'retriever_agent':\u001b[0m\n",
              "\u001b[1;38;2;212;183;2m### 1. Task outcome (short version):\u001b[0m\n",
              "\u001b[1;38;2;212;183;2mTín chỉ carbon tại Việt Nam liên quan đến việc xác minh nguồn gốc phát thải và hấp thụ, cũng như việc tạo và giao \u001b[0m\n",
              "\u001b[1;38;2;212;183;2mdịch tín chỉ carbon. Nó được ứng dụng trong nhiều lĩnh vực như nông nghiệp tái sinh, trang trại trồng rừng, nhà máy\u001b[0m\n",
              "\u001b[1;38;2;212;183;2mxanh, tổ chức tài chính, nhà đầu tư ESG, chính quyền địa phương và trung ương, và người dân.\u001b[0m\n",
              "\n",
              "\u001b[1;38;2;212;183;2m### 2. Task outcome (extremely detailed version):\u001b[0m\n",
              "\u001b[1;38;2;212;183;2mTín chỉ carbon tại Việt Nam là một công cụ hữu ích để đảm bảo tính minh bạch và xác thực về nguồn gốc phát thải và \u001b[0m\n",
              "\u001b[1;38;2;212;183;2mhấp thụ khí thải nhà kính. Nó giúp tạo ra một thị trường giao dịch tín chỉ carbon minh bạch và phi tập trung, \u001b[0m\n",
              "\u001b[1;38;2;212;183;2mkhuyến khích doanh nghiệp phát triển bền vững. Một số điểm chính:\u001b[0m\n",
              "\n",
              "\u001b[1;38;2;212;183;2m- Tín chỉ carbon được tạo ra từ dữ liệu thật, có thể kiểm tra, giúp đảm bảo tính minh bạch.\u001b[0m\n",
              "\u001b[1;38;2;212;183;2m- Thị trường tín chỉ carbon được xây dựng để tạo ra một hệ thống giao dịch minh bạch, phi tập trung, thúc đẩy phát \u001b[0m\n",
              "\u001b[1;38;2;212;183;2mtriển bền vững.\u001b[0m\n",
              "\u001b[1;38;2;212;183;2m- Dữ liệu ESG (môi trường - xã hội - quản trị) được đưa vào tài chính hóa, phục vụ các quỹ đầu tư xanh và nhà hoạch\u001b[0m\n",
              "\u001b[1;38;2;212;183;2mđịnh chính sách.\u001b[0m\n",
              "\u001b[1;38;2;212;183;2m- Công nghệ Việt Nam đóng vai trò quan trọng trong việc xây dựng hạ tầng tài chính môi trường.\u001b[0m\n",
              "\n",
              "\u001b[1;38;2;212;183;2m### 3. Additional context (if relevant):\u001b[0m\n",
              "\u001b[1;38;2;212;183;2mViệt Nam đã và đang nỗ lực thực hiện các biện pháp nhằm giảm phát thải khí nhà kính và tăng cường sử dụng năng \u001b[0m\n",
              "\u001b[1;38;2;212;183;2mlượng tái tạo. Hệ thống tín chỉ carbon tại Việt Nam được xây dựng dựa trên kiến trúc Multi-agent, với các thành \u001b[0m\n",
              "\u001b[1;38;2;212;183;2mphần như End devices, Edge, Fog, Control center, và LLM Agent. Hệ thống này sử dụng các cảm biến để thu thập dữ \u001b[0m\n",
              "\u001b[1;38;2;212;183;2mliệu từ các trang trại trồng rừng hoặc các xí nghiệp, và sử dụng công nghệ kỹ thuật số để phân tích và quản lý dữ \u001b[0m\n",
              "\u001b[1;38;2;212;183;2mliệu.\u001b[0m\n",
              "\n",
              "\u001b[1;38;2;212;183;2mTín chỉ carbon tại Việt Nam cũng liên quan đến việc sử dụng Carbon Soundbound Token và Carbon Token. Carbon \u001b[0m\n",
              "\u001b[1;38;2;212;183;2mSoundbound Token được cấp cho các tổ chức có ảnh hưởng tiêu cực đến môi trường, trong khi Carbon Token được sử dụng\u001b[0m\n",
              "\u001b[1;38;2;212;183;2mđể mua Credit NFT và bù đắp lượng khí thải carbon của tổ chức.\u001b[0m\n"
            ],
            "text/html": [
              "<pre style=\"white-space:pre;overflow-x:auto;line-height:normal;font-family:Menlo,'DejaVu Sans Mono',consolas,'Courier New',monospace\"><span style=\"color: #d4b702; text-decoration-color: #d4b702; font-weight: bold\">Out - Final answer: Here is the final answer from your managed agent 'retriever_agent':</span>\n",
              "<span style=\"color: #d4b702; text-decoration-color: #d4b702; font-weight: bold\">### 1. Task outcome (short version):</span>\n",
              "<span style=\"color: #d4b702; text-decoration-color: #d4b702; font-weight: bold\">Tín chỉ carbon tại Việt Nam liên quan đến việc xác minh nguồn gốc phát thải và hấp thụ, cũng như việc tạo và giao </span>\n",
              "<span style=\"color: #d4b702; text-decoration-color: #d4b702; font-weight: bold\">dịch tín chỉ carbon. Nó được ứng dụng trong nhiều lĩnh vực như nông nghiệp tái sinh, trang trại trồng rừng, nhà máy</span>\n",
              "<span style=\"color: #d4b702; text-decoration-color: #d4b702; font-weight: bold\">xanh, tổ chức tài chính, nhà đầu tư ESG, chính quyền địa phương và trung ương, và người dân.</span>\n",
              "\n",
              "<span style=\"color: #d4b702; text-decoration-color: #d4b702; font-weight: bold\">### 2. Task outcome (extremely detailed version):</span>\n",
              "<span style=\"color: #d4b702; text-decoration-color: #d4b702; font-weight: bold\">Tín chỉ carbon tại Việt Nam là một công cụ hữu ích để đảm bảo tính minh bạch và xác thực về nguồn gốc phát thải và </span>\n",
              "<span style=\"color: #d4b702; text-decoration-color: #d4b702; font-weight: bold\">hấp thụ khí thải nhà kính. Nó giúp tạo ra một thị trường giao dịch tín chỉ carbon minh bạch và phi tập trung, </span>\n",
              "<span style=\"color: #d4b702; text-decoration-color: #d4b702; font-weight: bold\">khuyến khích doanh nghiệp phát triển bền vững. Một số điểm chính:</span>\n",
              "\n",
              "<span style=\"color: #d4b702; text-decoration-color: #d4b702; font-weight: bold\">- Tín chỉ carbon được tạo ra từ dữ liệu thật, có thể kiểm tra, giúp đảm bảo tính minh bạch.</span>\n",
              "<span style=\"color: #d4b702; text-decoration-color: #d4b702; font-weight: bold\">- Thị trường tín chỉ carbon được xây dựng để tạo ra một hệ thống giao dịch minh bạch, phi tập trung, thúc đẩy phát </span>\n",
              "<span style=\"color: #d4b702; text-decoration-color: #d4b702; font-weight: bold\">triển bền vững.</span>\n",
              "<span style=\"color: #d4b702; text-decoration-color: #d4b702; font-weight: bold\">- Dữ liệu ESG (môi trường - xã hội - quản trị) được đưa vào tài chính hóa, phục vụ các quỹ đầu tư xanh và nhà hoạch</span>\n",
              "<span style=\"color: #d4b702; text-decoration-color: #d4b702; font-weight: bold\">định chính sách.</span>\n",
              "<span style=\"color: #d4b702; text-decoration-color: #d4b702; font-weight: bold\">- Công nghệ Việt Nam đóng vai trò quan trọng trong việc xây dựng hạ tầng tài chính môi trường.</span>\n",
              "\n",
              "<span style=\"color: #d4b702; text-decoration-color: #d4b702; font-weight: bold\">### 3. Additional context (if relevant):</span>\n",
              "<span style=\"color: #d4b702; text-decoration-color: #d4b702; font-weight: bold\">Việt Nam đã và đang nỗ lực thực hiện các biện pháp nhằm giảm phát thải khí nhà kính và tăng cường sử dụng năng </span>\n",
              "<span style=\"color: #d4b702; text-decoration-color: #d4b702; font-weight: bold\">lượng tái tạo. Hệ thống tín chỉ carbon tại Việt Nam được xây dựng dựa trên kiến trúc Multi-agent, với các thành </span>\n",
              "<span style=\"color: #d4b702; text-decoration-color: #d4b702; font-weight: bold\">phần như End devices, Edge, Fog, Control center, và LLM Agent. Hệ thống này sử dụng các cảm biến để thu thập dữ </span>\n",
              "<span style=\"color: #d4b702; text-decoration-color: #d4b702; font-weight: bold\">liệu từ các trang trại trồng rừng hoặc các xí nghiệp, và sử dụng công nghệ kỹ thuật số để phân tích và quản lý dữ </span>\n",
              "<span style=\"color: #d4b702; text-decoration-color: #d4b702; font-weight: bold\">liệu.</span>\n",
              "\n",
              "<span style=\"color: #d4b702; text-decoration-color: #d4b702; font-weight: bold\">Tín chỉ carbon tại Việt Nam cũng liên quan đến việc sử dụng Carbon Soundbound Token và Carbon Token. Carbon </span>\n",
              "<span style=\"color: #d4b702; text-decoration-color: #d4b702; font-weight: bold\">Soundbound Token được cấp cho các tổ chức có ảnh hưởng tiêu cực đến môi trường, trong khi Carbon Token được sử dụng</span>\n",
              "<span style=\"color: #d4b702; text-decoration-color: #d4b702; font-weight: bold\">để mua Credit NFT và bù đắp lượng khí thải carbon của tổ chức.</span>\n",
              "</pre>\n"
            ]
          },
          "metadata": {}
        },
        {
          "output_type": "display_data",
          "data": {
            "text/plain": [
              "\u001b[2m[Step 2: Duration 29.80 seconds| Input tokens: 5,372 | Output tokens: 432]\u001b[0m\n"
            ],
            "text/html": [
              "<pre style=\"white-space:pre;overflow-x:auto;line-height:normal;font-family:Menlo,'DejaVu Sans Mono',consolas,'Courier New',monospace\"><span style=\"color: #7f7f7f; text-decoration-color: #7f7f7f\">[Step 2: Duration 29.80 seconds| Input tokens: 5,372 | Output tokens: 432]</span>\n",
              "</pre>\n"
            ]
          },
          "metadata": {}
        },
        {
          "output_type": "execute_result",
          "data": {
            "text/plain": [
              "\"Here is the final answer from your managed agent 'retriever_agent':\\n### 1. Task outcome (short version):\\nTín chỉ carbon tại Việt Nam liên quan đến việc xác minh nguồn gốc phát thải và hấp thụ, cũng như việc tạo và giao dịch tín chỉ carbon. Nó được ứng dụng trong nhiều lĩnh vực như nông nghiệp tái sinh, trang trại trồng rừng, nhà máy xanh, tổ chức tài chính, nhà đầu tư ESG, chính quyền địa phương và trung ương, và người dân.\\n\\n### 2. Task outcome (extremely detailed version):\\nTín chỉ carbon tại Việt Nam là một công cụ hữu ích để đảm bảo tính minh bạch và xác thực về nguồn gốc phát thải và hấp thụ khí thải nhà kính. Nó giúp tạo ra một thị trường giao dịch tín chỉ carbon minh bạch và phi tập trung, khuyến khích doanh nghiệp phát triển bền vững. Một số điểm chính:\\n\\n- Tín chỉ carbon được tạo ra từ dữ liệu thật, có thể kiểm tra, giúp đảm bảo tính minh bạch.\\n- Thị trường tín chỉ carbon được xây dựng để tạo ra một hệ thống giao dịch minh bạch, phi tập trung, thúc đẩy phát triển bền vững.\\n- Dữ liệu ESG (môi trường - xã hội - quản trị) được đưa vào tài chính hóa, phục vụ các quỹ đầu tư xanh và nhà hoạch định chính sách.\\n- Công nghệ Việt Nam đóng vai trò quan trọng trong việc xây dựng hạ tầng tài chính môi trường.\\n\\n### 3. Additional context (if relevant):\\nViệt Nam đã và đang nỗ lực thực hiện các biện pháp nhằm giảm phát thải khí nhà kính và tăng cường sử dụng năng lượng tái tạo. Hệ thống tín chỉ carbon tại Việt Nam được xây dựng dựa trên kiến trúc Multi-agent, với các thành phần như End devices, Edge, Fog, Control center, và LLM Agent. Hệ thống này sử dụng các cảm biến để thu thập dữ liệu từ các trang trại trồng rừng hoặc các xí nghiệp, và sử dụng công nghệ kỹ thuật số để phân tích và quản lý dữ liệu.\\n\\nTín chỉ carbon tại Việt Nam cũng liên quan đến việc sử dụng Carbon Soundbound Token và Carbon Token. Carbon Soundbound Token được cấp cho các tổ chức có ảnh hưởng tiêu cực đến môi trường, trong khi Carbon Token được sử dụng để mua Credit NFT và bù đắp lượng khí thải carbon của tổ chức.\""
            ],
            "application/vnd.google.colaboratory.intrinsic+json": {
              "type": "string"
            }
          },
          "metadata": {},
          "execution_count": 65
        }
      ]
    },
    {
      "cell_type": "code",
      "source": [
        "import gradio as gr\n",
        "\n",
        "# Hàm xử lý truy vấn\n",
        "def ask_multi_agent(question):\n",
        "    try:\n",
        "        response = manager_agent.run(question)\n",
        "        return str(response)\n",
        "    except Exception as e:\n",
        "        return f\"❌ Lỗi: {str(e)}\"\n",
        "\n",
        "# Tạo giao diện với dark theme\n",
        "with gr.Blocks(title=\"Multi-Agent RAG + Web Assistant\", theme=gr.themes.Soft()) as demo:\n",
        "    gr.Markdown(\"## 🤖 Hỏi hệ thống trợ lý đa tác nhân (Multi-Agent RAG/Web Search)\")\n",
        "    with gr.Row():\n",
        "        question_input = gr.Textbox(label=\"💬 Nhập câu hỏi\", placeholder=\"Ví dụ: Tín chỉ carbon là gì?\", lines=2)\n",
        "    with gr.Row():\n",
        "        output = gr.Textbox(label=\"📄 Kết quả phản hồi\", lines=15)\n",
        "    with gr.Row():\n",
        "        submit_btn = gr.Button(\"🚀 Gửi câu hỏi\")\n",
        "\n",
        "    submit_btn.click(fn=ask_multi_agent, inputs=question_input, outputs=output)\n",
        "\n",
        "# Chạy giao diện\n",
        "demo.launch(share=True)\n"
      ],
      "metadata": {
        "id": "1_sNfjuwdLox",
        "colab": {
          "base_uri": "https://localhost:8080/",
          "height": 611
        },
        "outputId": "d30b66d7-2e8a-41c9-d4e1-4d154783f5a7"
      },
      "execution_count": 107,
      "outputs": [
        {
          "output_type": "stream",
          "name": "stdout",
          "text": [
            "Colab notebook detected. To show errors in colab notebook, set debug=True in launch()\n",
            "* Running on public URL: https://5e38ed7eda03961a66.gradio.live\n",
            "\n",
            "This share link expires in 1 week. For free permanent hosting and GPU upgrades, run `gradio deploy` from the terminal in the working directory to deploy to Hugging Face Spaces (https://huggingface.co/spaces)\n"
          ]
        },
        {
          "output_type": "display_data",
          "data": {
            "text/plain": [
              "<IPython.core.display.HTML object>"
            ],
            "text/html": [
              "<div><iframe src=\"https://5e38ed7eda03961a66.gradio.live\" width=\"100%\" height=\"500\" allow=\"autoplay; camera; microphone; clipboard-read; clipboard-write;\" frameborder=\"0\" allowfullscreen></iframe></div>"
            ]
          },
          "metadata": {}
        },
        {
          "output_type": "execute_result",
          "data": {
            "text/plain": []
          },
          "metadata": {},
          "execution_count": 107
        }
      ]
    },
    {
      "cell_type": "code",
      "source": [],
      "metadata": {
        "id": "l1ZPoGsdFHgg"
      },
      "execution_count": null,
      "outputs": []
    }
  ],
  "metadata": {
    "kernelspec": {
      "display_name": "test2",
      "language": "python",
      "name": "test2"
    },
    "language_info": {
      "codemirror_mode": {
        "name": "ipython",
        "version": 3
      },
      "file_extension": ".py",
      "mimetype": "text/x-python",
      "name": "python",
      "nbconvert_exporter": "python",
      "pygments_lexer": "ipython3",
      "version": "3.12.0"
    },
    "colab": {
      "provenance": []
    },
    "widgets": {
      "application/vnd.jupyter.widget-state+json": {
        "2a4396e49a0c47138ca4714cc8488ef9": {
          "model_module": "@jupyter-widgets/controls",
          "model_name": "VBoxModel",
          "model_module_version": "1.5.0",
          "state": {
            "_dom_classes": [],
            "_model_module": "@jupyter-widgets/controls",
            "_model_module_version": "1.5.0",
            "_model_name": "VBoxModel",
            "_view_count": null,
            "_view_module": "@jupyter-widgets/controls",
            "_view_module_version": "1.5.0",
            "_view_name": "VBoxView",
            "box_style": "",
            "children": [],
            "layout": "IPY_MODEL_d22e7e804bf74b8ca4e7596907d43790"
          }
        },
        "7b8fd4f8686c49bea8dc774f7f6973d4": {
          "model_module": "@jupyter-widgets/controls",
          "model_name": "HTMLModel",
          "model_module_version": "1.5.0",
          "state": {
            "_dom_classes": [],
            "_model_module": "@jupyter-widgets/controls",
            "_model_module_version": "1.5.0",
            "_model_name": "HTMLModel",
            "_view_count": null,
            "_view_module": "@jupyter-widgets/controls",
            "_view_module_version": "1.5.0",
            "_view_name": "HTMLView",
            "description": "",
            "description_tooltip": null,
            "layout": "IPY_MODEL_5603185d362245a989f86340f6f5b941",
            "placeholder": "​",
            "style": "IPY_MODEL_31669a40076a45eb9739949a989bd218",
            "value": "<center> <img\nsrc=https://huggingface.co/front/assets/huggingface_logo-noborder.svg\nalt='Hugging Face'> <br> Copy a token from <a\nhref=\"https://huggingface.co/settings/tokens\" target=\"_blank\">your Hugging Face\ntokens page</a> and paste it below. <br> Immediately click login after copying\nyour token or it might be stored in plain text in this notebook file. </center>"
          }
        },
        "a4c057929f5b4ccaa2d49370648e2a5c": {
          "model_module": "@jupyter-widgets/controls",
          "model_name": "PasswordModel",
          "model_module_version": "1.5.0",
          "state": {
            "_dom_classes": [],
            "_model_module": "@jupyter-widgets/controls",
            "_model_module_version": "1.5.0",
            "_model_name": "PasswordModel",
            "_view_count": null,
            "_view_module": "@jupyter-widgets/controls",
            "_view_module_version": "1.5.0",
            "_view_name": "PasswordView",
            "continuous_update": true,
            "description": "Token:",
            "description_tooltip": null,
            "disabled": false,
            "layout": "IPY_MODEL_328e2bcd2b4e4ecca6870235fa43cdf9",
            "placeholder": "​",
            "style": "IPY_MODEL_9d32f944f63a4a819fa908a1ea9fbb33",
            "value": ""
          }
        },
        "5bc3693b60bd438aa5a4ec1f0aff3005": {
          "model_module": "@jupyter-widgets/controls",
          "model_name": "CheckboxModel",
          "model_module_version": "1.5.0",
          "state": {
            "_dom_classes": [],
            "_model_module": "@jupyter-widgets/controls",
            "_model_module_version": "1.5.0",
            "_model_name": "CheckboxModel",
            "_view_count": null,
            "_view_module": "@jupyter-widgets/controls",
            "_view_module_version": "1.5.0",
            "_view_name": "CheckboxView",
            "description": "Add token as git credential?",
            "description_tooltip": null,
            "disabled": false,
            "indent": true,
            "layout": "IPY_MODEL_b3ada3fb6695422c8888a8077e91948f",
            "style": "IPY_MODEL_3e546b5b18804dd0bc7a4d708095da93",
            "value": true
          }
        },
        "527fdaad47504d3182830a2687059612": {
          "model_module": "@jupyter-widgets/controls",
          "model_name": "ButtonModel",
          "model_module_version": "1.5.0",
          "state": {
            "_dom_classes": [],
            "_model_module": "@jupyter-widgets/controls",
            "_model_module_version": "1.5.0",
            "_model_name": "ButtonModel",
            "_view_count": null,
            "_view_module": "@jupyter-widgets/controls",
            "_view_module_version": "1.5.0",
            "_view_name": "ButtonView",
            "button_style": "",
            "description": "Login",
            "disabled": false,
            "icon": "",
            "layout": "IPY_MODEL_222905d642ef4e4da3979d9ce9bc0717",
            "style": "IPY_MODEL_8b8f2eaed7524b7184e6da9a28513409",
            "tooltip": ""
          }
        },
        "8d8acc6f0144408b88ed2e460d813215": {
          "model_module": "@jupyter-widgets/controls",
          "model_name": "HTMLModel",
          "model_module_version": "1.5.0",
          "state": {
            "_dom_classes": [],
            "_model_module": "@jupyter-widgets/controls",
            "_model_module_version": "1.5.0",
            "_model_name": "HTMLModel",
            "_view_count": null,
            "_view_module": "@jupyter-widgets/controls",
            "_view_module_version": "1.5.0",
            "_view_name": "HTMLView",
            "description": "",
            "description_tooltip": null,
            "layout": "IPY_MODEL_b43a2870b21043d9b6cfcb1742dea65d",
            "placeholder": "​",
            "style": "IPY_MODEL_7fecfe5ec608464a8b2b3d21f0733046",
            "value": "\n<b>Pro Tip:</b> If you don't already have one, you can create a dedicated\n'notebooks' token with 'write' access, that you can then easily reuse for all\nnotebooks. </center>"
          }
        },
        "d22e7e804bf74b8ca4e7596907d43790": {
          "model_module": "@jupyter-widgets/base",
          "model_name": "LayoutModel",
          "model_module_version": "1.2.0",
          "state": {
            "_model_module": "@jupyter-widgets/base",
            "_model_module_version": "1.2.0",
            "_model_name": "LayoutModel",
            "_view_count": null,
            "_view_module": "@jupyter-widgets/base",
            "_view_module_version": "1.2.0",
            "_view_name": "LayoutView",
            "align_content": null,
            "align_items": "center",
            "align_self": null,
            "border": null,
            "bottom": null,
            "display": "flex",
            "flex": null,
            "flex_flow": "column",
            "grid_area": null,
            "grid_auto_columns": null,
            "grid_auto_flow": null,
            "grid_auto_rows": null,
            "grid_column": null,
            "grid_gap": null,
            "grid_row": null,
            "grid_template_areas": null,
            "grid_template_columns": null,
            "grid_template_rows": null,
            "height": null,
            "justify_content": null,
            "justify_items": null,
            "left": null,
            "margin": null,
            "max_height": null,
            "max_width": null,
            "min_height": null,
            "min_width": null,
            "object_fit": null,
            "object_position": null,
            "order": null,
            "overflow": null,
            "overflow_x": null,
            "overflow_y": null,
            "padding": null,
            "right": null,
            "top": null,
            "visibility": null,
            "width": "50%"
          }
        },
        "5603185d362245a989f86340f6f5b941": {
          "model_module": "@jupyter-widgets/base",
          "model_name": "LayoutModel",
          "model_module_version": "1.2.0",
          "state": {
            "_model_module": "@jupyter-widgets/base",
            "_model_module_version": "1.2.0",
            "_model_name": "LayoutModel",
            "_view_count": null,
            "_view_module": "@jupyter-widgets/base",
            "_view_module_version": "1.2.0",
            "_view_name": "LayoutView",
            "align_content": null,
            "align_items": null,
            "align_self": null,
            "border": null,
            "bottom": null,
            "display": null,
            "flex": null,
            "flex_flow": null,
            "grid_area": null,
            "grid_auto_columns": null,
            "grid_auto_flow": null,
            "grid_auto_rows": null,
            "grid_column": null,
            "grid_gap": null,
            "grid_row": null,
            "grid_template_areas": null,
            "grid_template_columns": null,
            "grid_template_rows": null,
            "height": null,
            "justify_content": null,
            "justify_items": null,
            "left": null,
            "margin": null,
            "max_height": null,
            "max_width": null,
            "min_height": null,
            "min_width": null,
            "object_fit": null,
            "object_position": null,
            "order": null,
            "overflow": null,
            "overflow_x": null,
            "overflow_y": null,
            "padding": null,
            "right": null,
            "top": null,
            "visibility": null,
            "width": null
          }
        },
        "31669a40076a45eb9739949a989bd218": {
          "model_module": "@jupyter-widgets/controls",
          "model_name": "DescriptionStyleModel",
          "model_module_version": "1.5.0",
          "state": {
            "_model_module": "@jupyter-widgets/controls",
            "_model_module_version": "1.5.0",
            "_model_name": "DescriptionStyleModel",
            "_view_count": null,
            "_view_module": "@jupyter-widgets/base",
            "_view_module_version": "1.2.0",
            "_view_name": "StyleView",
            "description_width": ""
          }
        },
        "328e2bcd2b4e4ecca6870235fa43cdf9": {
          "model_module": "@jupyter-widgets/base",
          "model_name": "LayoutModel",
          "model_module_version": "1.2.0",
          "state": {
            "_model_module": "@jupyter-widgets/base",
            "_model_module_version": "1.2.0",
            "_model_name": "LayoutModel",
            "_view_count": null,
            "_view_module": "@jupyter-widgets/base",
            "_view_module_version": "1.2.0",
            "_view_name": "LayoutView",
            "align_content": null,
            "align_items": null,
            "align_self": null,
            "border": null,
            "bottom": null,
            "display": null,
            "flex": null,
            "flex_flow": null,
            "grid_area": null,
            "grid_auto_columns": null,
            "grid_auto_flow": null,
            "grid_auto_rows": null,
            "grid_column": null,
            "grid_gap": null,
            "grid_row": null,
            "grid_template_areas": null,
            "grid_template_columns": null,
            "grid_template_rows": null,
            "height": null,
            "justify_content": null,
            "justify_items": null,
            "left": null,
            "margin": null,
            "max_height": null,
            "max_width": null,
            "min_height": null,
            "min_width": null,
            "object_fit": null,
            "object_position": null,
            "order": null,
            "overflow": null,
            "overflow_x": null,
            "overflow_y": null,
            "padding": null,
            "right": null,
            "top": null,
            "visibility": null,
            "width": null
          }
        },
        "9d32f944f63a4a819fa908a1ea9fbb33": {
          "model_module": "@jupyter-widgets/controls",
          "model_name": "DescriptionStyleModel",
          "model_module_version": "1.5.0",
          "state": {
            "_model_module": "@jupyter-widgets/controls",
            "_model_module_version": "1.5.0",
            "_model_name": "DescriptionStyleModel",
            "_view_count": null,
            "_view_module": "@jupyter-widgets/base",
            "_view_module_version": "1.2.0",
            "_view_name": "StyleView",
            "description_width": ""
          }
        },
        "b3ada3fb6695422c8888a8077e91948f": {
          "model_module": "@jupyter-widgets/base",
          "model_name": "LayoutModel",
          "model_module_version": "1.2.0",
          "state": {
            "_model_module": "@jupyter-widgets/base",
            "_model_module_version": "1.2.0",
            "_model_name": "LayoutModel",
            "_view_count": null,
            "_view_module": "@jupyter-widgets/base",
            "_view_module_version": "1.2.0",
            "_view_name": "LayoutView",
            "align_content": null,
            "align_items": null,
            "align_self": null,
            "border": null,
            "bottom": null,
            "display": null,
            "flex": null,
            "flex_flow": null,
            "grid_area": null,
            "grid_auto_columns": null,
            "grid_auto_flow": null,
            "grid_auto_rows": null,
            "grid_column": null,
            "grid_gap": null,
            "grid_row": null,
            "grid_template_areas": null,
            "grid_template_columns": null,
            "grid_template_rows": null,
            "height": null,
            "justify_content": null,
            "justify_items": null,
            "left": null,
            "margin": null,
            "max_height": null,
            "max_width": null,
            "min_height": null,
            "min_width": null,
            "object_fit": null,
            "object_position": null,
            "order": null,
            "overflow": null,
            "overflow_x": null,
            "overflow_y": null,
            "padding": null,
            "right": null,
            "top": null,
            "visibility": null,
            "width": null
          }
        },
        "3e546b5b18804dd0bc7a4d708095da93": {
          "model_module": "@jupyter-widgets/controls",
          "model_name": "DescriptionStyleModel",
          "model_module_version": "1.5.0",
          "state": {
            "_model_module": "@jupyter-widgets/controls",
            "_model_module_version": "1.5.0",
            "_model_name": "DescriptionStyleModel",
            "_view_count": null,
            "_view_module": "@jupyter-widgets/base",
            "_view_module_version": "1.2.0",
            "_view_name": "StyleView",
            "description_width": ""
          }
        },
        "222905d642ef4e4da3979d9ce9bc0717": {
          "model_module": "@jupyter-widgets/base",
          "model_name": "LayoutModel",
          "model_module_version": "1.2.0",
          "state": {
            "_model_module": "@jupyter-widgets/base",
            "_model_module_version": "1.2.0",
            "_model_name": "LayoutModel",
            "_view_count": null,
            "_view_module": "@jupyter-widgets/base",
            "_view_module_version": "1.2.0",
            "_view_name": "LayoutView",
            "align_content": null,
            "align_items": null,
            "align_self": null,
            "border": null,
            "bottom": null,
            "display": null,
            "flex": null,
            "flex_flow": null,
            "grid_area": null,
            "grid_auto_columns": null,
            "grid_auto_flow": null,
            "grid_auto_rows": null,
            "grid_column": null,
            "grid_gap": null,
            "grid_row": null,
            "grid_template_areas": null,
            "grid_template_columns": null,
            "grid_template_rows": null,
            "height": null,
            "justify_content": null,
            "justify_items": null,
            "left": null,
            "margin": null,
            "max_height": null,
            "max_width": null,
            "min_height": null,
            "min_width": null,
            "object_fit": null,
            "object_position": null,
            "order": null,
            "overflow": null,
            "overflow_x": null,
            "overflow_y": null,
            "padding": null,
            "right": null,
            "top": null,
            "visibility": null,
            "width": null
          }
        },
        "8b8f2eaed7524b7184e6da9a28513409": {
          "model_module": "@jupyter-widgets/controls",
          "model_name": "ButtonStyleModel",
          "model_module_version": "1.5.0",
          "state": {
            "_model_module": "@jupyter-widgets/controls",
            "_model_module_version": "1.5.0",
            "_model_name": "ButtonStyleModel",
            "_view_count": null,
            "_view_module": "@jupyter-widgets/base",
            "_view_module_version": "1.2.0",
            "_view_name": "StyleView",
            "button_color": null,
            "font_weight": ""
          }
        },
        "b43a2870b21043d9b6cfcb1742dea65d": {
          "model_module": "@jupyter-widgets/base",
          "model_name": "LayoutModel",
          "model_module_version": "1.2.0",
          "state": {
            "_model_module": "@jupyter-widgets/base",
            "_model_module_version": "1.2.0",
            "_model_name": "LayoutModel",
            "_view_count": null,
            "_view_module": "@jupyter-widgets/base",
            "_view_module_version": "1.2.0",
            "_view_name": "LayoutView",
            "align_content": null,
            "align_items": null,
            "align_self": null,
            "border": null,
            "bottom": null,
            "display": null,
            "flex": null,
            "flex_flow": null,
            "grid_area": null,
            "grid_auto_columns": null,
            "grid_auto_flow": null,
            "grid_auto_rows": null,
            "grid_column": null,
            "grid_gap": null,
            "grid_row": null,
            "grid_template_areas": null,
            "grid_template_columns": null,
            "grid_template_rows": null,
            "height": null,
            "justify_content": null,
            "justify_items": null,
            "left": null,
            "margin": null,
            "max_height": null,
            "max_width": null,
            "min_height": null,
            "min_width": null,
            "object_fit": null,
            "object_position": null,
            "order": null,
            "overflow": null,
            "overflow_x": null,
            "overflow_y": null,
            "padding": null,
            "right": null,
            "top": null,
            "visibility": null,
            "width": null
          }
        },
        "7fecfe5ec608464a8b2b3d21f0733046": {
          "model_module": "@jupyter-widgets/controls",
          "model_name": "DescriptionStyleModel",
          "model_module_version": "1.5.0",
          "state": {
            "_model_module": "@jupyter-widgets/controls",
            "_model_module_version": "1.5.0",
            "_model_name": "DescriptionStyleModel",
            "_view_count": null,
            "_view_module": "@jupyter-widgets/base",
            "_view_module_version": "1.2.0",
            "_view_name": "StyleView",
            "description_width": ""
          }
        },
        "198e241f53244891bdf34e0c5fdd6da9": {
          "model_module": "@jupyter-widgets/controls",
          "model_name": "LabelModel",
          "model_module_version": "1.5.0",
          "state": {
            "_dom_classes": [],
            "_model_module": "@jupyter-widgets/controls",
            "_model_module_version": "1.5.0",
            "_model_name": "LabelModel",
            "_view_count": null,
            "_view_module": "@jupyter-widgets/controls",
            "_view_module_version": "1.5.0",
            "_view_name": "LabelView",
            "description": "",
            "description_tooltip": null,
            "layout": "IPY_MODEL_f31dd124a732434a830a74f06b4489a6",
            "placeholder": "​",
            "style": "IPY_MODEL_7cce6a310a28429b8d16e75bee3376ec",
            "value": "Connecting..."
          }
        },
        "f31dd124a732434a830a74f06b4489a6": {
          "model_module": "@jupyter-widgets/base",
          "model_name": "LayoutModel",
          "model_module_version": "1.2.0",
          "state": {
            "_model_module": "@jupyter-widgets/base",
            "_model_module_version": "1.2.0",
            "_model_name": "LayoutModel",
            "_view_count": null,
            "_view_module": "@jupyter-widgets/base",
            "_view_module_version": "1.2.0",
            "_view_name": "LayoutView",
            "align_content": null,
            "align_items": null,
            "align_self": null,
            "border": null,
            "bottom": null,
            "display": null,
            "flex": null,
            "flex_flow": null,
            "grid_area": null,
            "grid_auto_columns": null,
            "grid_auto_flow": null,
            "grid_auto_rows": null,
            "grid_column": null,
            "grid_gap": null,
            "grid_row": null,
            "grid_template_areas": null,
            "grid_template_columns": null,
            "grid_template_rows": null,
            "height": null,
            "justify_content": null,
            "justify_items": null,
            "left": null,
            "margin": null,
            "max_height": null,
            "max_width": null,
            "min_height": null,
            "min_width": null,
            "object_fit": null,
            "object_position": null,
            "order": null,
            "overflow": null,
            "overflow_x": null,
            "overflow_y": null,
            "padding": null,
            "right": null,
            "top": null,
            "visibility": null,
            "width": null
          }
        },
        "7cce6a310a28429b8d16e75bee3376ec": {
          "model_module": "@jupyter-widgets/controls",
          "model_name": "DescriptionStyleModel",
          "model_module_version": "1.5.0",
          "state": {
            "_model_module": "@jupyter-widgets/controls",
            "_model_module_version": "1.5.0",
            "_model_name": "DescriptionStyleModel",
            "_view_count": null,
            "_view_module": "@jupyter-widgets/base",
            "_view_module_version": "1.2.0",
            "_view_name": "StyleView",
            "description_width": ""
          }
        }
      }
    }
  },
  "nbformat": 4,
  "nbformat_minor": 0
}